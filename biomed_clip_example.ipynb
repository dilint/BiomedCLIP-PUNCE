{
  "cells": [
    {
      "cell_type": "markdown",
      "metadata": {
        "id": "t8BYG2CFF6wD"
      },
      "source": [
        "### Install libraries\n",
        "<font color='red'>**Make sure to restart the Colab runtime after installation**</font>\n",
        "\n",
        "Colab Menu -> Runtime -> Restart runtime"
      ]
    },
    {
      "cell_type": "code",
      "execution_count": null,
      "metadata": {
        "colab": {
          "base_uri": "https://localhost:8080/"
        },
        "id": "nUAkSVJ90DQs",
        "outputId": "7f3d4fdb-8cab-4269-d10f-0e03c6e882d1"
      },
      "outputs": [],
      "source": [
        "!pip install open_clip_torch transformers matplotlib"
      ]
    },
    {
      "cell_type": "markdown",
      "metadata": {
        "id": "kaOyeKkjqnri"
      },
      "source": [
        "## Load BiomedCLIP model"
      ]
    },
    {
      "cell_type": "code",
      "execution_count": null,
      "metadata": {
        "colab": {
          "base_uri": "https://localhost:8080/"
        },
        "id": "V8Yv9g_8EQ1W",
        "outputId": "3ec24c9b-4c4f-4c17-8d76-6cfd74bb8bdf"
      },
      "outputs": [],
      "source": [
        "import open_clip\n",
        "\n",
        "model, preprocess_train, preprocess_val = open_clip.create_model_and_transforms('hf-hub:microsoft/BiomedCLIP-PubMedBERT_256-vit_base_patch16_224')\n",
        "tokenizer = open_clip.get_tokenizer('hf-hub:microsoft/BiomedCLIP-PubMedBERT_256-vit_base_patch16_224')"
      ]
    },
    {
      "cell_type": "markdown",
      "metadata": {
        "id": "bk0hm1R7qqU_"
      },
      "source": [
        "# Download sample images"
      ]
    },
    {
      "cell_type": "code",
      "execution_count": null,
      "metadata": {
        "colab": {
          "base_uri": "https://localhost:8080/",
          "height": 67,
          "referenced_widgets": [
            "692f8c386f9743a1a12f7d6c7959ca67",
            "3e0f188e73294f6ea4d1e28640cfdc22",
            "b754e18c5c49499d92db4803cfa426b7",
            "6743cbc5ca2c47e7be565e0d6cd933c9",
            "02aa2c49f2a94a7eb48794ed783c93e8",
            "ad84c0ed082d4ab7abf2815fc1910efa",
            "87a18840cc2c45ac824e8fe3d83d5150",
            "0b3b4fc0e99a47d0a494aee20166337f",
            "2de24c12eebd4054a3e6163fb6951986",
            "1c9af9a39e594c689590d09ae71baeb3",
            "182cc15b918a45d081543a6b3f182a07"
          ]
        },
        "id": "qqafKW1kqgc4",
        "outputId": "34c29f78-32c5-4a6f-914e-30e8a07840a6"
      },
      "outputs": [],
      "source": [
        "from huggingface_hub import snapshot_download\n",
        "snapshot_download(\"microsoft/BiomedCLIP-PubMedBERT_256-vit_base_patch16_224\", local_dir=\"biomed-clip-share\")"
      ]
    },
    {
      "cell_type": "code",
      "execution_count": null,
      "metadata": {
        "colab": {
          "base_uri": "https://localhost:8080/"
        },
        "id": "4WOxBdKr0e_m",
        "outputId": "2a05beae-6f5f-4c3c-ef59-b23210b6e1b5"
      },
      "outputs": [],
      "source": [
        "!dir biomed-clip-share"
      ]
    },
    {
      "cell_type": "markdown",
      "metadata": {
        "id": "_11A5zFuGfkG"
      },
      "source": [
        "### Example: Zero-shot classifications"
      ]
    },
    {
      "cell_type": "code",
      "execution_count": null,
      "metadata": {
        "colab": {
          "base_uri": "https://localhost:8080/"
        },
        "id": "XSJw7Qpm1w-f",
        "outputId": "c8e69acc-09a6-41ac-a719-e0c2016e41d8"
      },
      "outputs": [],
      "source": [
        "import glob\n",
        "from collections import OrderedDict\n",
        "\n",
        "import torch\n",
        "from PIL import Image\n",
        "import open_clip\n",
        "\n",
        "dataset_path = 'test-imgs'\n",
        "template = 'this is a photo of '\n",
        "labels = [\n",
        "    'adenocarcinoma histopathology',\n",
        "    'brain MRI',\n",
        "    'covid line chart',\n",
        "    'squamous cell carcinoma histopathology',\n",
        "    'immunohistochemistry histopathology',\n",
        "    'bone X-ray',\n",
        "    'chest X-ray',\n",
        "    'pie chart',\n",
        "    'hematoxylin and eosin histopathology'\n",
        "]\n",
        "\n",
        "test_imgs = glob.glob(dataset_path + '/*')\n",
        "\n",
        "device = torch.device('cuda') if torch.cuda.is_available() else torch.device('cpu')\n",
        "model.to(device)\n",
        "model.eval()\n",
        "\n",
        "context_length = 256\n",
        "\n",
        "images = torch.stack([preprocess_val(Image.open(img)) for img in test_imgs]).to(device)\n",
        "texts = tokenizer([template + l for l in labels], context_length=context_length).to(device)\n",
        "with torch.no_grad():\n",
        "    \n",
        "    # image_features @ text_features.t()执行了图像特征和文本特征之间的点积操作，生成了一个分数矩阵。然后，通过乘以logit_scale对分数矩阵进行缩放。这个缩放过程可以增加或减小点积的值，从而影响最终的logits结果。\n",
        "    \n",
        "    image_features, text_features, logit_scale = model(images, texts)\n",
        "\n",
        "    logits = (logit_scale * image_features @ text_features.t()).detach().softmax(dim=-1)\n",
        "    sorted_indices = torch.argsort(logits, dim=-1, descending=True)\n",
        "\n",
        "    logits = logits.cpu().numpy()\n",
        "    sorted_indices = sorted_indices.cpu().numpy()\n",
        "\n",
        "top_k = -1\n",
        "\n",
        "for i, img in enumerate(test_imgs):\n",
        "    pred = labels[sorted_indices[i][0]]\n",
        "\n",
        "    top_k = len(labels) if top_k == -1 else top_k\n",
        "    print(img.split('/')[-1] + ':')\n",
        "    for j in range(top_k):\n",
        "        jth_index = sorted_indices[i][j]\n",
        "        print(f'{labels[jth_index]}: {logits[i][jth_index]}')\n",
        "    print('\\n')"
      ]
    },
    {
      "cell_type": "markdown",
      "metadata": {
        "id": "kIZEaLJB5H6A"
      },
      "source": [
        "<h2>Expected outputs</h2>\n",
        "<details>\n",
        "<pre>\n",
        "adenocarcinoma_histopathology.jpg:\n",
        "adenocarcinoma histopathology: 0.7818863987922668\n",
        "hematoxylin and eosin histopathology: 0.15517690777778625\n",
        "immunohistochemistry histopathology: 0.06149514392018318\n",
        "squamous cell carcinoma histopathology: 0.0014182085869833827\n",
        "chest X-ray: 2.017213228100445e-05\n",
        "brain MRI: 1.2181524198240368e-06\n",
        "pie chart: 7.932688959044754e-07\n",
        "bone X-ray: 7.436410101036017e-07\n",
        "covid line chart: 4.482610052036762e-07\n",
        "\n",
        "\n",
        "covid_line_chart.png:\n",
        "covid line chart: 0.9493210315704346\n",
        "adenocarcinoma histopathology: 0.01898195780813694\n",
        "squamous cell carcinoma histopathology: 0.0175501499325037\n",
        "immunohistochemistry histopathology: 0.006791787222027779\n",
        "hematoxylin and eosin histopathology: 0.003417333820834756\n",
        "brain MRI: 0.002629919210448861\n",
        "chest X-ray: 0.0010041205678135157\n",
        "bone X-ray: 0.00024685842799954116\n",
        "pie chart: 5.6812208640621975e-05\n",
        "\n",
        "\n",
        "bone_X-ray.jpg:\n",
        "bone X-ray: 0.9037961959838867\n",
        "hematoxylin and eosin histopathology: 0.07279316335916519\n",
        "brain MRI: 0.013534954749047756\n",
        "chest X-ray: 0.00821212213486433\n",
        "immunohistochemistry histopathology: 0.001647887285798788\n",
        "squamous cell carcinoma histopathology: 1.418814281350933e-05\n",
        "covid line chart: 1.1351590956110158e-06\n",
        "adenocarcinoma histopathology: 2.3802124360372545e-07\n",
        "pie chart: 9.433303205241828e-08\n",
        "\n",
        "\n",
        "pie_chart.png:\n",
        "pie chart: 0.999992847442627\n",
        "covid line chart: 6.056906840967713e-06\n",
        "brain MRI: 6.212158041307703e-07\n",
        "bone X-ray: 1.870277799298492e-07\n",
        "chest X-ray: 1.4315827456812258e-07\n",
        "immunohistochemistry histopathology: 7.397970591682679e-08\n",
        "hematoxylin and eosin histopathology: 1.3329795045535775e-08\n",
        "adenocarcinoma histopathology: 7.695367898463701e-09\n",
        "squamous cell carcinoma histopathology: 4.512833662317917e-09\n",
        "\n",
        "\n",
        "H_and_E_histopathology.jpg:\n",
        "hematoxylin and eosin histopathology: 0.7953251600265503\n",
        "immunohistochemistry histopathology: 0.19779996573925018\n",
        "chest X-ray: 0.005973907187581062\n",
        "bone X-ray: 0.0008049230673350394\n",
        "adenocarcinoma histopathology: 9.133991261478513e-05\n",
        "squamous cell carcinoma histopathology: 3.6423973597266013e-06\n",
        "brain MRI: 6.688684948130685e-07\n",
        "pie chart: 4.278819574210502e-07\n",
        "covid line chart: 3.051619401617245e-08\n",
        "\n",
        "\n",
        "brain_MRI.jpg:\n",
        "brain MRI: 0.9565795660018921\n",
        "hematoxylin and eosin histopathology: 0.041418157517910004\n",
        "immunohistochemistry histopathology: 0.0019450499676167965\n",
        "pie chart: 2.7151252652402036e-05\n",
        "squamous cell carcinoma histopathology: 1.0223812751064543e-05\n",
        "bone X-ray: 8.662499567435589e-06\n",
        "chest X-ray: 7.96773747424595e-06\n",
        "adenocarcinoma histopathology: 2.7692055937222904e-06\n",
        "covid line chart: 3.420084908611898e-07\n",
        "\n",
        "\n",
        "chest_X-ray.jpg:\n",
        "chest X-ray: 0.9998347759246826\n",
        "hematoxylin and eosin histopathology: 0.0001205605294671841\n",
        "bone X-ray: 4.112880560569465e-05\n",
        "immunohistochemistry histopathology: 1.0486423889233265e-06\n",
        "adenocarcinoma histopathology: 9.66637117016944e-07\n",
        "covid line chart: 9.508977996119938e-07\n",
        "brain MRI: 3.232386518448038e-07\n",
        "squamous cell carcinoma histopathology: 2.53368597213921e-07\n",
        "pie chart: 3.6984038054299617e-09\n",
        "\n",
        "\n",
        "squamous_cell_carcinoma_histopathology.jpeg:\n",
        "squamous cell carcinoma histopathology: 0.9469489455223083\n",
        "adenocarcinoma histopathology: 0.05259034037590027\n",
        "hematoxylin and eosin histopathology: 0.0003988408425357193\n",
        "immunohistochemistry histopathology: 6.187965482240543e-05\n",
        "chest X-ray: 1.4099594380923008e-08\n",
        "pie chart: 3.522500624519864e-10\n",
        "bone X-ray: 2.9633814846441453e-10\n",
        "brain MRI: 1.2720452469139332e-10\n",
        "covid line chart: 1.8425603924565603e-12\n",
        "\n",
        "\n",
        "IHC_histopathology.jpg:\n",
        "immunohistochemistry histopathology: 0.9465934634208679\n",
        "hematoxylin and eosin histopathology: 0.03232448548078537\n",
        "brain MRI: 0.020657211542129517\n",
        "adenocarcinoma histopathology: 0.000304735847748816\n",
        "bone X-ray: 4.5735167077509686e-05\n",
        "squamous cell carcinoma histopathology: 3.150868360535242e-05\n",
        "covid line chart: 2.0559578842949122e-05\n",
        "chest X-ray: 1.2715442608168814e-05\n",
        "pie chart: 9.55282575887395e-06\n",
        "</pre>\n",
        "</details>"
      ]
    },
    {
      "cell_type": "code",
      "execution_count": null,
      "metadata": {
        "colab": {
          "base_uri": "https://localhost:8080/",
          "height": 1000
        },
        "id": "zE5vznWj2CCf",
        "outputId": "34d02bdd-3a87-4bf5-807b-42800a6d0170"
      },
      "outputs": [],
      "source": [
        "import matplotlib.pyplot as plt\n",
        "\n",
        "def plot_images_with_metadata(images, metadata):\n",
        "    num_images = len(images)\n",
        "    fig, axes = plt.subplots(nrows=num_images, ncols=1, figsize=(5, 5 * num_images))\n",
        "\n",
        "    for i, (img_path, metadata) in enumerate(zip(images, metadata)):\n",
        "        img = Image.open(img_path)\n",
        "        ax = axes[i]\n",
        "        ax.imshow(img)\n",
        "        ax.axis('off')\n",
        "        ax.set_title(f\"{metadata['filename']}\\n{metadata['top_probs']}\", fontsize=14)\n",
        "\n",
        "    plt.tight_layout()\n",
        "    plt.show()\n",
        "\n",
        "metadata_list = []\n",
        "\n",
        "top_k = 3\n",
        "for i, img in enumerate(test_imgs):\n",
        "    pred = labels[sorted_indices[i][0]]\n",
        "    img_name = img.split('/')[-1]\n",
        "\n",
        "    top_probs = []\n",
        "    top_k = len(labels) if top_k == -1 else top_k\n",
        "    for j in range(top_k):\n",
        "        jth_index = sorted_indices[i][j]\n",
        "        top_probs.append(f\"{labels[jth_index]}: {logits[i][jth_index] * 100:.1f}\")\n",
        "\n",
        "    metadata = {'filename': img_name, 'top_probs': '\\n'.join(top_probs)}\n",
        "    metadata_list.append(metadata)\n",
        "\n",
        "plot_images_with_metadata(test_imgs, metadata_list)"
      ]
    },
    {
      "cell_type": "code",
      "execution_count": null,
      "metadata": {
        "id": "9i86dr-947h9"
      },
      "outputs": [],
      "source": []
    }
  ],
  "metadata": {
    "colab": {
      "provenance": []
    },
    "kernelspec": {
      "display_name": "Python 3.9.13 ('biomed-clip')",
      "language": "python",
      "name": "python3"
    },
    "language_info": {
      "codemirror_mode": {
        "name": "ipython",
        "version": 3
      },
      "file_extension": ".py",
      "mimetype": "text/x-python",
      "name": "python",
      "nbconvert_exporter": "python",
      "pygments_lexer": "ipython3",
      "version": "3.9.13"
    },
    "vscode": {
      "interpreter": {
        "hash": "7cb5855cefb5e02dc34c4de578bb315cb99c7d65be2e4fad60d8d2596700f443"
      }
    },
    "widgets": {
      "application/vnd.jupyter.widget-state+json": {
        "02aa2c49f2a94a7eb48794ed783c93e8": {
          "model_module": "@jupyter-widgets/base",
          "model_module_version": "1.2.0",
          "model_name": "LayoutModel",
          "state": {
            "_model_module": "@jupyter-widgets/base",
            "_model_module_version": "1.2.0",
            "_model_name": "LayoutModel",
            "_view_count": null,
            "_view_module": "@jupyter-widgets/base",
            "_view_module_version": "1.2.0",
            "_view_name": "LayoutView",
            "align_content": null,
            "align_items": null,
            "align_self": null,
            "border": null,
            "bottom": null,
            "display": null,
            "flex": null,
            "flex_flow": null,
            "grid_area": null,
            "grid_auto_columns": null,
            "grid_auto_flow": null,
            "grid_auto_rows": null,
            "grid_column": null,
            "grid_gap": null,
            "grid_row": null,
            "grid_template_areas": null,
            "grid_template_columns": null,
            "grid_template_rows": null,
            "height": null,
            "justify_content": null,
            "justify_items": null,
            "left": null,
            "margin": null,
            "max_height": null,
            "max_width": null,
            "min_height": null,
            "min_width": null,
            "object_fit": null,
            "object_position": null,
            "order": null,
            "overflow": null,
            "overflow_x": null,
            "overflow_y": null,
            "padding": null,
            "right": null,
            "top": null,
            "visibility": null,
            "width": null
          }
        },
        "0b3b4fc0e99a47d0a494aee20166337f": {
          "model_module": "@jupyter-widgets/base",
          "model_module_version": "1.2.0",
          "model_name": "LayoutModel",
          "state": {
            "_model_module": "@jupyter-widgets/base",
            "_model_module_version": "1.2.0",
            "_model_name": "LayoutModel",
            "_view_count": null,
            "_view_module": "@jupyter-widgets/base",
            "_view_module_version": "1.2.0",
            "_view_name": "LayoutView",
            "align_content": null,
            "align_items": null,
            "align_self": null,
            "border": null,
            "bottom": null,
            "display": null,
            "flex": null,
            "flex_flow": null,
            "grid_area": null,
            "grid_auto_columns": null,
            "grid_auto_flow": null,
            "grid_auto_rows": null,
            "grid_column": null,
            "grid_gap": null,
            "grid_row": null,
            "grid_template_areas": null,
            "grid_template_columns": null,
            "grid_template_rows": null,
            "height": null,
            "justify_content": null,
            "justify_items": null,
            "left": null,
            "margin": null,
            "max_height": null,
            "max_width": null,
            "min_height": null,
            "min_width": null,
            "object_fit": null,
            "object_position": null,
            "order": null,
            "overflow": null,
            "overflow_x": null,
            "overflow_y": null,
            "padding": null,
            "right": null,
            "top": null,
            "visibility": null,
            "width": null
          }
        },
        "182cc15b918a45d081543a6b3f182a07": {
          "model_module": "@jupyter-widgets/controls",
          "model_module_version": "1.5.0",
          "model_name": "DescriptionStyleModel",
          "state": {
            "_model_module": "@jupyter-widgets/controls",
            "_model_module_version": "1.5.0",
            "_model_name": "DescriptionStyleModel",
            "_view_count": null,
            "_view_module": "@jupyter-widgets/base",
            "_view_module_version": "1.2.0",
            "_view_name": "StyleView",
            "description_width": ""
          }
        },
        "1c9af9a39e594c689590d09ae71baeb3": {
          "model_module": "@jupyter-widgets/base",
          "model_module_version": "1.2.0",
          "model_name": "LayoutModel",
          "state": {
            "_model_module": "@jupyter-widgets/base",
            "_model_module_version": "1.2.0",
            "_model_name": "LayoutModel",
            "_view_count": null,
            "_view_module": "@jupyter-widgets/base",
            "_view_module_version": "1.2.0",
            "_view_name": "LayoutView",
            "align_content": null,
            "align_items": null,
            "align_self": null,
            "border": null,
            "bottom": null,
            "display": null,
            "flex": null,
            "flex_flow": null,
            "grid_area": null,
            "grid_auto_columns": null,
            "grid_auto_flow": null,
            "grid_auto_rows": null,
            "grid_column": null,
            "grid_gap": null,
            "grid_row": null,
            "grid_template_areas": null,
            "grid_template_columns": null,
            "grid_template_rows": null,
            "height": null,
            "justify_content": null,
            "justify_items": null,
            "left": null,
            "margin": null,
            "max_height": null,
            "max_width": null,
            "min_height": null,
            "min_width": null,
            "object_fit": null,
            "object_position": null,
            "order": null,
            "overflow": null,
            "overflow_x": null,
            "overflow_y": null,
            "padding": null,
            "right": null,
            "top": null,
            "visibility": null,
            "width": null
          }
        },
        "2de24c12eebd4054a3e6163fb6951986": {
          "model_module": "@jupyter-widgets/controls",
          "model_module_version": "1.5.0",
          "model_name": "ProgressStyleModel",
          "state": {
            "_model_module": "@jupyter-widgets/controls",
            "_model_module_version": "1.5.0",
            "_model_name": "ProgressStyleModel",
            "_view_count": null,
            "_view_module": "@jupyter-widgets/base",
            "_view_module_version": "1.2.0",
            "_view_name": "StyleView",
            "bar_color": null,
            "description_width": ""
          }
        },
        "3e0f188e73294f6ea4d1e28640cfdc22": {
          "model_module": "@jupyter-widgets/controls",
          "model_module_version": "1.5.0",
          "model_name": "HTMLModel",
          "state": {
            "_dom_classes": [],
            "_model_module": "@jupyter-widgets/controls",
            "_model_module_version": "1.5.0",
            "_model_name": "HTMLModel",
            "_view_count": null,
            "_view_module": "@jupyter-widgets/controls",
            "_view_module_version": "1.5.0",
            "_view_name": "HTMLView",
            "description": "",
            "description_tooltip": null,
            "layout": "IPY_MODEL_ad84c0ed082d4ab7abf2815fc1910efa",
            "placeholder": "​",
            "style": "IPY_MODEL_87a18840cc2c45ac824e8fe3d83d5150",
            "value": "Fetching 21 files: 100%"
          }
        },
        "6743cbc5ca2c47e7be565e0d6cd933c9": {
          "model_module": "@jupyter-widgets/controls",
          "model_module_version": "1.5.0",
          "model_name": "HTMLModel",
          "state": {
            "_dom_classes": [],
            "_model_module": "@jupyter-widgets/controls",
            "_model_module_version": "1.5.0",
            "_model_name": "HTMLModel",
            "_view_count": null,
            "_view_module": "@jupyter-widgets/controls",
            "_view_module_version": "1.5.0",
            "_view_name": "HTMLView",
            "description": "",
            "description_tooltip": null,
            "layout": "IPY_MODEL_1c9af9a39e594c689590d09ae71baeb3",
            "placeholder": "​",
            "style": "IPY_MODEL_182cc15b918a45d081543a6b3f182a07",
            "value": " 21/21 [00:00&lt;00:00, 20.35it/s]"
          }
        },
        "692f8c386f9743a1a12f7d6c7959ca67": {
          "model_module": "@jupyter-widgets/controls",
          "model_module_version": "1.5.0",
          "model_name": "HBoxModel",
          "state": {
            "_dom_classes": [],
            "_model_module": "@jupyter-widgets/controls",
            "_model_module_version": "1.5.0",
            "_model_name": "HBoxModel",
            "_view_count": null,
            "_view_module": "@jupyter-widgets/controls",
            "_view_module_version": "1.5.0",
            "_view_name": "HBoxView",
            "box_style": "",
            "children": [
              "IPY_MODEL_3e0f188e73294f6ea4d1e28640cfdc22",
              "IPY_MODEL_b754e18c5c49499d92db4803cfa426b7",
              "IPY_MODEL_6743cbc5ca2c47e7be565e0d6cd933c9"
            ],
            "layout": "IPY_MODEL_02aa2c49f2a94a7eb48794ed783c93e8"
          }
        },
        "87a18840cc2c45ac824e8fe3d83d5150": {
          "model_module": "@jupyter-widgets/controls",
          "model_module_version": "1.5.0",
          "model_name": "DescriptionStyleModel",
          "state": {
            "_model_module": "@jupyter-widgets/controls",
            "_model_module_version": "1.5.0",
            "_model_name": "DescriptionStyleModel",
            "_view_count": null,
            "_view_module": "@jupyter-widgets/base",
            "_view_module_version": "1.2.0",
            "_view_name": "StyleView",
            "description_width": ""
          }
        },
        "ad84c0ed082d4ab7abf2815fc1910efa": {
          "model_module": "@jupyter-widgets/base",
          "model_module_version": "1.2.0",
          "model_name": "LayoutModel",
          "state": {
            "_model_module": "@jupyter-widgets/base",
            "_model_module_version": "1.2.0",
            "_model_name": "LayoutModel",
            "_view_count": null,
            "_view_module": "@jupyter-widgets/base",
            "_view_module_version": "1.2.0",
            "_view_name": "LayoutView",
            "align_content": null,
            "align_items": null,
            "align_self": null,
            "border": null,
            "bottom": null,
            "display": null,
            "flex": null,
            "flex_flow": null,
            "grid_area": null,
            "grid_auto_columns": null,
            "grid_auto_flow": null,
            "grid_auto_rows": null,
            "grid_column": null,
            "grid_gap": null,
            "grid_row": null,
            "grid_template_areas": null,
            "grid_template_columns": null,
            "grid_template_rows": null,
            "height": null,
            "justify_content": null,
            "justify_items": null,
            "left": null,
            "margin": null,
            "max_height": null,
            "max_width": null,
            "min_height": null,
            "min_width": null,
            "object_fit": null,
            "object_position": null,
            "order": null,
            "overflow": null,
            "overflow_x": null,
            "overflow_y": null,
            "padding": null,
            "right": null,
            "top": null,
            "visibility": null,
            "width": null
          }
        },
        "b754e18c5c49499d92db4803cfa426b7": {
          "model_module": "@jupyter-widgets/controls",
          "model_module_version": "1.5.0",
          "model_name": "FloatProgressModel",
          "state": {
            "_dom_classes": [],
            "_model_module": "@jupyter-widgets/controls",
            "_model_module_version": "1.5.0",
            "_model_name": "FloatProgressModel",
            "_view_count": null,
            "_view_module": "@jupyter-widgets/controls",
            "_view_module_version": "1.5.0",
            "_view_name": "ProgressView",
            "bar_style": "success",
            "description": "",
            "description_tooltip": null,
            "layout": "IPY_MODEL_0b3b4fc0e99a47d0a494aee20166337f",
            "max": 21,
            "min": 0,
            "orientation": "horizontal",
            "style": "IPY_MODEL_2de24c12eebd4054a3e6163fb6951986",
            "value": 21
          }
        }
      }
    }
  },
  "nbformat": 4,
  "nbformat_minor": 0
}
