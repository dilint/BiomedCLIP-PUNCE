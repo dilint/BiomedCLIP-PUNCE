{
 "cells": [
  {
   "cell_type": "code",
   "execution_count": 5,
   "metadata": {},
   "outputs": [
    {
     "name": "stdout",
     "output_type": "stream",
     "text": [
      "torch.Size([5, 9])\n"
     ]
    }
   ],
   "source": [
    "from vit_wsi.model_v1 import Model_V1\n",
    "import argparse\n",
    "import torch\n",
    "\n",
    "args = argparse.ArgumentParser()\n",
    "args.in_dims = 256\n",
    "args.num_classes = [1,5,3]\n",
    "args.depth = 4\n",
    "args.num_heads = 4\n",
    "args.proj_drop = 0.02\n",
    "args.attn_drop = 0.02\n",
    "args.drop_path = 0.01\n",
    "\n",
    "model = Model_V1(\n",
    "    in_dims=args.in_dims,\n",
    "    num_classes=args.num_classes,\n",
    "    depth=args.depth,\n",
    "    num_heads=args.num_heads,\n",
    "    proj_drop=args.proj_drop,\n",
    "    attn_drop=args.attn_drop,\n",
    "    drop_path=args.drop_path,\n",
    ")\n",
    "\n",
    "size = (5, 10, 100, 256) # [B, N, M, C]\n",
    "mask = torch.ones(size[0], size[1], size[2])\n",
    "a = torch.randn(size)\n",
    "output = model(a, mask)\n",
    "print(output.shape)"
   ]
  },
  {
   "cell_type": "code",
   "execution_count": 6,
   "metadata": {},
   "outputs": [
    {
     "name": "stdout",
     "output_type": "stream",
     "text": [
      "10.799324989318848\n"
     ]
    }
   ],
   "source": [
    "def count_parameters(model):\n",
    "    params = sum(p.numel() for p in model.parameters() if p.requires_grad)\n",
    "    params /= 1024 ** 2\n",
    "    return params\n",
    "print(count_parameters(model))"
   ]
  },
  {
   "cell_type": "code",
   "execution_count": 9,
   "metadata": {},
   "outputs": [
    {
     "data": {
      "text/plain": [
       "(8868, 986, 896)"
      ]
     },
     "execution_count": 9,
     "metadata": {},
     "output_type": "execute_result"
    }
   ],
   "source": [
    "import os\n",
    "import pandas as pd\n",
    "\n",
    "label_dir = '/data/wsi/TCTGC10k-labels/9_labels'\n",
    "train_val_path = os.path.join(label_dir, 'train_val.csv')\n",
    "test_path = os.path.join(label_dir, 'test_label.csv')\n",
    "\n",
    "df1 = pd.read_csv(train_val_path, header=None)\n",
    "df2 = pd.read_csv(test_path, header=None)\n",
    "df1_wsi = df1[0].values\n",
    "df2_wsi = df2[0].values\n",
    "len(df1_wsi), len(df2_wsi)\n",
    "set1 = set(df1_wsi)\n",
    "set2 = set(df2_wsi)\n",
    "len(set1), len(set2), len(set1 & set2)"
   ]
  }
 ],
 "metadata": {
  "kernelspec": {
   "display_name": "biomed",
   "language": "python",
   "name": "python3"
  },
  "language_info": {
   "codemirror_mode": {
    "name": "ipython",
    "version": 3
   },
   "file_extension": ".py",
   "mimetype": "text/x-python",
   "name": "python",
   "nbconvert_exporter": "python",
   "pygments_lexer": "ipython3",
   "version": "3.8.18"
  },
  "orig_nbformat": 4
 },
 "nbformat": 4,
 "nbformat_minor": 2
}
