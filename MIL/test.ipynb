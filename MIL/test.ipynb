{
 "cells": [
  {
   "cell_type": "code",
   "execution_count": 15,
   "metadata": {},
   "outputs": [
    {
     "name": "stdout",
     "output_type": "stream",
     "text": [
      "torch.Size([9])\n",
      "tensor([1, 1, 0, 1, 2, 2, 2, 2, 2])\n"
     ]
    }
   ],
   "source": [
    "from dataloader import GcMTLDataset\n",
    "import pandas as pd\n",
    "import torch\n",
    "\n",
    "label_path = '/home/huangjialong/projects/BiomedCLIP-PUNCE/datatools/gc/n-labels/all_label.csv'\n",
    "df = pd.read_csv(label_path, header=None)\n",
    "keep_same_psize = 1000\n",
    "file_name = df.iloc[:, 0].values\n",
    "file_label = df.iloc[:, 1].values\n",
    "root = '/data/wsi/TCTGC2625-features/plip-fine'\n",
    "num_classes = [5]\n",
    "num_task = 0\n",
    "fine_concat = True\n",
    "dataset = GcMTLDataset(file_name, file_label,root, num_task, num_classes, fine_concat=fine_concat, keep_same_psize=keep_same_psize)\n",
    "# dataset = GcMTLFineDataset(file_name, file_label,root, num_task, num_classes, fine_concat=fine_concat)\n",
    "data_loader = torch.utils.data.DataLoader(dataset, batch_size=100, shuffle=False, num_workers=0, pin_memory=True)\n",
    "for i, (f, l, t, f) in enumerate(data_loader):\n",
    "    print(l.shape)\n",
    "    print(t)"
   ]
  },
  {
   "cell_type": "code",
   "execution_count": 18,
   "metadata": {},
   "outputs": [
    {
     "name": "stdout",
     "output_type": "stream",
     "text": [
      "9854\n"
     ]
    },
    {
     "data": {
      "text/plain": [
       "0"
      ]
     },
     "execution_count": 18,
     "metadata": {},
     "output_type": "execute_result"
    }
   ],
   "source": [
    "import torch\n",
    "import pandas as pd\n",
    "import shutil, os\n",
    "from tqdm import tqdm\n",
    "\n",
    "fn = '/data/wsi/TCTGC50k-labels/TCTGC50k-volume1-labels-path.csv'\n",
    "df = pd.read_csv(fn)\n",
    "label_wsi_names = df['wsi_name'].tolist()\n",
    "label_wsi_names = [i.replace('.pt', '') for i in label_wsi_names]\n",
    "print(len(label_wsi_names))\n",
    "wsi_path = '/data/wsi/TCTGC50k/TCTGC50k-volume1'\n",
    "output_wsi_path = '/data/wsi/TCTGC50k/TCTGC50k-volume-deprecated13'\n",
    "wsi_names = os.listdir(wsi_path)\n",
    "diff = set(wsi_names) - set(label_wsi_names)\n",
    "diff = list(diff)\n",
    "len(diff)"
   ]
  },
  {
   "cell_type": "code",
   "execution_count": 17,
   "metadata": {},
   "outputs": [],
   "source": [
    "# for i in diff:\n",
    "#     shutil.move(os.path.join(wsi_path, i), os.path.join(output_wsi_path, i))"
   ]
  },
  {
   "cell_type": "code",
   "execution_count": 2,
   "metadata": {},
   "outputs": [
    {
     "name": "stdout",
     "output_type": "stream",
     "text": [
      "0.19251346588134766\n",
      "torch.Size([5, 9])\n"
     ]
    }
   ],
   "source": [
    "import torch\n",
    "from model import MIL_MTL\n",
    "\n",
    "def count_parameters(model):\n",
    "    params = sum(p.numel() for p in model.parameters() if p.requires_grad)\n",
    "    params /= 1024 ** 2\n",
    "    return params\n",
    "\n",
    "num_task = 3\n",
    "num_classes=[1,5,3]\n",
    "input_dim = 256\n",
    "model2 = MIL_MTL(num_classes=num_classes, num_task=num_task, input_dim=input_dim)\n",
    "print((count_parameters(model2)))\n",
    "\n",
    "size = (5, 10, 256) # [B, N, C]\n",
    "mask = torch.ones(size[0], size[1], size[2])\n",
    "a = torch.randn(size)\n",
    "task_id = torch.randint(0, num_task, (size[0],))\n",
    "output = model2(a, task_id)\n",
    "print(output.shape)\n",
    "# print(output.shape)"
   ]
  },
  {
   "cell_type": "code",
   "execution_count": null,
   "metadata": {},
   "outputs": [],
   "source": [
    "from dataloader import GcMTLDataset\n",
    "\n",
    "\n",
    "\n"
   ]
  }
 ],
 "metadata": {
  "kernelspec": {
   "display_name": "biomed",
   "language": "python",
   "name": "python3"
  },
  "language_info": {
   "codemirror_mode": {
    "name": "ipython",
    "version": 3
   },
   "file_extension": ".py",
   "mimetype": "text/x-python",
   "name": "python",
   "nbconvert_exporter": "python",
   "pygments_lexer": "ipython3",
   "version": "3.8.18"
  },
  "orig_nbformat": 4
 },
 "nbformat": 4,
 "nbformat_minor": 2
}
