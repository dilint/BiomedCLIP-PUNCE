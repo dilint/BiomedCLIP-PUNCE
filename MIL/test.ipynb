{
 "cells": [
  {
   "cell_type": "code",
   "execution_count": 15,
   "metadata": {},
   "outputs": [
    {
     "name": "stdout",
     "output_type": "stream",
     "text": [
      "torch.Size([9])\n",
      "tensor([1, 1, 0, 1, 2, 2, 2, 2, 2])\n"
     ]
    }
   ],
   "source": [
    "from dataloader import GcMTLDataset\n",
    "import pandas as pd\n",
    "import torch\n",
    "\n",
    "label_path = '/home/huangjialong/projects/BiomedCLIP-PUNCE/datatools/gc/n-labels/all_label.csv'\n",
    "df = pd.read_csv(label_path, header=None)\n",
    "keep_same_psize = 1000\n",
    "file_name = df.iloc[:, 0].values\n",
    "file_label = df.iloc[:, 1].values\n",
    "root = '/data/wsi/TCTGC2625-features/plip-fine'\n",
    "num_classes = [5]\n",
    "num_task = 0\n",
    "fine_concat = True\n",
    "dataset = GcMTLDataset(file_name, file_label,root, num_task, num_classes, fine_concat=fine_concat, keep_same_psize=keep_same_psize)\n",
    "# dataset = GcMTLFineDataset(file_name, file_label,root, num_task, num_classes, fine_concat=fine_concat)\n",
    "data_loader = torch.utils.data.DataLoader(dataset, batch_size=100, shuffle=False, num_workers=0, pin_memory=True)\n",
    "for i, (f, l, t, f) in enumerate(data_loader):\n",
    "    print(l.shape)\n",
    "    print(t)"
   ]
  },
  {
   "cell_type": "code",
   "execution_count": 18,
   "metadata": {},
   "outputs": [
    {
     "name": "stdout",
     "output_type": "stream",
     "text": [
      "9854\n"
     ]
    },
    {
     "data": {
      "text/plain": [
       "0"
      ]
     },
     "execution_count": 18,
     "metadata": {},
     "output_type": "execute_result"
    }
   ],
   "source": [
    "import torch\n",
    "import pandas as pd\n",
    "import shutil, os\n",
    "from tqdm import tqdm\n",
    "\n",
    "fn = '/data/wsi/TCTGC50k-labels/TCTGC50k-volume1-labels-path.csv'\n",
    "df = pd.read_csv(fn)\n",
    "label_wsi_names = df['wsi_name'].tolist()\n",
    "label_wsi_names = [i.replace('.pt', '') for i in label_wsi_names]\n",
    "print(len(label_wsi_names))\n",
    "wsi_path = '/data/wsi/TCTGC50k/TCTGC50k-volume1'\n",
    "output_wsi_path = '/data/wsi/TCTGC50k/TCTGC50k-volume-deprecated13'\n",
    "wsi_names = os.listdir(wsi_path)\n",
    "diff = set(wsi_names) - set(label_wsi_names)\n",
    "diff = list(diff)\n",
    "len(diff)"
   ]
  },
  {
   "cell_type": "code",
   "execution_count": 17,
   "metadata": {},
   "outputs": [],
   "source": [
    "# for i in diff:\n",
    "#     shutil.move(os.path.join(wsi_path, i), os.path.join(output_wsi_path, i))"
   ]
  },
  {
   "cell_type": "code",
   "execution_count": 2,
   "metadata": {},
   "outputs": [
    {
     "name": "stdout",
     "output_type": "stream",
     "text": [
      "0.19251346588134766\n",
      "torch.Size([5, 9])\n"
     ]
    }
   ],
   "source": [
    "import torch\n",
    "from model import MIL_MTL\n",
    "\n",
    "def count_parameters(model):\n",
    "    params = sum(p.numel() for p in model.parameters() if p.requires_grad)\n",
    "    params /= 1024 ** 2\n",
    "    return params\n",
    "\n",
    "num_task = 3\n",
    "num_classes=[1,5,3]\n",
    "input_dim = 256\n",
    "model2 = MIL_MTL(num_classes=num_classes, num_task=num_task, input_dim=input_dim)\n",
    "print((count_parameters(model2)))\n",
    "\n",
    "size = (5, 10, 256) # [B, N, C]\n",
    "mask = torch.ones(size[0], size[1], size[2])\n",
    "a = torch.randn(size)\n",
    "task_id = torch.randint(0, num_task, (size[0],))\n",
    "output = model2(a, task_id)\n",
    "print(output.shape)\n",
    "# print(output.shape)"
   ]
  },
  {
   "cell_type": "code",
   "execution_count": 1,
   "metadata": {},
   "outputs": [
    {
     "name": "stdout",
     "output_type": "stream",
     "text": [
      "(68, 9)\n",
      "[ERROR] WSI41 risk prediction is wrong: [0.9613, 0.5322, 0.1481, 0.7097, 0.3702, 0.3584, 0.9704, 0.854, 0.2885]\n",
      "[ERROR] WSI55 risk prediction is wrong: [0.9566, 0.5628, 0.1546, 0.5229, 0.6502, 0.7161, 0.5364, 0.5956, 0.8355]\n",
      "[INFO] confusion matrix for cancer labels:\n",
      "Confusion Matrix for 68 data\n",
      "+-----------+------+--------+------+-------+------+-----+------+\n",
      "| 实际\\预测 | NILM | ASC-US | LSIL | ASC-H | HSIL | AGC | 总计 |\n",
      "+-----------+------+--------+------+-------+------+-----+------+\n",
      "|    NILM   |  0   |   12   |  0   |   0   |  0   |  0  |  12  |\n",
      "|   ASC-US  |  0   |   8    |  0   |   0   |  0   |  0  |  8   |\n",
      "|    LSIL   |  1   |   9    |  0   |   0   |  0   |  0  |  10  |\n",
      "|   ASC-H   |  1   |   16   |  0   |   0   |  0   |  0  |  17  |\n",
      "|    HSIL   |  0   |   13   |  0   |   0   |  0   |  0  |  13  |\n",
      "|    AGC    |  0   |   8    |  0   |   0   |  0   |  0  |  8   |\n",
      "|    总计   |  2   |   66   |  0   |   0   |  0   |  0  |  68  |\n",
      "+-----------+------+--------+------+-------+------+-----+------+\n",
      "fscores len5\n",
      "[0.125      0.1        0.         0.15384615 0.125     ] (5,) <class 'numpy.ndarray'>\n",
      "[0. 0. 0.] (3,) <class 'numpy.ndarray'>\n",
      "[INFO] confusion matrix for microbial labels:\n",
      "Confusion Matrix for 32 data\n",
      "+-----------+----+----+---+------+\n",
      "| 实际\\预测 | BV | M  | T | 总计 |\n",
      "+-----------+----+----+---+------+\n",
      "|     BV    | 2  | 5  | 0 |  7   |\n",
      "|     M     | 1  | 10 | 0 |  11  |\n",
      "|     T     | 2  | 12 | 0 |  14  |\n",
      "|    总计   | 5  | 27 | 0 |  32  |\n",
      "+-----------+----+----+---+------+\n"
     ]
    },
    {
     "name": "stderr",
     "output_type": "stream",
     "text": [
      "/home/huangjialong/anaconda3/envs/biomed/lib/python3.8/site-packages/sklearn/metrics/_classification.py:1272: UndefinedMetricWarning: Recall is ill-defined and being set to 0.0 in labels with no true samples. Use `zero_division` parameter to control this behavior.\n",
      "  _warn_prf(average, modifier, msg_start, len(result))\n"
     ]
    },
    {
     "data": {
      "text/plain": [
       "(0.45560977424582605,\n",
       " 0.06,\n",
       " 0.06298076923076923,\n",
       " 0.07291666666666666,\n",
       " 0.06665393430099313)"
      ]
     },
     "execution_count": 1,
     "metadata": {},
     "output_type": "execute_result"
    }
   ],
   "source": [
    "from utils import multi_class_scores_mtl\n",
    "import numpy as np\n",
    "\n",
    "n = 100\n",
    "n_classes = 9\n",
    "bag_labels = np.random.randint(0, n_classes, n)\n",
    "class_labels = [['NILM', 'ASC-US', 'LSIL', 'ASC-H', 'HSIL', 'AGC', 'BV', 'M', 'T']]\n",
    "bag_logits = np.random.rand(*(n, n_classes))\n",
    "wsi_names = ['WSI' + str(i) for i in range(n)]\n",
    "threshold = 0.5\n",
    "\n",
    "multi_class_scores_mtl(bag_labels, bag_logits, class_labels, wsi_names, threshold, eval_only=False)\n",
    "# def multi_class_scores_mtl(bag_labels, bag_logits, class_labels, wsi_names, threshold, eval_only):"
   ]
  },
  {
   "cell_type": "code",
   "execution_count": 3,
   "metadata": {},
   "outputs": [
    {
     "name": "stdout",
     "output_type": "stream",
     "text": [
      "(3,)\n"
     ]
    },
    {
     "data": {
      "text/plain": [
       "array([1, 2, 3, 4, 5, 6, 7])"
      ]
     },
     "execution_count": 3,
     "metadata": {},
     "output_type": "execute_result"
    }
   ],
   "source": [
    "import numpy as np\n",
    "\n",
    "# 示例数组\n",
    "array = np.array([1, 2, 3])\n",
    "\n",
    "# 想要添加的新元素\n",
    "new_elements = np.array([4, 5, 6, 7])\n",
    "\n",
    "print(array.shape)\n",
    "# 使用numpy.concatenate将新元素添加到数组末尾\n",
    "extended_array = np.concatenate((array, new_elements))\n",
    "extended_array\n"
   ]
  }
 ],
 "metadata": {
  "kernelspec": {
   "display_name": "biomed",
   "language": "python",
   "name": "python3"
  },
  "language_info": {
   "codemirror_mode": {
    "name": "ipython",
    "version": 3
   },
   "file_extension": ".py",
   "mimetype": "text/x-python",
   "name": "python",
   "nbconvert_exporter": "python",
   "pygments_lexer": "ipython3",
   "version": "3.8.18"
  },
  "orig_nbformat": 4
 },
 "nbformat": 4,
 "nbformat_minor": 2
}
