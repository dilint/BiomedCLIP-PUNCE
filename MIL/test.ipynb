{
 "cells": [
  {
   "cell_type": "code",
   "execution_count": 15,
   "metadata": {},
   "outputs": [
    {
     "name": "stdout",
     "output_type": "stream",
     "text": [
      "torch.Size([9])\n",
      "tensor([1, 1, 0, 1, 2, 2, 2, 2, 2])\n"
     ]
    }
   ],
   "source": [
    "from dataloader import GcMTLDataset\n",
    "import pandas as pd\n",
    "import torch\n",
    "\n",
    "label_path = '/home/huangjialong/projects/BiomedCLIP-PUNCE/datatools/gc/n-labels/all_label.csv'\n",
    "df = pd.read_csv(label_path, header=None)\n",
    "keep_same_psize = 1000\n",
    "file_name = df.iloc[:, 0].values\n",
    "file_label = df.iloc[:, 1].values\n",
    "root = '/data/wsi/TCTGC2625-features/plip-fine'\n",
    "num_classes = [5]\n",
    "num_task = 0\n",
    "fine_concat = True\n",
    "dataset = GcMTLDataset(file_name, file_label,root, num_task, num_classes, fine_concat=fine_concat, keep_same_psize=keep_same_psize)\n",
    "# dataset = GcMTLFineDataset(file_name, file_label,root, num_task, num_classes, fine_concat=fine_concat)\n",
    "data_loader = torch.utils.data.DataLoader(dataset, batch_size=100, shuffle=False, num_workers=0, pin_memory=True)\n",
    "for i, (f, l, t, f) in enumerate(data_loader):\n",
    "    print(l.shape)\n",
    "    print(t)"
   ]
  },
  {
   "cell_type": "code",
   "execution_count": 18,
   "metadata": {},
   "outputs": [
    {
     "name": "stdout",
     "output_type": "stream",
     "text": [
      "9854\n"
     ]
    },
    {
     "data": {
      "text/plain": [
       "0"
      ]
     },
     "execution_count": 18,
     "metadata": {},
     "output_type": "execute_result"
    }
   ],
   "source": [
    "import torch\n",
    "import pandas as pd\n",
    "import shutil, os\n",
    "from tqdm import tqdm\n",
    "\n",
    "fn = '/data/wsi/TCTGC50k-labels/TCTGC50k-volume1-labels-path.csv'\n",
    "df = pd.read_csv(fn)\n",
    "label_wsi_names = df['wsi_name'].tolist()\n",
    "label_wsi_names = [i.replace('.pt', '') for i in label_wsi_names]\n",
    "print(len(label_wsi_names))\n",
    "wsi_path = '/data/wsi/TCTGC50k/TCTGC50k-volume1'\n",
    "output_wsi_path = '/data/wsi/TCTGC50k/TCTGC50k-volume-deprecated13'\n",
    "wsi_names = os.listdir(wsi_path)\n",
    "diff = set(wsi_names) - set(label_wsi_names)\n",
    "diff = list(diff)\n",
    "len(diff)"
   ]
  },
  {
   "cell_type": "code",
   "execution_count": 17,
   "metadata": {},
   "outputs": [],
   "source": [
    "# for i in diff:\n",
    "#     shutil.move(os.path.join(wsi_path, i), os.path.join(output_wsi_path, i))"
   ]
  },
  {
   "cell_type": "code",
   "execution_count": 20,
   "metadata": {},
   "outputs": [
    {
     "name": "stdout",
     "output_type": "stream",
     "text": [
      "43.09864139556885\n"
     ]
    }
   ],
   "source": [
    "from modules.vit_wsi.model_v1 import Model_V1\n",
    "\n",
    "model = Model_V1(\n",
    "        in_dims=512,\n",
    "        num_classes=[1,5,3],\n",
    "        depth=4,\n",
    "        num_heads=4,\n",
    "        proj_drop=0.02,\n",
    "        attn_drop=0.02,\n",
    "        drop_path=0.01,)\n",
    "sum_params = sum(p.numel() for p in model.parameters() if p.requires_grad)\n",
    "print(sum_params / 1024 ** 2)"
   ]
  },
  {
   "cell_type": "code",
   "execution_count": 16,
   "metadata": {},
   "outputs": [
    {
     "name": "stdout",
     "output_type": "stream",
     "text": [
      "0.19251346588134766\n",
      "torch.Size([5, 9])\n"
     ]
    }
   ],
   "source": [
    "import torch\n",
    "from model import MIL_MTL\n",
    "\n",
    "def count_parameters(model):\n",
    "    params = sum(p.numel() for p in model.parameters() if p.requires_grad)\n",
    "    params /= 1024 ** 2\n",
    "    return params\n",
    "\n",
    "num_task = 3\n",
    "num_classes=[1,5,3]\n",
    "input_dim = 256\n",
    "model2 = MIL_MTL(num_classes=num_classes, num_task=num_task, input_dim=input_dim)\n",
    "print((count_parameters(model2)))\n",
    "\n",
    "size = (5, 10, 256) # [B, N, C]\n",
    "mask = torch.ones(size[0], size[1], size[2])\n",
    "a = torch.randn(size)\n",
    "task_id = torch.randint(0, num_task, (size[0],))\n",
    "output = model2(a, task_id)\n",
    "print(output.shape)\n",
    "# print(output.shape)"
   ]
  },
  {
   "cell_type": "code",
   "execution_count": 15,
   "metadata": {},
   "outputs": [
    {
     "name": "stdout",
     "output_type": "stream",
     "text": [
      "[ERROR] WSI23 risk prediction is wrong: [0.9903, 0.4942, 0.865, 0.8805, 0.106, 0.3009]\n",
      "[ERROR] WSI46 risk prediction is wrong: [0.9718, 0.5357, 0.4098, 0.0345, 0.1743, 0.6252]\n",
      "[ERROR] WSI55 risk prediction is wrong: [0.9905, 0.8902, 0.9189, 0.1448, 0.4494, 0.5315]\n",
      "[INFO] confusion matrix for cancer labels:\n",
      "5 5 6\n",
      "Confusion Matrix for 61 data\n",
      "+-----------+------+--------+------+-------+------+-----+------+\n",
      "| 实际\\预测 | NILM | ASC-US | LSIL | ASC-H | HSIL | AGC | 总计 |\n",
      "+-----------+------+--------+------+-------+------+-----+------+\n",
      "|    NILM   |  1   |   1    |  3   |   2   |  1   |  1  |  9   |\n",
      "|   ASC-US  |  0   |   1    |  2   |   7   |  3   |  3  |  16  |\n",
      "|    LSIL   |  0   |   2    |  4   |   1   |  3   |  1  |  11  |\n",
      "|   ASC-H   |  0   |   2    |  0   |   2   |  1   |  1  |  6   |\n",
      "|    HSIL   |  1   |   1    |  4   |   1   |  1   |  1  |  9   |\n",
      "|    AGC    |  0   |   0    |  4   |   3   |  3   |  0  |  10  |\n",
      "|    总计   |  2   |   7    |  17  |   16  |  12  |  7  |  61  |\n",
      "+-----------+------+--------+------+-------+------+-----+------+\n",
      "fscores len5\n",
      "[INFO] confusion matrix for microbial labels:\n",
      "2 2 3\n",
      "Confusion Matrix for 39 data\n",
      "+-----------+----+----+----+------+\n",
      "| 实际\\预测 | BV | M  | T  | 总计 |\n",
      "+-----------+----+----+----+------+\n",
      "|     BV    | 2  | 2  | 8  |  12  |\n",
      "|     M     | 5  | 8  | 2  |  15  |\n",
      "|     T     | 3  | 6  | 3  |  12  |\n",
      "|    总计   | 10 | 16 | 13 |  39  |\n",
      "+-----------+----+----+----+------+\n",
      "Recalls: [0.0625     0.36363636 0.33333333 0.11111111 0.         0.16666667\n",
      " 0.53333333 0.25      ]\n"
     ]
    },
    {
     "data": {
      "text/plain": [
       "([0.5527777777777778,\n",
       "  0.5545454545454546,\n",
       "  0.4696969696969697,\n",
       "  0.3974358974358974,\n",
       "  0.4411764705882353,\n",
       "  0.5679012345679013,\n",
       "  0.638888888888889,\n",
       "  0.4629629629629629],\n",
       " 0.22,\n",
       " array([0.0625    , 0.36363636, 0.33333333, 0.11111111, 0.        ,\n",
       "        0.16666667, 0.53333333, 0.25      ]),\n",
       " array([0.14285714, 0.23529412, 0.125     , 0.08333333, 0.        ,\n",
       "        0.2       , 0.5       , 0.23076923]),\n",
       " array([0.08695652, 0.28571429, 0.18181818, 0.0952381 , 0.        ,\n",
       "        0.18181818, 0.51612903, 0.24      ]))"
      ]
     },
     "execution_count": 15,
     "metadata": {},
     "output_type": "execute_result"
    }
   ],
   "source": [
    "from utils import multi_class_scores_mtl\n",
    "import numpy as np\n",
    "\n",
    "n = 100\n",
    "n_classes = 9\n",
    "bag_labels = np.random.randint(0, n_classes, n)\n",
    "class_labels = ['NILM', 'ASC-US', 'LSIL', 'ASC-H', 'HSIL', 'AGC', 'BV', 'M', 'T']\n",
    "bag_logits = np.random.rand(*(n, n_classes))\n",
    "wsi_names = ['WSI' + str(i) for i in range(n)]\n",
    "threshold = 0.5\n",
    "\n",
    "multi_class_scores_mtl(bag_labels, bag_logits, class_labels, wsi_names, threshold, eval_only=False)\n",
    "# def multi_class_scores_mtl(bag_labels, bag_logits, class_labels, wsi_names, threshold, eval_only):"
   ]
  },
  {
   "cell_type": "code",
   "execution_count": 13,
   "metadata": {},
   "outputs": [
    {
     "data": {
      "text/plain": [
       "([torch.Size([1000, 25, 256]), torch.Size([1000, 25, 256])],\n",
       " [torch.Size([1000, 25]), torch.Size([1000, 25])])"
      ]
     },
     "execution_count": 13,
     "metadata": {},
     "output_type": "execute_result"
    }
   ],
   "source": [
    "Model_V1(\n",
    "        in_dims=args.input_dim,\n",
    "        num_classes=args.num_classes,\n",
    "        depth=4,\n",
    "        num_heads=4,\n",
    "        proj_drop=0.02,\n",
    "        attn_drop=0.02,\n",
    "        drop_path=0.01,)"
   ]
  },
  {
   "cell_type": "code",
   "execution_count": 11,
   "metadata": {},
   "outputs": [
    {
     "data": {
      "text/plain": [
       "tensor([0., 0., 0., 0., 0., 0., 0., 0., 0., 0., 0., 0., 0., 0., 0., 0., 0., 0., 0., 0., 0., 0., 0., 0.,\n",
       "        0.])"
      ]
     },
     "execution_count": 11,
     "metadata": {},
     "output_type": "execute_result"
    }
   ],
   "source": [
    "masks[0][900]"
   ]
  }
 ],
 "metadata": {
  "kernelspec": {
   "display_name": "biomed",
   "language": "python",
   "name": "python3"
  },
  "language_info": {
   "codemirror_mode": {
    "name": "ipython",
    "version": 3
   },
   "file_extension": ".py",
   "mimetype": "text/x-python",
   "name": "python",
   "nbconvert_exporter": "python",
   "pygments_lexer": "ipython3",
   "version": "3.8.18"
  },
  "orig_nbformat": 4
 },
 "nbformat": 4,
 "nbformat_minor": 2
}
