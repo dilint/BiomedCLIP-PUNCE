{
 "cells": [
  {
   "cell_type": "code",
   "execution_count": 4,
   "metadata": {},
   "outputs": [],
   "source": [
    "import os\n",
    "import random\n",
    "from PIL import Image\n",
    "\n",
    "def split_image(image_path, output_directory):\n",
    "    image = Image.open(image_path)\n",
    "    width, height = image.size\n",
    "    overlap_rate = 0.5 \n",
    "    crop_size = 256\n",
    "    overlap = int(crop_size * overlap_rate)\n",
    "\n",
    "    # 计算水平和垂直方向上的切割数量\n",
    "    num_horizontal = (width - overlap) // (crop_size - overlap)\n",
    "    num_vertical = (height - overlap) // (crop_size - overlap)\n",
    "\n",
    "    cropped_images = []\n",
    "\n",
    "    for i in range(num_horizontal):\n",
    "        for j in range(num_vertical):\n",
    "            left = i * (crop_size - overlap)\n",
    "            upper = j * (crop_size - overlap)\n",
    "            right = left + crop_size\n",
    "            lower = upper + crop_size\n",
    "\n",
    "            # 切割图像\n",
    "            crop = image.crop((left, upper, right, lower))\n",
    "            cropped_images.append(crop)\n",
    "\n",
    "    # 随机选择要保存的图片\n",
    "    num_images_to_save = min(100, len(cropped_images))\n",
    "    selected_images = random.sample(cropped_images, num_images_to_save)\n",
    "\n",
    "    # 保存切割后的图像\n",
    "    image_name = os.path.splitext(os.path.basename(image_path))[0]\n",
    "    for index, img in enumerate(selected_images):\n",
    "        output_path = os.path.join(output_directory, f\"{image_name}_{index}.jpg\")\n",
    "        img.save(output_path)\n",
    "\n",
    "def split_images_in_directory(directory, output_directory):\n",
    "    # 检查输出目录是否存在，如果不存在则创建\n",
    "    if not os.path.exists(output_directory):\n",
    "        os.makedirs(output_directory)\n",
    "\n",
    "    # 遍历目录中的所有文件\n",
    "    for filename in os.listdir(directory):\n",
    "        # 检查文件是否为图片\n",
    "        if filename.endswith(\".jpg\") or filename.endswith(\".jpeg\") or filename.endswith(\".png\"):\n",
    "            image_path = os.path.join(directory, filename)\n",
    "            split_image(image_path, output_directory)\n",
    "\n",
    "directories = [\"M\", \"B\"]    # 输入目录\n",
    "for directory in directories:\n",
    "    output_directory = \"output\"  # 输出目录\n",
    "    output_directory = os.path.join(output_directory, directory)\n",
    "    split_images_in_directory(directory, output_directory)\n"
   ]
  }
 ],
 "metadata": {
  "kernelspec": {
   "display_name": "pytorch",
   "language": "python",
   "name": "python3"
  },
  "language_info": {
   "codemirror_mode": {
    "name": "ipython",
    "version": 3
   },
   "file_extension": ".py",
   "mimetype": "text/x-python",
   "name": "python",
   "nbconvert_exporter": "python",
   "pygments_lexer": "ipython3",
   "version": "3.10.9"
  },
  "orig_nbformat": 4
 },
 "nbformat": 4,
 "nbformat_minor": 2
}
