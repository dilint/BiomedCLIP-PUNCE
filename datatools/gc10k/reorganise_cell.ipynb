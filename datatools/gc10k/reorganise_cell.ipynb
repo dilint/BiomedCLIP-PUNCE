{
 "cells": [
  {
   "cell_type": "code",
   "execution_count": null,
   "metadata": {},
   "outputs": [
    {
     "name": "stdout",
     "output_type": "stream",
     "text": [
      "Progress: 0/9717\n"
     ]
    }
   ],
   "source": [
    "import torch\n",
    "import numpy as np\n",
    "import os\n",
    "from tqdm import tqdm\n",
    "from concurrent.futures import ThreadPoolExecutor\n",
    "\n",
    "\n",
    "def cell2patch(wsi_name):\n",
    "    cell_names = os.listdir(os.path.join(root_path, wsi_name))\n",
    "    # cell_name = cell_names[0]\n",
    "    # print(cell_name.split('-')[-1])\n",
    "    feat_per_patch = {}\n",
    "    for cell_name in cell_names:\n",
    "        tmp = cell_name.split('_')\n",
    "        patch_name = tmp[-1]\n",
    "        cell_cat = tmp[0]\n",
    "        cell_embed = np.load(os.path.join(root_path, wsi_name, cell_name))\n",
    "        if patch_name not in feat_per_patch.keys():\n",
    "            feat_per_patch[patch_name] = [cell_embed]\n",
    "        else:\n",
    "            feat_per_patch[patch_name].append(cell_embed)\n",
    "    patch_embeds = []\n",
    "    for patch_name in feat_per_patch.keys():\n",
    "        patch_embed = np.stack(feat_per_patch[patch_name]) # [M, 256]\n",
    "        patch_embeds.append(patch_embed) # [N, M~, 256]\n",
    "    torch.save(patch_embeds, os.path.join(output_path, wsi_name+'.pt'))\n",
    "    \n",
    "root_path = '/mnt/tmp/TCT_DATA/rtdetr_feats_20240822_embed_x7/img_feats/embed6'\n",
    "output_path = '/data/wsi/TCTGC10k-Cell/rtdetr-v1-2025.1.1'\n",
    "wsi_names = os.listdir(root_path)\n",
    "# wsi_name = '1914834909-01-HSIL'\n",
    "wsi_names = os.listdir(root_path)\n",
    "with ThreadPoolExecutor(max_workers=5) as executor:\n",
    "    # map方法会异步执行square函数，对numbers列表中的每个元素进行处理\n",
    "    futures = [executor.submit(cell2patch, wsi_name) for wsi_name in wsi_names]\n",
    "\n",
    "    # 计数器\n",
    "    completed_tasks = 0\n",
    "    # 循环检查任务状态\n",
    "    while completed_tasks < len(futures):\n",
    "        for future in futures:\n",
    "            if future.done():\n",
    "                completed_tasks += 1\n",
    "                print(f\"Task completed: {future.result()}\")  # 打印已完成任务的结果\n",
    "        print(f\"Progress: {completed_tasks}/{len(futures)}\")\n",
    "        time.sleep(0.5)  # 稍作延迟，避免频繁打印\n",
    "\n"
   ]
  },
  {
   "cell_type": "code",
   "execution_count": 10,
   "metadata": {},
   "outputs": [
    {
     "name": "stdout",
     "output_type": "stream",
     "text": [
      "9994\n",
      "9717\n"
     ]
    }
   ],
   "source": [
    "import pandas as pd\n",
    "import torch\n",
    "import os\n",
    "\n",
    "labels1_path = '/data/wsi/TCTGC50k-labels/TCTGC50k-volume1-labels-path.csv'\n",
    "df1 = pd.read_csv(labels1_path)\n",
    "wsi_names = [str(wsi_name).replace('.pt', '') for wsi_name in df1['wsi_id']]\n",
    "print(len(wsi_names))\n",
    "\n",
    "cell_feat_path = '/mnt/tmp/TCT_DATA/rtdetr_feats_20240822_embed_x7/img_feats/embed6'\n",
    "cell_wsi_names = os.listdir(cell_feat_path)\n",
    "print(len(cell_wsi_names))\n",
    "diff1 = set(wsi_names) - set(cell_wsi_names)\n",
    "# print(len(diff1))\n",
    "diff1 = list(diff1)\n",
    "torch.save(diff1, 'diff1.pt')"
   ]
  },
  {
   "cell_type": "code",
   "execution_count": 14,
   "metadata": {},
   "outputs": [
    {
     "name": "stdout",
     "output_type": "stream",
     "text": [
      "9994\n",
      "wsi_label\n",
      "NILM      5889\n",
      "ASC-US    1226\n",
      "LSIL       901\n",
      "BV         860\n",
      "M          371\n",
      "ASC-H      293\n",
      "HSIL       241\n",
      "T          116\n",
      "AGC         97\n",
      "Name: count, dtype: int64\n"
     ]
    }
   ],
   "source": [
    "print(len(df1))\n",
    "print(df1['wsi_label'].value_counts())"
   ]
  }
 ],
 "metadata": {
  "kernelspec": {
   "display_name": "biomed",
   "language": "python",
   "name": "python3"
  },
  "language_info": {
   "codemirror_mode": {
    "name": "ipython",
    "version": 3
   },
   "file_extension": ".py",
   "mimetype": "text/x-python",
   "name": "python",
   "nbconvert_exporter": "python",
   "pygments_lexer": "ipython3",
   "version": "3.8.18"
  },
  "orig_nbformat": 4
 },
 "nbformat": 4,
 "nbformat_minor": 2
}
