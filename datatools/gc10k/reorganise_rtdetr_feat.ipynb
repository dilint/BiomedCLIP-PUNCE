{
 "cells": [
  {
   "cell_type": "markdown",
   "metadata": {},
   "source": [
    "# 转换rtdetr_lp_v12数据"
   ]
  },
  {
   "cell_type": "code",
   "execution_count": 24,
   "metadata": {},
   "outputs": [
    {
     "name": "stderr",
     "output_type": "stream",
     "text": [
      "100%|██████████| 9854/9854 [43:49<00:00,  3.75it/s]  \n"
     ]
    }
   ],
   "source": [
    "import os\n",
    "import pandas as pd\n",
    "import torch\n",
    "from tqdm import tqdm\n",
    "from concurrent.futures import ThreadPoolExecutor\n",
    "\n",
    "input_path = '/data/wsi/TCTGC50k-features/rtdetr_lp_v12'\n",
    "df = pd.read_csv('/data/wsi/TCTGC50k-labels/TCTGC50k-volume1-labels-path.csv')\n",
    "wsi_names = df['wsi_name'].tolist()\n",
    "\n",
    "train_wsi_names = os.listdir(os.path.join(input_path, 'train'))\n",
    "test_wsi_names = os.listdir(os.path.join(input_path, 'test'))\n",
    "# input_pt = '/data/wsi/TCTGC50k-features/rtdetr_lp_v12/test/738.pt'\n",
    "output_path = '/data/wsi/TCTGC10k-features/rtdetr-v3-2025.1.7/'\n",
    "if not os.path.exists(output_path):\n",
    "    os.makedirs(output_path)\n",
    "    \n",
    "f = torch.load(input_pt)\n",
    "\n",
    "def copy_wsi(wsi_name):\n",
    "    if wsi_name in train_wsi_names:\n",
    "        f = torch.load(os.path.join(input_path, 'train', wsi_name))\n",
    "    elif wsi_name in test_wsi_names:\n",
    "        f = torch.load(os.path.join(input_path, 'test', wsi_name))\n",
    "    patches = []\n",
    "    for patch_feat in f['patch_load']:\n",
    "        patches.append(patch_feat.x)\n",
    "    torch.save(patches, os.path.join(output_path, wsi_name))\n",
    "\n",
    "with ThreadPoolExecutor(max_workers=32) as executor:\n",
    "    list(tqdm(executor.map(copy_wsi, wsi_names), total=len(wsi_names)))\n"
   ]
  },
  {
   "cell_type": "code",
   "execution_count": 13,
   "metadata": {},
   "outputs": [
    {
     "name": "stdout",
     "output_type": "stream",
     "text": [
      "227 005201542-N.pt 377 116 306.625\n",
      "227 005201542-N.pt 22 1 13.13520749665328\n"
     ]
    }
   ],
   "source": [
    "import os, glob\n",
    "from concurrent.futures import ThreadPoolExecutor\n",
    "import torch\n",
    "from tqdm import tqdm\n",
    "\n",
    "root_path1 = '/data/wsi/TCTGC10k-features/rtdetr-v2-2025.1.6'\n",
    "wsi_names1 = os.listdir(root_path)\n",
    "wsi_names1 = sorted(wsi_names)\n",
    "index = 227\n",
    "\n",
    "wsi_feat1 = torch.load(os.path.join(root_path1, wsi_names1[index]))\n",
    "cell_num1 = [feat.shape[0] for feat in wsi_feat1]\n",
    "print(index, wsi_names1[index], max(cell_num1), min(cell_num1), sum(cell_num1)/len(cell_num1))\n",
    "\n",
    "root_path2 = '/data/wsi/TCTGC10k-features/rtdetr-v3-2025.1.7'\n",
    "wsi_names2 = os.listdir(root_path2)\n",
    "wsi_names2 = sorted(wsi_names2)\n",
    "\n",
    "\n",
    "wsi_feat2 = torch.load(os.path.join(root_path2, wsi_names2[index]))\n",
    "cell_num2 = [feat.shape[0] for feat in wsi_feat2]\n",
    "print(index, wsi_names2[index], max(cell_num2), min(cell_num2), sum(cell_num2)/len(cell_num2))\n",
    "\n"
   ]
  }
 ],
 "metadata": {
  "kernelspec": {
   "display_name": "biomed",
   "language": "python",
   "name": "python3"
  },
  "language_info": {
   "codemirror_mode": {
    "name": "ipython",
    "version": 3
   },
   "file_extension": ".py",
   "mimetype": "text/x-python",
   "name": "python",
   "nbconvert_exporter": "python",
   "pygments_lexer": "ipython3",
   "version": "3.8.18"
  },
  "orig_nbformat": 4
 },
 "nbformat": 4,
 "nbformat_minor": 2
}
