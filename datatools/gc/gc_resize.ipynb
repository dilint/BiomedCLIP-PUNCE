{
 "cells": [
  {
   "cell_type": "code",
   "execution_count": 16,
   "metadata": {},
   "outputs": [
    {
     "name": "stdout",
     "output_type": "stream",
     "text": [
      "并行处理时间： 42380.32749414444\n"
     ]
    }
   ],
   "source": [
    "import os, time, multiprocessing, glob\n",
    "from PIL import Image\n",
    "\n",
    "root_dir = '/home1/wsi'\n",
    "input_dir = 'tct'\n",
    "output_dir = 'tct-224'\n",
    "sub_dirs = [\n",
    "    'NILM',\n",
    "    'POS'\n",
    "]\n",
    "\n",
    "def resize_fun(wsi_path):\n",
    "    image_paths = glob.glob(os.path.join(wsi_path, '*.jpg'))\n",
    "    for image_path in image_paths:\n",
    "        image = Image.open(image_path)\n",
    "        resized_image = image.resize((224, 224))\n",
    "        output_par_path = os.path.join(output_dir, os.path.relpath(wsi_path, input_dir))\n",
    "        if not os.path.exists(output_par_path):\n",
    "            os.makedirs(output_par_path, exist_ok=True)\n",
    "        output_path = os.path.join(output_par_path, os.path.basename(image_path))\n",
    "        resized_image.save(output_path)\n",
    "                \n",
    "wsi_paths = []\n",
    "input_dir, output_dir = os.path.join(root_dir, input_dir), os.path.join(root_dir, output_dir)\n",
    "for sub_dir in sub_dirs:\n",
    "    sub_path = os.path.join(input_dir, sub_dir)\n",
    "    for wsi_name in os.listdir(sub_path):\n",
    "        wsi_paths.append(os.path.join(sub_path, wsi_name))\n",
    "        \n",
    "start_time = time.time()\n",
    "pool = multiprocessing.Pool()\n",
    "pool.map(resize_fun, wsi_paths)\n",
    "pool.close()\n",
    "pool.join()\n",
    "end_time = time.time()\n",
    "print(\"并行处理时间：\", end_time - start_time)     \n"
   ]
  }
 ],
 "metadata": {
  "kernelspec": {
   "display_name": "biomed",
   "language": "python",
   "name": "python3"
  },
  "language_info": {
   "codemirror_mode": {
    "name": "ipython",
    "version": 3
   },
   "file_extension": ".py",
   "mimetype": "text/x-python",
   "name": "python",
   "nbconvert_exporter": "python",
   "pygments_lexer": "ipython3",
   "version": "3.8.18"
  },
  "orig_nbformat": 4
 },
 "nbformat": 4,
 "nbformat_minor": 2
}
