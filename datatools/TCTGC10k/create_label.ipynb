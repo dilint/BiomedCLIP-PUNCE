{
 "cells": [
  {
   "cell_type": "code",
   "execution_count": 29,
   "metadata": {},
   "outputs": [],
   "source": [
    "import os\n",
    "import pandas as pd\n",
    "\n",
    "input_path = '/data/wsi/TCTGC50k-labels/TCTGC50k-volume1-labels-path.csv'\n",
    "output_path = 'onetask_5_labels/all_label.csv'\n",
    "df = pd.read_csv(input_path)\n",
    "chosen = ['NILM', 'ASC-US', 'LSIL', 'ASC-H', 'HSIL']\n",
    "mapping = {'NILM' :0, 'ASC-US' :1, 'LSIL' :2, 'ASC-H' :3, 'HSIL' :4}\n",
    "df = df[df['wsi_label'].isin(chosen)]\n",
    "output_df = df[['wsi_id', 'wsi_label']].copy()\n",
    "output_df['wsi_id'] = output_df['wsi_id'].str.replace('.pt', '')\n",
    "output_df['wsi_label'] = output_df['wsi_label'].map(mapping)\n",
    "output_df.to_csv(output_path, index=False)"
   ]
  },
  {
   "cell_type": "code",
   "execution_count": 1,
   "metadata": {},
   "outputs": [],
   "source": [
    "import os\n",
    "import pandas as pd\n",
    "import numpy as np\n",
    "\n",
    "np.random.seed(0)\n",
    "label_dir = '/data/wsi/TCTGC10k-labels/9_labels'\n",
    "input_path = 'all_label.csv'\n",
    "input_path = os.path.join(label_dir, input_path)\n",
    "output_path = ['train_label.csv', 'val_label.csv', 'test_label.csv']\n",
    "output_path = [os.path.join(label_dir, p) for p in output_path]\n",
    "ratios = [0.8, 0.1, 0.1]\n",
    "df = pd.read_csv(input_path)\n",
    "df_shuffle = df.sample(frac=1).reset_index(drop=True)\n",
    "df_split = [df_shuffle.iloc[:int(len(df_shuffle) * ratios[0])],\n",
    "            df_shuffle.iloc[int(len(df_shuffle) * ratios[0]):int(len(df_shuffle) * (ratios[0] + ratios[1]))],\n",
    "            df_shuffle.iloc[int(len(df_shuffle) * (ratios[0] + ratios[1])):]]\n",
    "for i in range(3):\n",
    "    df_split[i].to_csv(output_path[i], index=False, header=False)\n"
   ]
  },
  {
   "cell_type": "code",
   "execution_count": 31,
   "metadata": {},
   "outputs": [
    {
     "name": "stdout",
     "output_type": "stream",
     "text": [
      "0\n",
      "0    4723\n",
      "1     983\n",
      "2     701\n",
      "3     234\n",
      "4     198\n",
      "Name: count, dtype: int64\n",
      "######################6839\n",
      "1\n",
      "0    579\n",
      "1    118\n",
      "2    106\n",
      "3     26\n",
      "4     25\n",
      "Name: count, dtype: int64\n",
      "######################854\n",
      "0\n",
      "0    585\n",
      "1    124\n",
      "2     94\n",
      "3     33\n",
      "4     18\n",
      "Name: count, dtype: int64\n",
      "######################854\n"
     ]
    }
   ],
   "source": [
    "import os\n",
    "import pandas as pd\n",
    "label_dir = 'onetask_5_labels'\n",
    "label_path = ['train_label.csv', 'val_label.csv', 'test_label.csv']\n",
    "for i in range(3):\n",
    "    label_path[i] = os.path.join(label_dir, label_path[i])\n",
    "    df = pd.read_csv(label_path[i])\n",
    "    print(df.iloc[:,1].value_counts())\n",
    "    print('######################{}'.format(len(df)))\n"
   ]
  },
  {
   "cell_type": "markdown",
   "metadata": {},
   "source": [
    "# 将原始文件抽取需要的信息(wsi_name, wsi_id)到all_label.csv"
   ]
  },
  {
   "cell_type": "code",
   "execution_count": 5,
   "metadata": {},
   "outputs": [],
   "source": [
    "import pandas as pd\n",
    "import os\n",
    "\n",
    "output_path = '/home/huangjialong/projects/BiomedCLIP-PUNCE/datatools/gc10k/9_labels'\n",
    "label_path = '/data/wsi/TCTGC50k-labels/TCTGC50k-volume1-labels-path.csv'\n",
    "df = pd.read_csv(label_path)\n",
    "mapping = {'NILM' :0, 'ASC-US' :1, 'LSIL' :2, 'ASC-H' :3, 'HSIL' :4,\\\n",
    "            'AGC':5, 'BV':6, 'M':7, 'T':8}\n",
    "# id2class = {v, k for k, v in mapping.items()}\n",
    "output_file = 'all_label.csv'\n",
    "df['wsi_label'] = df['wsi_label'].map(mapping)\n",
    "df['wsi_name'] = df['wsi_name'].str.replace('.pt', '')\n",
    "df_output = df[['wsi_name', 'wsi_label']].copy()\n",
    "df_output.to_csv(os.path.join(output_path, output_file), index=False, header=False)"
   ]
  },
  {
   "cell_type": "markdown",
   "metadata": {},
   "source": [
    "# 根据all_label.csv进行数据集的划分"
   ]
  },
  {
   "cell_type": "code",
   "execution_count": 5,
   "metadata": {},
   "outputs": [
    {
     "name": "stdout",
     "output_type": "stream",
     "text": [
      "8476\n",
      "df_train\n",
      "wsi_label\n",
      "nilm     4714\n",
      "ascus     881\n",
      "lsil      689\n",
      "asch      228\n",
      "hsil      185\n",
      "agc        83\n",
      "Name: count, dtype: int64\n",
      "df_test\n",
      "wsi_label\n",
      "nilm     1171\n",
      "ascus     228\n",
      "lsil      174\n",
      "asch       58\n",
      "hsil       54\n",
      "agc        11\n",
      "Name: count, dtype: int64\n"
     ]
    }
   ],
   "source": [
    "import pandas as pd\n",
    "import os\n",
    "\n",
    "label_dir = '/data/wsi/TCTGC10k-labels/6_labels'\n",
    "all_label_path = os.path.join(label_dir, 'TCTGC10k-v15-all.csv')\n",
    "df = pd.read_csv(all_label_path)\n",
    "print(len(df))\n",
    "df_shuffled = df.sample(frac=1, random_state=42)\n",
    "\n",
    "# 根据9:1比例划分\n",
    "train_ratio = 0.8\n",
    "df_train = df_shuffled.iloc[:int(len(df_shuffled) * train_ratio)]\n",
    "df_test = df_shuffled.iloc[int(len(df_shuffled) * train_ratio):]\n",
    "\n",
    "df_train.to_csv(os.path.join(label_dir, 'TCTGC10k-v15-train.csv'), index=False)\n",
    "df_test.to_csv(os.path.join(label_dir, 'TCTGC10k-v15-test.csv'), index=False)\n",
    "\n",
    "print('df_train')\n",
    "print(df_train['wsi_label'].value_counts())\n",
    "print('df_test')\n",
    "print(df_test['wsi_label'].value_counts())"
   ]
  },
  {
   "cell_type": "markdown",
   "metadata": {},
   "source": [
    "# 挑选出Cancer标注的WSI"
   ]
  },
  {
   "cell_type": "code",
   "execution_count": 2,
   "metadata": {},
   "outputs": [
    {
     "data": {
      "text/plain": [
       "8476"
      ]
     },
     "execution_count": 2,
     "metadata": {},
     "output_type": "execute_result"
    }
   ],
   "source": [
    "import os\n",
    "import pandas as pd\n",
    "\n",
    "root_dir = '/data/wsi/TCTGC10k-labels'\n",
    "input_dir = os.path.join(root_dir, '9_labels', 'TCTGC10k-v15-all.csv')\n",
    "output_dir = os.path.join(root_dir, '6_labels', 'TCTGC10k-v15-all.csv')\n",
    "chosen_labels = ['nilm', 'ascus', 'asch', 'lsil', 'hsil', 'agc']\n",
    "df = pd.read_csv(input_dir)\n",
    "# 过滤并保存\n",
    "filtered_df = df[df['wsi_label'].isin(chosen_labels)]\n",
    "filtered_df.to_csv(output_dir, index=False)\n",
    "filtered_df['wsi_label'].value_counts()"
   ]
  },
  {
   "cell_type": "markdown",
   "metadata": {},
   "source": [
    "## 统计训练集 测试集数量"
   ]
  },
  {
   "cell_type": "code",
   "execution_count": 7,
   "metadata": {},
   "outputs": [
    {
     "name": "stdout",
     "output_type": "stream",
     "text": [
      "/data/wsi/TCTGC50k-labels/6_labels/TCTGC50k-v15-all.csv\n",
      "wsi_label\n",
      "nilm     29299\n",
      "ascus     5300\n",
      "lsil      4226\n",
      "asch      1427\n",
      "hsil      1172\n",
      "agc        484\n",
      "Name: count, dtype: int64\n",
      "/data/wsi/TCTGC50k-labels/6_labels/TCTGC50k-v15-train.csv\n",
      "wsi_label\n",
      "nilm     26385\n",
      "ascus     5033\n",
      "lsil      4006\n",
      "asch      1356\n",
      "hsil      1121\n",
      "agc        438\n",
      "Name: count, dtype: int64\n",
      "/data/wsi/TCTGC50k-labels/6_labels/TCTGC50k-v15-test.csv\n",
      "wsi_label\n",
      "nilm     2914\n",
      "ascus     267\n",
      "lsil      220\n",
      "asch       71\n",
      "hsil       51\n",
      "agc        46\n",
      "Name: count, dtype: int64\n"
     ]
    }
   ],
   "source": [
    "import os\n",
    "import pandas as pd\n",
    "\n",
    "root_dir = '/data/wsi/TCTGC50k-labels/6_labels'\n",
    "files = ['TCTGC50k-v15-all.csv', 'TCTGC50k-v15-train.csv', 'TCTGC50k-v15-test.csv']\n",
    "for fn in files:\n",
    "    input_file = os.path.join(root_dir, fn)\n",
    "    print(input_file)\n",
    "    df = pd.read_csv(input_file)\n",
    "    print(df['wsi_label'].value_counts())\n"
   ]
  },
  {
   "cell_type": "markdown",
   "metadata": {},
   "source": [
    "# 采用分层采用从50k数据集中采样10k的数据集"
   ]
  },
  {
   "cell_type": "code",
   "execution_count": 3,
   "metadata": {},
   "outputs": [
    {
     "name": "stdout",
     "output_type": "stream",
     "text": [
      "成功从 '/data/wsi/TCTGC50k-labels/6_labels/TCTGC50k-v15-all.csv' 采样10,000条数据，并保存到 '/data/wsi/TCTGC10k-labels/6_labels/TCTGC10k-v15-all.csv'。\n",
      "\n",
      "采样数据的前5行:\n",
      "          id            wsi_name wsi_label  \\\n",
      "20012  15510            L2013086      nilm   \n",
      "34595  35727   CX20113910-ASC-US     ascus   \n",
      "12805   6189            L2015076      lsil   \n",
      "9283    1099           002908645     ascus   \n",
      "4300    3778  xCR20017937-ASC-US     ascus   \n",
      "\n",
      "                                                wsi_path  \n",
      "20012       /data/wsi/TCTGC50k/TCTGC50k-volume3/L2013086  \n",
      "34595  /data/wsi/TCTGC50k/TCTGC50k-volume4/CX20113910...  \n",
      "12805       /data/wsi/TCTGC50k/TCTGC50k-volume2/L2015076  \n",
      "9283       /data/wsi/TCTGC50k/TCTGC50k-volume2/002908645  \n",
      "4300   /data/wsi/TCTGC50k/TCTGC50k-volume1/xCR2001793...  \n",
      "\n",
      "原始数据中 'wsi_label' 的分布:\n",
      "nilm     0.699127\n",
      "ascus    0.126468\n",
      "lsil     0.100840\n",
      "asch     0.034051\n",
      "hsil     0.027966\n",
      "agc      0.011549\n",
      "Name: wsi_label, dtype: float64\n",
      "\n",
      "采样数据中 'wsi_label' 的分布:\n",
      "nilm     0.6991\n",
      "ascus    0.1265\n",
      "lsil     0.1008\n",
      "asch     0.0341\n",
      "hsil     0.0280\n",
      "agc      0.0115\n",
      "Name: wsi_label, dtype: float64\n"
     ]
    }
   ],
   "source": [
    "import pandas as pd\n",
    "from sklearn.model_selection import train_test_split\n",
    "\n",
    "# 定义输入和输出文件路径\n",
    "input_path = '/data/wsi/TCTGC50k-labels/6_labels/TCTGC50k-v15-all.csv'\n",
    "output_path = '/data/wsi/TCTGC10k-labels/6_labels/TCTGC10k-v15-all.csv'\n",
    "\n",
    "try:\n",
    "    # 读取CSV文件\n",
    "    df = pd.read_csv(input_path)\n",
    "\n",
    "    # 进行分层采样\n",
    "    # 我们设置 train_size=10000 来获取10000个样本\n",
    "    sampled_df, _ = train_test_split(\n",
    "        df,\n",
    "        train_size=10000,\n",
    "        stratify=df['wsi_label'],\n",
    "        random_state=42  # 设置随机种子以保证结果可复现\n",
    "    )\n",
    "\n",
    "    # 将采样后的数据保存到新的CSV文件\n",
    "    sampled_df.to_csv(output_path, index=False)\n",
    "\n",
    "    print(f\"成功从 '{input_path}' 采样10,000条数据，并保存到 '{output_path}'。\")\n",
    "    print(\"\\n采样数据的前5行:\")\n",
    "    print(sampled_df.head())\n",
    "    print(f\"\\n原始数据中 'wsi_label' 的分布:\\n{df['wsi_label'].value_counts(normalize=True)}\")\n",
    "    print(f\"\\n采样数据中 'wsi_label' 的分布:\\n{sampled_df['wsi_label'].value_counts(normalize=True)}\")\n",
    "\n",
    "except FileNotFoundError:\n",
    "    print(f\"错误: 文件 '{input_path}' 未找到。请检查文件路径是否正确。\")\n",
    "except Exception as e:\n",
    "    print(f\"发生错误: {e}\")"
   ]
  },
  {
   "cell_type": "code",
   "execution_count": 4,
   "metadata": {},
   "outputs": [
    {
     "name": "stdout",
     "output_type": "stream",
     "text": [
      "成功将 '/data/wsi/TCTGC10k-labels/6_labels/TCTGC10k-v15-all.csv' 划分为训练集和测试集。\n",
      "训练集 (8000条) 已保存到: '/data/wsi/TCTGC10k-labels/6_labels/TCTGC10k-v15-train.csv'\n",
      "测试集 (2000条) 已保存到: '/data/wsi/TCTGC10k-labels/6_labels/TCTGC10k-v15-test.csv'\n",
      "\n",
      "原始数据集中 'wsi_label' 的分布:\n",
      "nilm     0.6991\n",
      "ascus    0.1265\n",
      "lsil     0.1008\n",
      "asch     0.0341\n",
      "hsil     0.0280\n",
      "agc      0.0115\n",
      "Name: wsi_label, dtype: float64\n",
      "\n",
      "训练集中 'wsi_label' 的分布:\n",
      "nilm     0.699125\n",
      "ascus    0.126500\n",
      "lsil     0.100750\n",
      "asch     0.034125\n",
      "hsil     0.028000\n",
      "agc      0.011500\n",
      "Name: wsi_label, dtype: float64\n",
      "\n",
      "测试集中 'wsi_label' 的分布:\n",
      "nilm     0.6990\n",
      "ascus    0.1265\n",
      "lsil     0.1010\n",
      "asch     0.0340\n",
      "hsil     0.0280\n",
      "agc      0.0115\n",
      "Name: wsi_label, dtype: float64\n"
     ]
    },
    {
     "ename": "",
     "evalue": "",
     "output_type": "error",
     "traceback": [
      "\u001b[1;31mThe Kernel crashed while executing code in the the current cell or a previous cell. Please review the code in the cell(s) to identify a possible cause of the failure. Click <a href='https://aka.ms/vscodeJupyterKernelCrash'>here</a> for more info. View Jupyter <a href='command:jupyter.viewOutput'>log</a> for further details."
     ]
    }
   ],
   "source": [
    "import pandas as pd\n",
    "from sklearn.model_selection import train_test_split\n",
    "\n",
    "# 定义输入文件和输出文件的路径\n",
    "input_path = '/data/wsi/TCTGC10k-labels/6_labels/TCTGC10k-v15-all.csv'\n",
    "train_output_path = '/data/wsi/TCTGC10k-labels/6_labels/TCTGC10k-v15-train.csv'\n",
    "test_output_path = '/data/wsi/TCTGC10k-labels/6_labels/TCTGC10k-v15-test.csv'\n",
    "\n",
    "try:\n",
    "    # 读取10k数据集文件\n",
    "    df = pd.read_csv(input_path)\n",
    "\n",
    "    # 按照8:2的比例进行分层划分\n",
    "    # test_size=0.2 表示测试集占20%\n",
    "    train_df, test_df = train_test_split(\n",
    "        df,\n",
    "        test_size=0.2,\n",
    "        stratify=df['wsi_label'],\n",
    "        random_state=42  # 确保划分结果可复现\n",
    "    )\n",
    "\n",
    "    # 将训练集和测试集分别保存到CSV文件\n",
    "    train_df.to_csv(train_output_path, index=False)\n",
    "    test_df.to_csv(test_output_path, index=False)\n",
    "\n",
    "    print(f\"成功将 '{input_path}' 划分为训练集和测试集。\")\n",
    "    print(f\"训练集 ({len(train_df)}条) 已保存到: '{train_output_path}'\")\n",
    "    print(f\"测试集 ({len(test_df)}条) 已保存到: '{test_output_path}'\")\n",
    "    \n",
    "    print(\"\\n原始数据集中 'wsi_label' 的分布:\")\n",
    "    print(df['wsi_label'].value_counts(normalize=True))\n",
    "    print(\"\\n训练集中 'wsi_label' 的分布:\")\n",
    "    print(train_df['wsi_label'].value_counts(normalize=True))\n",
    "    print(\"\\n测试集中 'wsi_label' 的分布:\")\n",
    "    print(test_df['wsi_label'].value_counts(normalize=True))\n",
    "\n",
    "\n",
    "except FileNotFoundError:\n",
    "    print(f\"错误: 输入文件 '{input_path}' 未找到。请先确保10k数据集已成功生成。\")\n",
    "except Exception as e:\n",
    "    print(f\"发生错误: {e}\")"
   ]
  }
 ],
 "metadata": {
  "kernelspec": {
   "display_name": "biomed",
   "language": "python",
   "name": "python3"
  },
  "language_info": {
   "codemirror_mode": {
    "name": "ipython",
    "version": 3
   },
   "file_extension": ".py",
   "mimetype": "text/x-python",
   "name": "python",
   "nbconvert_exporter": "python",
   "pygments_lexer": "ipython3",
   "version": "3.9.18"
  },
  "orig_nbformat": 4
 },
 "nbformat": 4,
 "nbformat_minor": 2
}
