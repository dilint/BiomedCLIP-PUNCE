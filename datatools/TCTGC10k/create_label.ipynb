{
 "cells": [
  {
   "cell_type": "code",
   "execution_count": 29,
   "metadata": {},
   "outputs": [],
   "source": [
    "import os\n",
    "import pandas as pd\n",
    "\n",
    "input_path = '/data/wsi/TCTGC50k-labels/TCTGC50k-volume1-labels-path.csv'\n",
    "output_path = 'onetask_5_labels/all_label.csv'\n",
    "df = pd.read_csv(input_path)\n",
    "chosen = ['NILM', 'ASC-US', 'LSIL', 'ASC-H', 'HSIL']\n",
    "mapping = {'NILM' :0, 'ASC-US' :1, 'LSIL' :2, 'ASC-H' :3, 'HSIL' :4}\n",
    "df = df[df['wsi_label'].isin(chosen)]\n",
    "output_df = df[['wsi_id', 'wsi_label']].copy()\n",
    "output_df['wsi_id'] = output_df['wsi_id'].str.replace('.pt', '')\n",
    "output_df['wsi_label'] = output_df['wsi_label'].map(mapping)\n",
    "output_df.to_csv(output_path, index=False)"
   ]
  },
  {
   "cell_type": "code",
   "execution_count": 30,
   "metadata": {},
   "outputs": [],
   "source": [
    "import os\n",
    "import pandas as pd\n",
    "import numpy as np\n",
    "\n",
    "np.random.seed(0)\n",
    "label_dir = '/data/wsi/TCTGC10k-labels/9_labels'\n",
    "input_path = 'all_label.csv'\n",
    "input_path = os.path.join(label_dir, input_path)\n",
    "output_path = ['train_label.csv', 'val_label.csv', 'test_label.csv']\n",
    "output_path = [os.path.join(label_dir, p) for p in output_path]\n",
    "ratios = [0.8, 0.1, 0.1]\n",
    "df = pd.read_csv(input_path)\n",
    "df_shuffle = df.sample(frac=1).reset_index(drop=True)\n",
    "df_split = [df_shuffle.iloc[:int(len(df_shuffle) * ratios[0])],\n",
    "            df_shuffle.iloc[int(len(df_shuffle) * ratios[0]):int(len(df_shuffle) * (ratios[0] + ratios[1]))],\n",
    "            df_shuffle.iloc[int(len(df_shuffle) * (ratios[0] + ratios[1])):]]\n",
    "for i in range(3):\n",
    "    df_split[i].to_csv(output_path[i], index=False, header=False)\n"
   ]
  },
  {
   "cell_type": "code",
   "execution_count": 31,
   "metadata": {},
   "outputs": [
    {
     "name": "stdout",
     "output_type": "stream",
     "text": [
      "0\n",
      "0    4723\n",
      "1     983\n",
      "2     701\n",
      "3     234\n",
      "4     198\n",
      "Name: count, dtype: int64\n",
      "######################6839\n",
      "1\n",
      "0    579\n",
      "1    118\n",
      "2    106\n",
      "3     26\n",
      "4     25\n",
      "Name: count, dtype: int64\n",
      "######################854\n",
      "0\n",
      "0    585\n",
      "1    124\n",
      "2     94\n",
      "3     33\n",
      "4     18\n",
      "Name: count, dtype: int64\n",
      "######################854\n"
     ]
    }
   ],
   "source": [
    "import os\n",
    "import pandas as pd\n",
    "label_dir = 'onetask_5_labels'\n",
    "label_path = ['train_label.csv', 'val_label.csv', 'test_label.csv']\n",
    "for i in range(3):\n",
    "    label_path[i] = os.path.join(label_dir, label_path[i])\n",
    "    df = pd.read_csv(label_path[i])\n",
    "    print(df.iloc[:,1].value_counts())\n",
    "    print('######################{}'.format(len(df)))\n"
   ]
  },
  {
   "cell_type": "markdown",
   "metadata": {},
   "source": [
    "# 将原始文件抽取需要的信息(wsi_name, wsi_id)到all_label.csv"
   ]
  },
  {
   "cell_type": "code",
   "execution_count": 5,
   "metadata": {},
   "outputs": [],
   "source": [
    "import pandas as pd\n",
    "import os\n",
    "\n",
    "output_path = '/home/huangjialong/projects/BiomedCLIP-PUNCE/datatools/gc10k/9_labels'\n",
    "label_path = '/data/wsi/TCTGC50k-labels/TCTGC50k-volume1-labels-path.csv'\n",
    "df = pd.read_csv(label_path)\n",
    "mapping = {'NILM' :0, 'ASC-US' :1, 'LSIL' :2, 'ASC-H' :3, 'HSIL' :4,\\\n",
    "            'AGC':5, 'BV':6, 'M':7, 'T':8}\n",
    "# id2class = {v, k for k, v in mapping.items()}\n",
    "output_file = 'all_label.csv'\n",
    "df['wsi_label'] = df['wsi_label'].map(mapping)\n",
    "df['wsi_name'] = df['wsi_name'].str.replace('.pt', '')\n",
    "df_output = df[['wsi_name', 'wsi_label']].copy()\n",
    "df_output.to_csv(os.path.join(output_path, output_file), index=False, header=False)"
   ]
  },
  {
   "cell_type": "markdown",
   "metadata": {},
   "source": [
    "# 根据all_label.csv进行数据集的划分"
   ]
  },
  {
   "cell_type": "code",
   "execution_count": 6,
   "metadata": {},
   "outputs": [
    {
     "name": "stdout",
     "output_type": "stream",
     "text": [
      "9854\n",
      "8868\n",
      "986\n"
     ]
    }
   ],
   "source": [
    "import pandas as pd\n",
    "import os\n",
    "\n",
    "all_label_path = '/home/huangjialong/projects/BiomedCLIP-PUNCE/datatools/gc10k/9_labels/all_label.csv'\n",
    "output_path = '/home/huangjialong/projects/BiomedCLIP-PUNCE/datatools/gc10k/9_labels'\n",
    "df = pd.read_csv(all_label_path, header=None)\n",
    "print(len(df))\n",
    "\n",
    "df_shuffled = df.sample(frac=1, random_state=42)\n",
    "\n",
    "# 根据9:1比例划分\n",
    "train_ratio = 0.9\n",
    "df_train = df_shuffled.iloc[:int(len(df_shuffled) * train_ratio)]\n",
    "df_test = df_shuffled.iloc[int(len(df_shuffled) * train_ratio):]\n",
    "\n",
    "df_train.to_csv(os.path.join(output_path, 'train_val.csv'), index=False, header=False)\n",
    "df_test.to_csv(os.path.join(output_path, 'test_label.csv'), index=False, header=False)\n",
    "print(len(df_train))\n",
    "print(len(df_test))\n"
   ]
  }
 ],
 "metadata": {
  "kernelspec": {
   "display_name": "biomed",
   "language": "python",
   "name": "python3"
  },
  "language_info": {
   "codemirror_mode": {
    "name": "ipython",
    "version": 3
   },
   "file_extension": ".py",
   "mimetype": "text/x-python",
   "name": "python",
   "nbconvert_exporter": "python",
   "pygments_lexer": "ipython3",
   "version": "3.8.18"
  },
  "orig_nbformat": 4
 },
 "nbformat": 4,
 "nbformat_minor": 2
}
