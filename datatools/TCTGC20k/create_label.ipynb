{
 "cells": [
  {
   "cell_type": "markdown",
   "metadata": {},
   "source": [
    "# 采用分层采用从50k数据集中采样10k的数据集"
   ]
  },
  {
   "cell_type": "code",
   "execution_count": 1,
   "metadata": {},
   "outputs": [
    {
     "name": "stdout",
     "output_type": "stream",
     "text": [
      "成功从 '/data/wsi/TCTGC50k-labels/6_labels/TCTGC50k-v15-all.csv' 采样10,000条数据，并保存到 '/data/wsi/TCTGC10k-labels/6_labels/TCTGC20k-v15-all.csv'。\n",
      "\n",
      "采样数据的前5行:\n",
      "          id          wsi_name wsi_label  \\\n",
      "7076   24026  xCR20018578-NILM      nilm   \n",
      "32531  32968     T-SZ230111021      nilm   \n",
      "15924  10395   CX21204608-NILM      nilm   \n",
      "18461  13541          L2009647      nilm   \n",
      "3165   35613        CX20107883      asch   \n",
      "\n",
      "                                                wsi_path  \n",
      "7076   /data/wsi/TCTGC50k/TCTGC50k-volume1/xCR2001857...  \n",
      "32531  /data/wsi/TCTGC50k/TCTGC50k-volume4/T-SZ230111021  \n",
      "15924  /data/wsi/TCTGC50k/TCTGC50k-volume2/CX21204608...  \n",
      "18461       /data/wsi/TCTGC50k/TCTGC50k-volume3/L2009647  \n",
      "3165      /data/wsi/TCTGC50k/TCTGC50k-volume1/CX20107883  \n",
      "\n",
      "原始数据中 'wsi_label' 的分布:\n",
      "nilm     0.699127\n",
      "ascus    0.126468\n",
      "lsil     0.100840\n",
      "asch     0.034051\n",
      "hsil     0.027966\n",
      "agc      0.011549\n",
      "Name: wsi_label, dtype: float64\n",
      "\n",
      "采样数据中 'wsi_label' 的分布:\n",
      "nilm     0.699126\n",
      "ascus    0.126492\n",
      "lsil     0.100824\n",
      "asch     0.034057\n",
      "hsil     0.027965\n",
      "agc      0.011536\n",
      "Name: wsi_label, dtype: float64\n"
     ]
    }
   ],
   "source": [
    "import pandas as pd\n",
    "from sklearn.model_selection import train_test_split\n",
    "\n",
    "# 定义输入和输出文件路径\n",
    "input_path = '/data/wsi/TCTGC50k-labels/6_labels/TCTGC50k-v15-all.csv'\n",
    "output_path = '/data/wsi/TCTGC10k-labels/6_labels/TCTGC20k-v15-all.csv'\n",
    "\n",
    "try:\n",
    "    # 读取CSV文件\n",
    "    df = pd.read_csv(input_path)\n",
    "\n",
    "    # 进行分层采样\n",
    "    # 我们设置 train_size=10000 来获取10000个样本\n",
    "    sampled_df, _ = train_test_split(\n",
    "        df,\n",
    "        train_size=20025,\n",
    "        stratify=df['wsi_label'],\n",
    "        random_state=42  # 设置随机种子以保证结果可复现\n",
    "    )\n",
    "\n",
    "    # 将采样后的数据保存到新的CSV文件\n",
    "    sampled_df.to_csv(output_path, index=False)\n",
    "\n",
    "    print(f\"成功从 '{input_path}' 采样10,000条数据，并保存到 '{output_path}'。\")\n",
    "    print(\"\\n采样数据的前5行:\")\n",
    "    print(sampled_df.head())\n",
    "    print(f\"\\n原始数据中 'wsi_label' 的分布:\\n{df['wsi_label'].value_counts(normalize=True)}\")\n",
    "    print(f\"\\n采样数据中 'wsi_label' 的分布:\\n{sampled_df['wsi_label'].value_counts(normalize=True)}\")\n",
    "\n",
    "except FileNotFoundError:\n",
    "    print(f\"错误: 文件 '{input_path}' 未找到。请检查文件路径是否正确。\")\n",
    "except Exception as e:\n",
    "    print(f\"发生错误: {e}\")"
   ]
  },
  {
   "cell_type": "code",
   "execution_count": 3,
   "metadata": {},
   "outputs": [
    {
     "name": "stdout",
     "output_type": "stream",
     "text": [
      "成功将 '/data/wsi/TCTGC10k-labels/6_labels/TCTGC20k-v15-all.csv' 划分为训练集和测试集。\n",
      "训练集 (16020条) 已保存到: '/data/wsi/TCTGC10k-labels/6_labels/TCTGC20k-v15-train.csv'\n",
      "测试集 (4005条) 已保存到: '/data/wsi/TCTGC10k-labels/6_labels/TCTGC20k-v15-test.csv'\n",
      "\n",
      "原始数据集中 'wsi_label' 的分布:\n",
      "nilm     0.699126\n",
      "ascus    0.126492\n",
      "lsil     0.100824\n",
      "asch     0.034057\n",
      "hsil     0.027965\n",
      "agc      0.011536\n",
      "Name: wsi_label, dtype: float64\n",
      "\n",
      "训练集中 'wsi_label' 的分布:\n",
      "nilm     0.699126\n",
      "ascus    0.126467\n",
      "lsil     0.100811\n",
      "asch     0.034082\n",
      "hsil     0.027965\n",
      "agc      0.011548\n",
      "Name: wsi_label, dtype: float64\n",
      "\n",
      "测试集中 'wsi_label' 的分布:\n",
      "nilm     0.699126\n",
      "ascus    0.126592\n",
      "lsil     0.100874\n",
      "asch     0.033958\n",
      "hsil     0.027965\n",
      "agc      0.011486\n",
      "Name: wsi_label, dtype: float64\n"
     ]
    },
    {
     "ename": "",
     "evalue": "",
     "output_type": "error",
     "traceback": [
      "\u001b[1;31mThe Kernel crashed while executing code in the the current cell or a previous cell. Please review the code in the cell(s) to identify a possible cause of the failure. Click <a href='https://aka.ms/vscodeJupyterKernelCrash'>here</a> for more info. View Jupyter <a href='command:jupyter.viewOutput'>log</a> for further details."
     ]
    }
   ],
   "source": [
    "import pandas as pd\n",
    "from sklearn.model_selection import train_test_split\n",
    "\n",
    "# 定义输入文件和输出文件的路径\n",
    "input_path = '/data/wsi/TCTGC10k-labels/6_labels/TCTGC20k-v15-all.csv'\n",
    "train_output_path = '/data/wsi/TCTGC10k-labels/6_labels/TCTGC20k-v15-train.csv'\n",
    "test_output_path = '/data/wsi/TCTGC10k-labels/6_labels/TCTGC20k-v15-test.csv'\n",
    "\n",
    "try:\n",
    "    # 读取10k数据集文件\n",
    "    df = pd.read_csv(input_path)\n",
    "\n",
    "    # 按照8:2的比例进行分层划分\n",
    "    # test_size=0.2 表示测试集占20%\n",
    "    train_df, test_df = train_test_split(\n",
    "        df,\n",
    "        test_size=0.2,\n",
    "        stratify=df['wsi_label'],\n",
    "        random_state=42  # 确保划分结果可复现\n",
    "    )\n",
    "\n",
    "    # 将训练集和测试集分别保存到CSV文件\n",
    "    train_df.to_csv(train_output_path, index=False)\n",
    "    test_df.to_csv(test_output_path, index=False)\n",
    "\n",
    "    print(f\"成功将 '{input_path}' 划分为训练集和测试集。\")\n",
    "    print(f\"训练集 ({len(train_df)}条) 已保存到: '{train_output_path}'\")\n",
    "    print(f\"测试集 ({len(test_df)}条) 已保存到: '{test_output_path}'\")\n",
    "    \n",
    "    print(\"\\n原始数据集中 'wsi_label' 的分布:\")\n",
    "    print(df['wsi_label'].value_counts(normalize=True))\n",
    "    print(\"\\n训练集中 'wsi_label' 的分布:\")\n",
    "    print(train_df['wsi_label'].value_counts(normalize=True))\n",
    "    print(\"\\n测试集中 'wsi_label' 的分布:\")\n",
    "    print(test_df['wsi_label'].value_counts(normalize=True))\n",
    "\n",
    "\n",
    "except FileNotFoundError:\n",
    "    print(f\"错误: 输入文件 '{input_path}' 未找到。请先确保10k数据集已成功生成。\")\n",
    "except Exception as e:\n",
    "    print(f\"发生错误: {e}\")"
   ]
  }
 ],
 "metadata": {
  "kernelspec": {
   "display_name": "biomed",
   "language": "python",
   "name": "python3"
  },
  "language_info": {
   "codemirror_mode": {
    "name": "ipython",
    "version": 3
   },
   "file_extension": ".py",
   "mimetype": "text/x-python",
   "name": "python",
   "nbconvert_exporter": "python",
   "pygments_lexer": "ipython3",
   "version": "3.9.18"
  },
  "orig_nbformat": 4
 },
 "nbformat": 4,
 "nbformat_minor": 2
}
