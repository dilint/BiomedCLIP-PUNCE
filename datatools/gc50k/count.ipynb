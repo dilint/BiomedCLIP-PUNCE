{
 "cells": [
  {
   "attachments": {},
   "cell_type": "markdown",
   "metadata": {},
   "source": [
    "# 统计标签信息"
   ]
  },
  {
   "cell_type": "code",
   "execution_count": 56,
   "metadata": {},
   "outputs": [],
   "source": [
    "# !pip install openpyxl"
   ]
  },
  {
   "cell_type": "code",
   "execution_count": 61,
   "metadata": {},
   "outputs": [],
   "source": [
    "import os\n",
    "import pandas as pd\n",
    "from tqdm import tqdm\n",
    "\n",
    "root_dir = '/data/hjl/data'\n",
    "label_file = 'wsi_label_info-20240905.xlsx'\n",
    "label_path = os.path.join(root_dir, label_file)\n",
    "\n",
    "# 读取xlsx文件\n",
    "df = pd.read_excel(label_path)"
   ]
  },
  {
   "attachments": {},
   "cell_type": "markdown",
   "metadata": {},
   "source": [
    "# 去重 去错误图片 去没有检测结果"
   ]
  },
  {
   "cell_type": "code",
   "execution_count": 62,
   "metadata": {},
   "outputs": [
    {
     "name": "stdout",
     "output_type": "stream",
     "text": [
      "54367\n",
      "########################################\n",
      "49935\n"
     ]
    }
   ],
   "source": [
    "# 去重\n",
    "\n",
    "print(len(df['wsi_id']))\n",
    "# print(df['wsi_label'].value_counts())\n",
    "print('########################################')\n",
    "\n",
    "df = df.drop_duplicates(subset='wsi_id')\n",
    "print(len(df['wsi_id']))\n",
    "# print(df['wsi_label'].value_counts())\n",
    "\n",
    "\n"
   ]
  },
  {
   "cell_type": "code",
   "execution_count": 63,
   "metadata": {},
   "outputs": [
    {
     "name": "stdout",
     "output_type": "stream",
     "text": [
      "49935\n",
      "49777\n"
     ]
    }
   ],
   "source": [
    "# 去掉错误图片\n",
    "err_table = pd.read_excel('/data/hjl/data/tct_img_error.xlsx')\n",
    "err_list = list(err_table['wsi_name'].unique())\n",
    "err_list = [item + '.pt' for item in err_list]\n",
    "print(len(df['wsi_id']))\n",
    "df = df[~df['wsi_id'].isin(err_list)]\n",
    "print(len(df['wsi_id']))\n"
   ]
  },
  {
   "cell_type": "code",
   "execution_count": 64,
   "metadata": {},
   "outputs": [
    {
     "name": "stdout",
     "output_type": "stream",
     "text": [
      "49777\n"
     ]
    },
    {
     "name": "stderr",
     "output_type": "stream",
     "text": [
      "49777it [33:30, 24.76it/s] "
     ]
    },
    {
     "name": "stdout",
     "output_type": "stream",
     "text": [
      "49032\n",
      "745\n"
     ]
    },
    {
     "name": "stderr",
     "output_type": "stream",
     "text": [
      "\n"
     ]
    }
   ],
   "source": [
    "# 去掉没有检测特征\n",
    "feat_dir = '/data/hjl/data/ori_img_feats/embed6/'\n",
    "count = 0\n",
    "print(len(df['wsi_id']))\n",
    "for index, wsi in tqdm(df.iterrows()): \n",
    "    if not os.path.exists(os.path.join(feat_dir, wsi['wsi_id'].replace('.pt', ''))):\n",
    "        count += 1\n",
    "        # print(wsi['wsi_id'])\n",
    "        df = df.drop(index)\n",
    "print(len(df['wsi_id']))\n",
    "print(count)\n",
    "# print(df['wsi_label'].value_counts())\n",
    "# print('########################################')"
   ]
  },
  {
   "cell_type": "code",
   "execution_count": 65,
   "metadata": {},
   "outputs": [
    {
     "name": "stdout",
     "output_type": "stream",
     "text": [
      "49032\n",
      "49030\n"
     ]
    }
   ],
   "source": [
    "# 去掉没有检索到WSI文件夹\n",
    "pd_path = pd.read_csv('/data/hjl/data/wsi_label_path.csv')\n",
    "exist_list = list(pd_path['wsi_id'].unique())\n",
    "print(len(df['wsi_id']))\n",
    "df = df[df['wsi_id'].isin(exist_list)]\n",
    "print(len(df['wsi_id']))\n"
   ]
  },
  {
   "cell_type": "code",
   "execution_count": 66,
   "metadata": {},
   "outputs": [
    {
     "name": "stdout",
     "output_type": "stream",
     "text": [
      "49030\n",
      "wsi_label\n",
      "NILM            29351\n",
      "ASC-US           5871\n",
      "LSIL             4424\n",
      "BV               3781\n",
      "M                1802\n",
      "ASC-H            1487\n",
      "HSIL             1189\n",
      "T                 587\n",
      "AGC               497\n",
      "E                  17\n",
      "Actinomyces         8\n",
      "NILM-atrophy        4\n",
      "ASC-US+BV           2\n",
      "炎症                  2\n",
      "LSIL+BV             1\n",
      "FXJ                 1\n",
      "ASC-H+BV            1\n",
      "ASC-h               1\n",
      "？                   1\n",
      "HSV                 1\n",
      "ASCH                1\n",
      "SCC                 1\n",
      "Name: count, dtype: int64\n"
     ]
    }
   ],
   "source": [
    "print(len(df['wsi_id']))\n",
    "print(df['wsi_label'].value_counts())"
   ]
  },
  {
   "cell_type": "code",
   "execution_count": 67,
   "metadata": {},
   "outputs": [
    {
     "name": "stdout",
     "output_type": "stream",
     "text": [
      "48991\n",
      "wsi_label\n",
      "NILM      29351\n",
      "ASC-US     5871\n",
      "LSIL       4424\n",
      "BV         3781\n",
      "M          1802\n",
      "ASC-H      1489\n",
      "HSIL       1189\n",
      "T           587\n",
      "AGC         497\n",
      "Name: count, dtype: int64\n"
     ]
    }
   ],
   "source": [
    "df['wsi_label'] = df['wsi_label'].replace('ASCH', 'ASC-H')\n",
    "df['wsi_label'] = df['wsi_label'].replace('ASC-h', 'ASC-H')\n",
    "selected_values = ['NILM', 'ASC-US', 'LSIL', 'ASC-H', 'HSIL', 'AGC', 'T', 'M', 'BV']\n",
    "df = df[df['wsi_label'].isin(selected_values)]\n",
    "print(len(df['wsi_id']))\n",
    "print(df['wsi_label'].value_counts())\n"
   ]
  },
  {
   "cell_type": "code",
   "execution_count": 68,
   "metadata": {},
   "outputs": [
    {
     "name": "stdout",
     "output_type": "stream",
     "text": [
      "48991\n",
      "38991\n"
     ]
    }
   ],
   "source": [
    "import random\n",
    "volume1_path = '/data/hjl/data/TCTGC50k-labels/TCTGC50k-volume1-labels-path.csv'\n",
    "volume1 = pd.read_csv(volume1_path)\n",
    "volume1_id = list(volume1['wsi_id'])\n",
    "all_id = list(df['wsi_id'])\n",
    "print(len(all_id))\n",
    "# 使用列表推导式从list1中减去list2的元素\n",
    "all_id = [item for item in all_id if item not in volume1_id]\n",
    "# 打印结果\n",
    "print(len(all_id))\n",
    "volume2_id = all_id[:10000]\n",
    "volume3_id = all_id[10000:20000]\n",
    "volume4_id = all_id[20000:30000]\n",
    "volume5_id = all_id[30000:]\n",
    "volumes_id = [[], volume1_id, volume2_id, volume3_id, volume4_id, volume5_id]\n",
    "# print(len(volumes_id[5]))"
   ]
  },
  {
   "cell_type": "code",
   "execution_count": 70,
   "metadata": {},
   "outputs": [],
   "source": [
    "output_dir = '/data/hjl/data/TCTGC50k-labels'\n",
    "output_files = [f'TCTGC50k-volume{i}-labels-path.csv' for i in range(0, 6)]\n",
    "path_csv = pd.read_csv(wsi_label_path)\n",
    "for i in range(2,6):\n",
    "    volume_id = volumes_id[i]\n",
    "    output_df = []\n",
    "    for id in volume_id:\n",
    "        output_df.append(path_csv[path_csv['wsi_id'] == id])\n",
    "    output_df = pd.concat(output_df)\n",
    "    output_path = os.path.join(output_dir, output_files[i])\n",
    "    output_df.to_csv(output_path, index=False)"
   ]
  },
  {
   "attachments": {},
   "cell_type": "markdown",
   "metadata": {},
   "source": [
    "# 创建软链接"
   ]
  },
  {
   "cell_type": "code",
   "execution_count": 7,
   "metadata": {},
   "outputs": [
    {
     "name": "stderr",
     "output_type": "stream",
     "text": [
      "100%|██████████| 4/4 [00:43<00:00, 10.98s/it]\n"
     ]
    }
   ],
   "source": [
    "import os\n",
    "import pandas as pd\n",
    "from tqdm import tqdm\n",
    "\n",
    "label_dir = '/data/hjl/data/TCTGC50k-labels'\n",
    "label_files = [f'TCTGC50k-volume{i}-labels-path.csv' for i in range(0, 6)]\n",
    "\n",
    "output_dir = '/data/hjl/data/TCTGC50k'\n",
    "output_sub_dirs = [f'TCTGC50k-volume{i}' for i in range(0, 6)]\n",
    "\n",
    "for i in tqdm(range(2,6)):\n",
    "    label_path = os.path.join(label_dir, label_files[i])\n",
    "    df_volume = pd.read_csv(label_path)\n",
    "    for index, row in df_volume.iterrows():\n",
    "        wsi_name = row['wsi_id'].replace('.pt', '')\n",
    "        wsi_img_path = row['wsi_img_path']\n",
    "        os.symlink(wsi_img_path, os.path.join(output_dir, output_sub_dirs[i], wsi_name))\n",
    "\n"
   ]
  },
  {
   "attachments": {},
   "cell_type": "markdown",
   "metadata": {},
   "source": [
    "# 构造子样本标签"
   ]
  },
  {
   "cell_type": "code",
   "execution_count": null,
   "metadata": {},
   "outputs": [],
   "source": [
    "# import numpy as np\n",
    "# np.random.seed(42)\n",
    "\n",
    "# root_dir = '/data/hjl/data'\n",
    "# sample_num = 2000\n",
    "# output_file = f'wsi_label_{sample_num}.csv'\n",
    "# output_path = os.path.join(root_dir, output_file)\n",
    "# # sample_df = df.sample(n=sample_num, replace=False)\n",
    "# # sample_df.to_csv(output_path, index=False)\n",
    "# discard_wsi_list = ['CX20193918-ASC-US.pt', 'T2303300641.pt']\n",
    "\n",
    "# value_list = ['NILM', 'ASC-US', 'LSIL', 'ASC-H', 'HSIL', 'AGC', 'T', 'M', 'BV']\n",
    "# specific_value = 'NILM-atrophy'  \n",
    "# specific_samples = df[df['wsi_label'] == specific_value]\n",
    "\n",
    "# # 计算特定值样本的数量\n",
    "# specific_samples_count = specific_samples.shape[0]\n",
    "\n",
    "# # 然后从剩余的数据中随机选择 2000 - specific_samples_count 个样本\n",
    "# remaining_samples_count = 2000 - specific_samples_count\n",
    "\n",
    "# df = df[~df['wsi_id'].isin(discard_wsi_list)]\n",
    "# remaining_samples = df[df['wsi_label'].isin(value_list)].sample(n=remaining_samples_count, replace=False)\n",
    "\n",
    "# # 将特定值样本和随机选择的样本合并\n",
    "# combined_samples = pd.concat([specific_samples, remaining_samples])\n",
    "\n",
    "# # 再次保存到CSV文件\n",
    "# combined_samples.to_csv(output_path, index=False)\n",
    "\n"
   ]
  },
  {
   "cell_type": "code",
   "execution_count": null,
   "metadata": {},
   "outputs": [
    {
     "name": "stdout",
     "output_type": "stream",
     "text": [
      "wsi_label\n",
      "NILM            1203\n",
      "ASC-US           209\n",
      "BV               177\n",
      "LSIL             171\n",
      "M                 86\n",
      "ASC-H             59\n",
      "HSIL              38\n",
      "T                 32\n",
      "AGC               21\n",
      "NILM-atrophy       4\n",
      "Name: count, dtype: int64\n",
      "########\n"
     ]
    },
    {
     "data": {
      "text/plain": [
       "wsi_label\n",
       "NILM            1203\n",
       "ASC-US           209\n",
       "BV               177\n",
       "LSIL             171\n",
       "M                 86\n",
       "ASC-H             59\n",
       "HSIL              38\n",
       "T                 32\n",
       "AGC               21\n",
       "NILM-atrophy       4\n",
       "Name: count, dtype: int64"
      ]
     },
     "execution_count": 4,
     "metadata": {},
     "output_type": "execute_result"
    }
   ],
   "source": [
    "# print(combined_samples['wsi_label'].value_counts())\n",
    "# unique_samples = combined_samples.drop_duplicates()\n",
    "# print('########')\n",
    "# unique_samples['wsi_label'].value_counts()"
   ]
  },
  {
   "cell_type": "code",
   "execution_count": null,
   "metadata": {},
   "outputs": [
    {
     "name": "stdout",
     "output_type": "stream",
     "text": [
      "count     2000\n",
      "unique      10\n",
      "top       NILM\n",
      "freq      1203\n",
      "Name: wsi_label, dtype: object\n",
      "wsi_label\n",
      "NILM            1203\n",
      "ASC-US           209\n",
      "BV               177\n",
      "LSIL             171\n",
      "M                 86\n",
      "ASC-H             59\n",
      "HSIL              38\n",
      "T                 32\n",
      "AGC               21\n",
      "NILM-atrophy       4\n",
      "Name: count, dtype: int64\n"
     ]
    }
   ],
   "source": [
    "# import os\n",
    "# import pandas as pd\n",
    "\n",
    "# root_dir = '/data/hjl/data'\n",
    "# label_file = 'wsi_label_2000.csv'\n",
    "# label_path = os.path.join(root_dir, label_file)\n",
    "\n",
    "# # 读取xlsx文件\n",
    "# df = pd.read_csv(label_path)\n",
    "\n",
    "# print(df['wsi_label'].describe())\n",
    "# print(df['wsi_label'].value_counts())\n"
   ]
  },
  {
   "attachments": {},
   "cell_type": "markdown",
   "metadata": {},
   "source": [
    "## 匹配WSI位置"
   ]
  },
  {
   "cell_type": "code",
   "execution_count": null,
   "metadata": {},
   "outputs": [
    {
     "name": "stderr",
     "output_type": "stream",
     "text": [
      "2000it [00:08, 239.15it/s]\n"
     ]
    }
   ],
   "source": [
    "# import os, glob\n",
    "# import pandas as pd\n",
    "# from tqdm import tqdm\n",
    "\n",
    "# root_dir = '/data/hjl/data'\n",
    "# label_file = 'wsi_label_2000.csv'\n",
    "# label_path = os.path.join(root_dir, label_file)\n",
    "# sample_num = 2000\n",
    "# output_file = f'wsi_label_{sample_num}_path.csv'\n",
    "# output_path = os.path.join(root_dir, output_file)\n",
    "# wsi_root_dir = '/data2/px_data_lake/TCT_POS_NEG_DATA3'\n",
    "\n",
    "# # 读取xlsx文件\n",
    "# df = pd.read_csv(label_path)\n",
    "# wsi_paths = []\n",
    "# for index, wsi in tqdm(df.iterrows()): \n",
    "#     wsi_name = wsi['wsi_id'].replace('.pt', '')\n",
    "#     wsi_path = glob.glob(os.path.join(wsi_root_dir, '*', '*', wsi_name), recursive=True)\n",
    "#     if len(wsi_path) == 0:\n",
    "#         print(f'No matching WSI found for {wsi_name}')\n",
    "#         wsi_paths.append('flag')\n",
    "#     else:\n",
    "#         wsi_paths.append(wsi_path[0]) \n",
    "# df['wsi_path'] = wsi_paths\n",
    "# df.to_csv(output_path, index=False)"
   ]
  },
  {
   "cell_type": "code",
   "execution_count": null,
   "metadata": {},
   "outputs": [
    {
     "name": "stderr",
     "output_type": "stream",
     "text": [
      "2000it [00:00, 20395.10it/s]"
     ]
    },
    {
     "name": "stdout",
     "output_type": "stream",
     "text": [
      "0\n"
     ]
    },
    {
     "name": "stderr",
     "output_type": "stream",
     "text": [
      "\n"
     ]
    }
   ],
   "source": [
    "# import os, glob\n",
    "# import pandas as pd\n",
    "# from tqdm import tqdm\n",
    "\n",
    "# feat_dir = '/data/hjl/data/ori_img_feats/embed6/'\n",
    "# root_dir = '/data/hjl/data'\n",
    "# label_file = 'wsi_label_2000.csv'\n",
    "# label_path = os.path.join(root_dir, label_file)\n",
    "# df = pd.read_csv(label_path)\n",
    "# count = 0\n",
    "# for index, wsi in tqdm(df.iterrows()): \n",
    "#     wsi_id = wsi['wsi_id'].replace('.pt', '')\n",
    "#     feat_path = glob.glob(os.path.join(feat_dir, wsi_id))\n",
    "#     if len(feat_path) == 0:\n",
    "#         print(f'No matching WSI found for {wsi_id}')\n",
    "#         count += 1\n",
    "# print(count)\n"
   ]
  },
  {
   "attachments": {},
   "cell_type": "markdown",
   "metadata": {},
   "source": [
    "# 统计图片信息"
   ]
  },
  {
   "cell_type": "code",
   "execution_count": null,
   "metadata": {},
   "outputs": [
    {
     "name": "stdout",
     "output_type": "stream",
     "text": [
      "2000\n"
     ]
    },
    {
     "name": "stderr",
     "output_type": "stream",
     "text": [
      "100%|██████████| 2000/2000 [00:05<00:00, 358.20it/s]"
     ]
    },
    {
     "name": "stdout",
     "output_type": "stream",
     "text": [
      "0\n"
     ]
    },
    {
     "name": "stderr",
     "output_type": "stream",
     "text": [
      "\n"
     ]
    }
   ],
   "source": [
    "# import os, glob\n",
    "# import pandas as pd\n",
    "# from tqdm import tqdm\n",
    "\n",
    "# root_dir = '/data/hjl/data'\n",
    "# label_file = 'wsi_label_2000_path.csv'\n",
    "# label_path = os.path.join(root_dir, label_file)\n",
    "# # sample_num = 2000\n",
    "# output_file = f'wsi_label_2000_imgpath.csv'\n",
    "# output_path = os.path.join(root_dir, output_file)\n",
    "# # wsi_root_dir = '/data2/px_data_lake/TCT_POS_NEG_DATA3'\n",
    "\n",
    "# # 读取xlsx文件\n",
    "# df = pd.read_csv(label_path)\n",
    "# wsi_paths = df['wsi_path']\n",
    "# wsi_img_paths = []\n",
    "# count = 0\n",
    "# print(len(wsi_paths))\n",
    "# for wsi_path in tqdm(wsi_paths):\n",
    "#     tmp_path1 = os.path.join(wsi_path, 'TCT', 'OriginalImage')\n",
    "#     tmp_path2 = os.path.join(wsi_path, 'DigitalSlice', 'OriginalImage')\n",
    "#     tmp_path3 = os.path.join(wsi_path, 'OriginalImage')\n",
    "#     tmp_path4 = 'flag'\n",
    "#     flag = False\n",
    "#     if os.path.exists(tmp_path1):\n",
    "#         wsi_img_paths.append(tmp_path1)\n",
    "#     elif os.path.exists(tmp_path2):\n",
    "#         wsi_img_paths.append(tmp_path2)\n",
    "#     elif os.path.exists(tmp_path3):\n",
    "#         wsi_img_paths.append(tmp_path3)\n",
    "#     else:\n",
    "#         for filename in os.listdir(wsi_path):\n",
    "#             if filename.endswith('.jpg'):\n",
    "#                 flag = True\n",
    "#         if flag:\n",
    "#             wsi_img_paths.append(wsi_path)\n",
    "#         else:\n",
    "#             wsi_img_paths.append(tmp_path4)\n",
    "#             print(wsi_path)\n",
    "#             count += 1\n",
    "# print(count)\n",
    "# df['wsi_img_path'] = wsi_img_paths\n",
    "# df.to_csv(output_path, index=False)\n",
    "\n",
    "# # df['wsi_path'] = wsi_paths\n",
    "# # df.to_csv(output_path, index=False)"
   ]
  },
  {
   "attachments": {},
   "cell_type": "markdown",
   "metadata": {},
   "source": [
    "# 创建数据集软连接"
   ]
  },
  {
   "cell_type": "code",
   "execution_count": null,
   "metadata": {},
   "outputs": [],
   "source": [
    "import os\n",
    "import pandas as pd\n",
    "\n",
    "output_dir = '/data/hjl/data/TCTGC-2000'\n",
    "csv_file = '/data/hjl/data/wsi_label_2000_imgpath.csv'\n",
    "df = pd.read_csv(csv_file)\n",
    "\n",
    "for index, row in df.iterrows():\n",
    "    wsi_name = row['wsi_id'].replace('.pt', '')\n",
    "    wsi_img_path = row['wsi_img_path']\n",
    "    os.symlink(wsi_img_path, os.path.join(output_dir, wsi_name))\n",
    "\n"
   ]
  }
 ],
 "metadata": {
  "kernelspec": {
   "display_name": "biomed",
   "language": "python",
   "name": "python3"
  },
  "language_info": {
   "codemirror_mode": {
    "name": "ipython",
    "version": 3
   },
   "file_extension": ".py",
   "mimetype": "text/x-python",
   "name": "python",
   "nbconvert_exporter": "python",
   "pygments_lexer": "ipython3",
   "version": "3.8.20"
  },
  "orig_nbformat": 4
 },
 "nbformat": 4,
 "nbformat_minor": 2
}
