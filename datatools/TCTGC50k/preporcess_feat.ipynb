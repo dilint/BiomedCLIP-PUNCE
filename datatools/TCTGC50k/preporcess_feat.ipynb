{
 "cells": [
  {
   "cell_type": "markdown",
   "metadata": {},
   "source": [
    "# 预先进行聚类\n"
   ]
  },
  {
   "cell_type": "code",
   "execution_count": 2,
   "metadata": {},
   "outputs": [
    {
     "name": "stderr",
     "output_type": "stream",
     "text": [
      "Processing WSIs:   0%|          | 0/38339 [00:00<?, ?it/s]/tmp/ipykernel_2983/774604183.py:27: FutureWarning: You are using `torch.load` with `weights_only=False` (the current default value), which uses the default pickle module implicitly. It is possible to construct malicious pickle data which will execute arbitrary code during unpickling (See https://github.com/pytorch/pytorch/blob/main/SECURITY.md#untrusted-models for more details). In a future release, the default value for `weights_only` will be flipped to `True`. This limits the functions that could be executed during unpickling. Arbitrary objects will no longer be allowed to be loaded via this mode unless they are explicitly allowlisted by the user via `torch.serialization.add_safe_globals`. We recommend you start setting `weights_only=True` for any use case where you don't have full control of the loaded file. Please open an issue on GitHub for any issues related to this experimental feature.\n",
      "  features = torch.load(pt_path)\n",
      "Processing WSIs: 100%|██████████| 38339/38339 [37:12<00:00, 17.17it/s] \n"
     ]
    },
    {
     "name": "stdout",
     "output_type": "stream",
     "text": [
      "Saved pooled features to ./cluster/kmeans_5.csv\n"
     ]
    }
   ],
   "source": [
    "import os\n",
    "import pandas as pd\n",
    "import torch\n",
    "from tqdm import tqdm\n",
    "from cuml.cluster import KMeans\n",
    "import cupy as cp\n",
    "\n",
    "# from sklearn.cluster import KMeans\n",
    "\n",
    "# Your existing setup\n",
    "input_path = '/data/wsi/TCTGC50k-features/gigapath-coarse/pt'\n",
    "input_label = '/data/wsi/TCTGC50k-labels/6_labels/TCTGC50k-v15-train.csv'\n",
    "labels = pd.read_csv(input_label)\n",
    "n_clusters = 5\n",
    "output_path = './cluster'\n",
    "\n",
    "# Create DataFrame with WSI names\n",
    "df = labels[['wsi_name']].copy()\n",
    "df['cluster_label'] = None  # Add column for storing pooled features\n",
    "\n",
    "# Process each WSI\n",
    "for idx, row in tqdm(df.iterrows(), total=len(df), desc=\"Processing WSIs\"):\n",
    "    wsi_name = row['wsi_name']\n",
    "    pt_path = os.path.join(input_path, f\"{wsi_name}.pt\")\n",
    "    \n",
    "    try:\n",
    "        features = torch.load(pt_path)\n",
    "        # Load features\n",
    "        # kmeans = KMeans(n_clusters=n_clusters, random_state=42, n_init=10)\n",
    "        # cluster_labels = kmeans.fit_predict(features)\n",
    "\n",
    "        patch_features_cp = cp.asarray(features)\n",
    "        # patch_features_cp = patch_features\n",
    "        kmeans = KMeans(n_clusters=n_clusters, random_state=42)\n",
    "        cluster_labels = kmeans.fit_predict(patch_features_cp)\n",
    "        df.at[idx, 'cluster_label'] = \" \".join(map(str, cluster_labels))\n",
    "        \n",
    "    except Exception as e:\n",
    "        print(f\"Error processing {wsi_name}: {str(e)}\")\n",
    "        df.at[idx, 'cluster_label'] = None  # Mark as failed\n",
    "\n",
    "# Optional: Save the DataFrame with pooled features\n",
    "output_df_path = os.path.join(output_path, f\"kmeans_{n_clusters}.csv\")\n",
    "df.to_csv(output_df_path, index=False)\n",
    "print(f\"Saved pooled features to {output_df_path}\")"
   ]
  }
 ],
 "metadata": {
  "kernelspec": {
   "display_name": "biomed",
   "language": "python",
   "name": "python3"
  },
  "language_info": {
   "codemirror_mode": {
    "name": "ipython",
    "version": 3
   },
   "file_extension": ".py",
   "mimetype": "text/x-python",
   "name": "python",
   "nbconvert_exporter": "python",
   "pygments_lexer": "ipython3",
   "version": "3.9.21"
  },
  "orig_nbformat": 4
 },
 "nbformat": 4,
 "nbformat_minor": 2
}
