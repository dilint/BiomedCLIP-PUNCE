{
 "cells": [
  {
   "cell_type": "code",
   "execution_count": 1,
   "metadata": {},
   "outputs": [],
   "source": [
    "import os\n",
    "train_label_path = '/home1/wsi/tct/train_smear.txt'\n",
    "val_label_path = '/home1/wsi/tct/val_smear.txt'\n",
    "output_path = 'labels'\n",
    "file_names = ['train_label.csv', 'val_label.csv', 'test_label.csv']\n",
    "\n"
   ]
  },
  {
   "cell_type": "code",
   "execution_count": 2,
   "metadata": {},
   "outputs": [
    {
     "ename": "FileNotFoundError",
     "evalue": "[Errno 2] No such file or directory: '/home1/wsi/tct/train_smear.txt'",
     "output_type": "error",
     "traceback": [
      "\u001b[0;31m---------------------------------------------------------------------------\u001b[0m",
      "\u001b[0;31mFileNotFoundError\u001b[0m                         Traceback (most recent call last)",
      "Cell \u001b[0;32mIn[2], line 1\u001b[0m\n\u001b[0;32m----> 1\u001b[0m \u001b[39mwith\u001b[39;00m \u001b[39mopen\u001b[39;49m(train_label_path, \u001b[39m'\u001b[39;49m\u001b[39mr\u001b[39;49m\u001b[39m'\u001b[39;49m) \u001b[39mas\u001b[39;00m f:\n\u001b[1;32m      2\u001b[0m     lines \u001b[39m=\u001b[39m f\u001b[39m.\u001b[39mreadlines()\n\u001b[1;32m      3\u001b[0m     f\u001b[39m.\u001b[39mclose()\n",
      "File \u001b[0;32m~/anaconda3/envs/biomed/lib/python3.8/site-packages/IPython/core/interactiveshell.py:284\u001b[0m, in \u001b[0;36m_modified_open\u001b[0;34m(file, *args, **kwargs)\u001b[0m\n\u001b[1;32m    277\u001b[0m \u001b[39mif\u001b[39;00m file \u001b[39min\u001b[39;00m {\u001b[39m0\u001b[39m, \u001b[39m1\u001b[39m, \u001b[39m2\u001b[39m}:\n\u001b[1;32m    278\u001b[0m     \u001b[39mraise\u001b[39;00m \u001b[39mValueError\u001b[39;00m(\n\u001b[1;32m    279\u001b[0m         \u001b[39mf\u001b[39m\u001b[39m\"\u001b[39m\u001b[39mIPython won\u001b[39m\u001b[39m'\u001b[39m\u001b[39mt let you open fd=\u001b[39m\u001b[39m{\u001b[39;00mfile\u001b[39m}\u001b[39;00m\u001b[39m by default \u001b[39m\u001b[39m\"\u001b[39m\n\u001b[1;32m    280\u001b[0m         \u001b[39m\"\u001b[39m\u001b[39mas it is likely to crash IPython. If you know what you are doing, \u001b[39m\u001b[39m\"\u001b[39m\n\u001b[1;32m    281\u001b[0m         \u001b[39m\"\u001b[39m\u001b[39myou can use builtins\u001b[39m\u001b[39m'\u001b[39m\u001b[39m open.\u001b[39m\u001b[39m\"\u001b[39m\n\u001b[1;32m    282\u001b[0m     )\n\u001b[0;32m--> 284\u001b[0m \u001b[39mreturn\u001b[39;00m io_open(file, \u001b[39m*\u001b[39;49margs, \u001b[39m*\u001b[39;49m\u001b[39m*\u001b[39;49mkwargs)\n",
      "\u001b[0;31mFileNotFoundError\u001b[0m: [Errno 2] No such file or directory: '/home1/wsi/tct/train_smear.txt'"
     ]
    }
   ],
   "source": [
    "with open(train_label_path, 'r') as f:\n",
    "    lines = f.readlines()\n",
    "    f.close()\n",
    "print(lines)"
   ]
  },
  {
   "cell_type": "code",
   "execution_count": null,
   "metadata": {},
   "outputs": [
    {
     "data": {
      "text/plain": [
       "'labels/test_label.csv'"
      ]
     },
     "execution_count": 3,
     "metadata": {},
     "output_type": "execute_result"
    }
   ],
   "source": [
    "import csv\n",
    "import shutil\n",
    "if not os.path.exists(output_path):\n",
    "    os.mkdir(output_path)\n",
    "with open(train_label_path, 'r') as f:\n",
    "    train_lines = f.readlines()\n",
    "    f.close()\n",
    "    \n",
    "output_paths = []\n",
    "for i in range(3):\n",
    "    output_paths.append(os.path.join(output_path, file_names[i]))\n",
    "\n",
    "with open(output_paths[0], 'w') as f:\n",
    "    writer = csv.writer(f)\n",
    "    for line in train_lines:\n",
    "        class_num = 0 if 'neg' in line else 1\n",
    "        line = line.replace('neg/', '').replace('pos/', '').replace('\\n', '')\n",
    "        writer.writerow((line, class_num))\n",
    "    f.close()\n",
    "with open(output_paths[1], 'w') as f:\n",
    "    writer = csv.writer(f)\n",
    "    for line in train_lines:\n",
    "        class_num = 0 if 'neg' in line else 1\n",
    "        line = line.replace('neg/', '').replace('pos/', '').replace('\\n', '')\n",
    "        writer.writerow((line, class_num))\n",
    "    f.close()\n",
    "shutil.copy(output_paths[1], output_paths[2])"
   ]
  }
 ],
 "metadata": {
  "kernelspec": {
   "display_name": "dist-pu",
   "language": "python",
   "name": "python3"
  },
  "language_info": {
   "codemirror_mode": {
    "name": "ipython",
    "version": 3
   },
   "file_extension": ".py",
   "mimetype": "text/x-python",
   "name": "python",
   "nbconvert_exporter": "python",
   "pygments_lexer": "ipython3",
   "version": "3.8.18"
  },
  "orig_nbformat": 4
 },
 "nbformat": 4,
 "nbformat_minor": 2
}
