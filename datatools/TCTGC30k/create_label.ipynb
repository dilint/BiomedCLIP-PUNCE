{
 "cells": [
  {
   "cell_type": "markdown",
   "metadata": {},
   "source": [
    "# 采用分层采用从50k数据集中采样10k的数据集"
   ]
  },
  {
   "cell_type": "code",
   "execution_count": 1,
   "metadata": {},
   "outputs": [
    {
     "name": "stdout",
     "output_type": "stream",
     "text": [
      "成功从 '/data/wsi/TCTGC50k-labels/6_labels/TCTGC50k-v15-all.csv' 采样10,000条数据，并保存到 '/data/wsi/TCTGC10k-labels/6_labels/TCTGC30k-v15-all.csv'。\n",
      "\n",
      "采样数据的前5行:\n",
      "          id         wsi_name wsi_label  \\\n",
      "25365  22202  T220618285-NILM      nilm   \n",
      "5216   38135   XY12944005NXE2      hsil   \n",
      "20362  15927    L2015012-NILM      nilm   \n",
      "36889  38910      T2308170906      asch   \n",
      "4688   16003    L2015103-NILM      nilm   \n",
      "\n",
      "                                                wsi_path  \n",
      "25365  /data/wsi/TCTGC50k/TCTGC50k-volume3/T220618285...  \n",
      "5216   /data/wsi/TCTGC50k/TCTGC50k-volume1/XY12944005...  \n",
      "20362  /data/wsi/TCTGC50k/TCTGC50k-volume3/L2015012-NILM  \n",
      "36889    /data/wsi/TCTGC50k/TCTGC50k-volume5/T2308170906  \n",
      "4688   /data/wsi/TCTGC50k/TCTGC50k-volume1/L2015103-NILM  \n",
      "\n",
      "原始数据中 'wsi_label' 的分布:\n",
      "nilm     0.699127\n",
      "ascus    0.126468\n",
      "lsil     0.100840\n",
      "asch     0.034051\n",
      "hsil     0.027966\n",
      "agc      0.011549\n",
      "Name: wsi_label, dtype: float64\n",
      "\n",
      "采样数据中 'wsi_label' 的分布:\n",
      "nilm     0.699118\n",
      "ascus    0.126470\n",
      "lsil     0.100837\n",
      "asch     0.034071\n",
      "hsil     0.027966\n",
      "agc      0.011538\n",
      "Name: wsi_label, dtype: float64\n"
     ]
    }
   ],
   "source": [
    "import pandas as pd\n",
    "from sklearn.model_selection import train_test_split\n",
    "\n",
    "# 定义输入和输出文件路径\n",
    "input_path = '/data/wsi/TCTGC50k-labels/6_labels/TCTGC50k-v15-all.csv'\n",
    "output_path = '/data/wsi/TCTGC30k-labels/6_labels/TCTGC30k-v15-all.csv'\n",
    "\n",
    "try:\n",
    "    # 读取CSV文件\n",
    "    df = pd.read_csv(input_path)\n",
    "\n",
    "    # 进行分层采样\n",
    "    # 我们设置 train_size=10000 来获取10000个样本\n",
    "    sampled_df, _ = train_test_split(\n",
    "        df,\n",
    "        train_size=31288,\n",
    "        stratify=df['wsi_label'],\n",
    "        random_state=42  # 设置随机种子以保证结果可复现\n",
    "    )\n",
    "\n",
    "    # 将采样后的数据保存到新的CSV文件\n",
    "    sampled_df.to_csv(output_path, index=False)\n",
    "\n",
    "    print(f\"成功从 '{input_path}' 采样10,000条数据，并保存到 '{output_path}'。\")\n",
    "    print(\"\\n采样数据的前5行:\")\n",
    "    print(sampled_df.head())\n",
    "    print(f\"\\n原始数据中 'wsi_label' 的分布:\\n{df['wsi_label'].value_counts(normalize=True)}\")\n",
    "    print(f\"\\n采样数据中 'wsi_label' 的分布:\\n{sampled_df['wsi_label'].value_counts(normalize=True)}\")\n",
    "\n",
    "except FileNotFoundError:\n",
    "    print(f\"错误: 文件 '{input_path}' 未找到。请检查文件路径是否正确。\")\n",
    "except Exception as e:\n",
    "    print(f\"发生错误: {e}\")"
   ]
  },
  {
   "cell_type": "code",
   "execution_count": 1,
   "metadata": {},
   "outputs": [
    {
     "name": "stdout",
     "output_type": "stream",
     "text": [
      "错误: 输入文件 '/data/wsi/TCTGC30k-labels/6_labels/TCTGC30k-v15-all.csv' 未找到。请先确保10k数据集已成功生成。\n"
     ]
    }
   ],
   "source": [
    "import pandas as pd\n",
    "from sklearn.model_selection import train_test_split\n",
    "\n",
    "# 定义输入文件和输出文件的路径\n",
    "input_path = '/data/wsi/TCTGC30k-labels/6_labels/TCTGC30k-v15-all.csv'\n",
    "train_output_path = '/data/wsi/TCTGC30k-labels/6_labels/TCTGC30k-v15-train.csv'\n",
    "test_output_path = '/data/wsi/TCTGC30k-labels/6_labels/TCTGC30k-v15-test.csv'\n",
    "\n",
    "try:\n",
    "    # 读取10k数据集文件\n",
    "    df = pd.read_csv(input_path)\n",
    "\n",
    "    # 按照8:2的比例进行分层划分\n",
    "    # test_size=0.2 表示测试集占20%\n",
    "    train_df, test_df = train_test_split(\n",
    "        df,\n",
    "        test_size=0.2,\n",
    "        stratify=df['wsi_label'],\n",
    "        random_state=42  # 确保划分结果可复现\n",
    "    )\n",
    "\n",
    "    # 将训练集和测试集分别保存到CSV文件\n",
    "    train_df.to_csv(train_output_path, index=False)\n",
    "    test_df.to_csv(test_output_path, index=False)\n",
    "\n",
    "    print(f\"成功将 '{input_path}' 划分为训练集和测试集。\")\n",
    "    print(f\"训练集 ({len(train_df)}条) 已保存到: '{train_output_path}'\")\n",
    "    print(f\"测试集 ({len(test_df)}条) 已保存到: '{test_output_path}'\")\n",
    "    \n",
    "    print(\"\\n原始数据集中 'wsi_label' 的分布:\")\n",
    "    print(df['wsi_label'].value_counts(normalize=True))\n",
    "    print(\"\\n训练集中 'wsi_label' 的分布:\")\n",
    "    print(train_df['wsi_label'].value_counts(normalize=True))\n",
    "    print(\"\\n测试集中 'wsi_label' 的分布:\")\n",
    "    print(test_df['wsi_label'].value_counts(normalize=True))\n",
    "\n",
    "\n",
    "except FileNotFoundError:\n",
    "    print(f\"错误: 输入文件 '{input_path}' 未找到。请先确保10k数据集已成功生成。\")\n",
    "except Exception as e:\n",
    "    print(f\"发生错误: {e}\")"
   ]
  }
 ],
 "metadata": {
  "kernelspec": {
   "display_name": "biomed",
   "language": "python",
   "name": "python3"
  },
  "language_info": {
   "codemirror_mode": {
    "name": "ipython",
    "version": 3
   },
   "file_extension": ".py",
   "mimetype": "text/x-python",
   "name": "python",
   "nbconvert_exporter": "python",
   "pygments_lexer": "ipython3",
   "version": "3.9.18"
  },
  "orig_nbformat": 4
 },
 "nbformat": 4,
 "nbformat_minor": 2
}
