{
 "cells": [
  {
   "cell_type": "code",
   "execution_count": 5,
   "metadata": {},
   "outputs": [
    {
     "data": {
      "text/plain": [
       "['浆膜腔积液样本-324', '呼吸道样本-458', '朝阳医院巴氏染色数据-阳性-临床结果.xlsx', '尿液总样本-893', '穿刺-154']"
      ]
     },
     "execution_count": 5,
     "metadata": {},
     "output_type": "execute_result"
    }
   ],
   "source": [
    "import os\n",
    "\n",
    "root_dir = '/data/wsi/非妇科可标注数据-1829'\n",
    "sub_dirs = os.listdir(root_dir)\n",
    "sub_dirs"
   ]
  },
  {
   "cell_type": "code",
   "execution_count": 14,
   "metadata": {},
   "outputs": [
    {
     "name": "stdout",
     "output_type": "stream",
     "text": [
      "['甲状腺穿刺-57', '淋巴结穿刺-6', 'EBUS冲刺夜-85', '肺泡灌洗液总样本-109', '痰液-34', '支气管-154', '胸腹水-49', '尿液-158']\n",
      "57\n"
     ]
    }
   ],
   "source": [
    "import pandas as pd\n",
    "\n",
    "excel_path = '朝阳医院巴氏染色数据-阳性-临床结果.xlsx'\n",
    "excel_path = os.path.join(root_dir, excel_path)\n",
    "sheet_names = pd.ExcelFile(excel_path).sheet_names\n",
    "print(sheet_names)\n",
    "jzx_df = pd.read_excel(excel_path, sheet_name=sheet_names[0])\n",
    "print(len(jzx_df))"
   ]
  },
  {
   "cell_type": "code",
   "execution_count": 9,
   "metadata": {},
   "outputs": [
    {
     "data": {
      "text/html": [
       "<div>\n",
       "<style scoped>\n",
       "    .dataframe tbody tr th:only-of-type {\n",
       "        vertical-align: middle;\n",
       "    }\n",
       "\n",
       "    .dataframe tbody tr th {\n",
       "        vertical-align: top;\n",
       "    }\n",
       "\n",
       "    .dataframe thead th {\n",
       "        text-align: right;\n",
       "    }\n",
       "</style>\n",
       "<table border=\"1\" class=\"dataframe\">\n",
       "  <thead>\n",
       "    <tr style=\"text-align: right;\">\n",
       "      <th></th>\n",
       "      <th>条码</th>\n",
       "      <th>临床结果</th>\n",
       "    </tr>\n",
       "  </thead>\n",
       "  <tbody>\n",
       "    <tr>\n",
       "      <th>0</th>\n",
       "      <td>12-2022-1-21</td>\n",
       "      <td>肺部阴影、纵隔淋巴结肿大。</td>\n",
       "    </tr>\n",
       "    <tr>\n",
       "      <th>1</th>\n",
       "      <td>13-2022-1-21</td>\n",
       "      <td>肺部阴影、纵隔淋巴结肿大。</td>\n",
       "    </tr>\n",
       "    <tr>\n",
       "      <th>2</th>\n",
       "      <td>18-2022-1-21</td>\n",
       "      <td>肺部阴影、纵隔淋巴结肿大。</td>\n",
       "    </tr>\n",
       "    <tr>\n",
       "      <th>3</th>\n",
       "      <td>50-2022-1-21</td>\n",
       "      <td>肺恶性肿瘤</td>\n",
       "    </tr>\n",
       "    <tr>\n",
       "      <th>4</th>\n",
       "      <td>60-2022-1-26</td>\n",
       "      <td>肺恶性肿瘤</td>\n",
       "    </tr>\n",
       "    <tr>\n",
       "      <th>5</th>\n",
       "      <td>61-2022-1-26</td>\n",
       "      <td>肺恶性肿瘤</td>\n",
       "    </tr>\n",
       "  </tbody>\n",
       "</table>\n",
       "</div>"
      ],
      "text/plain": [
       "             条码           临床结果\n",
       "0  12-2022-1-21  肺部阴影、纵隔淋巴结肿大。\n",
       "1  13-2022-1-21  肺部阴影、纵隔淋巴结肿大。\n",
       "2  18-2022-1-21  肺部阴影、纵隔淋巴结肿大。\n",
       "3  50-2022-1-21          肺恶性肿瘤\n",
       "4  60-2022-1-26          肺恶性肿瘤\n",
       "5  61-2022-1-26          肺恶性肿瘤"
      ]
     },
     "execution_count": 9,
     "metadata": {},
     "output_type": "execute_result"
    }
   ],
   "source": [
    "lbj_df = pd.read_excel(excel_path, sheet_name=1)\n",
    "lbj_df"
   ]
  }
 ],
 "metadata": {
  "kernelspec": {
   "display_name": "biomed",
   "language": "python",
   "name": "python3"
  },
  "language_info": {
   "codemirror_mode": {
    "name": "ipython",
    "version": 3
   },
   "file_extension": ".py",
   "mimetype": "text/x-python",
   "name": "python",
   "nbconvert_exporter": "python",
   "pygments_lexer": "ipython3",
   "version": "3.8.18"
  },
  "orig_nbformat": 4
 },
 "nbformat": 4,
 "nbformat_minor": 2
}
