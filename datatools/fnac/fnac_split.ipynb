{
 "cells": [
  {
   "cell_type": "markdown",
   "metadata": {},
   "source": [
    "# 图片切割"
   ]
  },
  {
   "cell_type": "code",
   "execution_count": 7,
   "metadata": {},
   "outputs": [],
   "source": [
    "import os\n",
    "from PIL import Image\n",
    "\n",
    "def splitImage(image_path, output_path):\n",
    "    \n",
    "    image = Image.open(image_path)\n",
    "    wsi_name = os.path.splitext(os.path.basename(image_path))[0]\n",
    "    wsi_name = os.path.basename(os.path.dirname(image_path)) + \"_\" + wsi_name\n",
    "    output_path = os.path.join(output_path, wsi_name)\n",
    "    \n",
    "    if not os.path.exists(output_path):\n",
    "        os.makedirs(output_path)\n",
    "        \n",
    "    width, height = image.size\n",
    "    overlap_rate = 0\n",
    "    crop_size = 256\n",
    "    overlap = int(crop_size * overlap_rate)\n",
    "\n",
    "    # 计算水平和垂直方向上的切割数量\n",
    "    num_horizontal = (width - overlap) // (crop_size - overlap)\n",
    "    num_vertical = (height - overlap) // (crop_size - overlap)\n",
    "\n",
    "\n",
    "    for i in range(num_horizontal):\n",
    "        for j in range(num_vertical):\n",
    "            left = i * (crop_size - overlap)\n",
    "            upper = j * (crop_size - overlap)\n",
    "            right = left + crop_size\n",
    "            lower = upper + crop_size\n",
    "\n",
    "            # 切割图像\n",
    "            crop = image.crop((left, upper, right, lower))\n",
    "            tmp_output_path = os.path.join(output_path, f\"{i}_{j}.jpg\")\n",
    "            crop.save(tmp_output_path)\n",
    "\n",
    "\n",
    "data_root = '/home/commonfile/FNAC-2019'\n",
    "input_dir = 'base_data'\n",
    "output_dir = 'split_data'\n",
    "input_path = os.path.join(data_root, input_dir)\n",
    "output_path = os.path.join(data_root, output_dir)\n",
    "subdirs = ['B', 'M']\n",
    "\n",
    "for subdir in subdirs:\n",
    "    for img in os.listdir(os.path.join(input_path, subdir)):\n",
    "        splitImage(os.path.join(input_path, subdir, img), output_path)\n",
    "\n",
    "\n"
   ]
  },
  {
   "cell_type": "code",
   "execution_count": 5,
   "metadata": {},
   "outputs": [],
   "source": []
  }
 ],
 "metadata": {
  "kernelspec": {
   "display_name": "biomed-clip",
   "language": "python",
   "name": "python3"
  },
  "language_info": {
   "codemirror_mode": {
    "name": "ipython",
    "version": 3
   },
   "file_extension": ".py",
   "mimetype": "text/x-python",
   "name": "python",
   "nbconvert_exporter": "python",
   "pygments_lexer": "ipython3",
   "version": "3.8.18"
  },
  "orig_nbformat": 4
 },
 "nbformat": 4,
 "nbformat_minor": 2
}
