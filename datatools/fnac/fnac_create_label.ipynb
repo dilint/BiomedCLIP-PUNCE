{
 "cells": [
  {
   "cell_type": "markdown",
   "metadata": {},
   "source": [
    "# 所有标签"
   ]
  },
  {
   "cell_type": "code",
   "execution_count": null,
   "metadata": {},
   "outputs": [],
   "source": [
    "import os\n",
    "\n",
    "data_root = '/home/commonfile/FNAC-2019/split_data/'\n",
    "output_path = 'labels/label.csv'\n",
    "\n",
    "\n",
    "with open(output_path, 'w') as file:\n",
    "    for wsi in os.listdir(data_root):\n",
    "        wsi_path = os.path.join(data_root, wsi)\n",
    "        if 'B' in wsi:\n",
    "            file.write(f'{wsi},0\\n')\n",
    "        else:\n",
    "            file.write(f'{wsi},1\\n')\n",
    "file.close()"
   ]
  },
  {
   "cell_type": "markdown",
   "metadata": {},
   "source": [
    "# 划分训练验证集"
   ]
  },
  {
   "cell_type": "code",
   "execution_count": 4,
   "metadata": {},
   "outputs": [],
   "source": [
    "import random\n",
    "\n",
    "input_path = 'labels/label.csv'\n",
    "train_output_path = 'labels/train_val.csv'\n",
    "test_output_path = 'labels/test_label.csv'\n",
    "\n",
    "train_ratio = 0.8\n",
    "with open(input_path, 'r') as f:\n",
    "    lines = f.readlines()\n",
    "    f.close()\n",
    "\n",
    "random.shuffle(lines)\n",
    "train_size = int(len(lines) * train_ratio)\n",
    "train_lines = lines[:train_size]\n",
    "test_lines = lines[train_size:]\n",
    "\n",
    "with open(train_output_path, 'w') as f:\n",
    "    f.writelines(train_lines)\n",
    "    f.close()\n",
    "with open(test_output_path, 'w') as f:\n",
    "    f.writelines(test_lines)\n",
    "    f.close()\n",
    "    "
   ]
  }
 ],
 "metadata": {
  "kernelspec": {
   "display_name": "biomed",
   "language": "python",
   "name": "python3"
  },
  "language_info": {
   "codemirror_mode": {
    "name": "ipython",
    "version": 3
   },
   "file_extension": ".py",
   "mimetype": "text/x-python",
   "name": "python",
   "nbconvert_exporter": "python",
   "pygments_lexer": "ipython3",
   "version": "3.8.18"
  },
  "orig_nbformat": 4
 },
 "nbformat": 4,
 "nbformat_minor": 2
}
