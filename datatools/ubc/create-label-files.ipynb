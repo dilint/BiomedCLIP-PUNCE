{
 "cells": [
  {
   "attachments": {},
   "cell_type": "markdown",
   "metadata": {},
   "source": [
    "args"
   ]
  },
  {
   "cell_type": "code",
   "execution_count": 1,
   "metadata": {},
   "outputs": [],
   "source": [
    "import os\n",
    "label_path = '/home1/wsi/ubc-ocean/label.csv'\n",
    "root_path = '/home1/wsi/ubc-ocean/patches'\n",
    "output_path = '/home1/wsi/ubc-ocean/labels'\n",
    "file_names = ['train_label.csv', 'val_label.csv', 'test_label.csv']\n",
    "ratio_train = 0.8\n",
    "ratio_val = 0.1\n",
    "ratio_test = 0.1\n",
    "label2num = {\n",
    "    \"HGSC\": 0,\n",
    "    \"LGSC\": 1,\n",
    "    \"EC\": 2,\n",
    "    \"CC\": 3,\n",
    "    \"MC\": 4\n",
    "}\n"
   ]
  },
  {
   "attachments": {},
   "cell_type": "markdown",
   "metadata": {},
   "source": [
    "read labels"
   ]
  },
  {
   "cell_type": "code",
   "execution_count": 2,
   "metadata": {},
   "outputs": [],
   "source": [
    "import csv\n",
    "wsi2label = dict()\n",
    "with open(label_path, 'r') as csvfile:\n",
    "    reader = csv.DictReader(csvfile)\n",
    "    for row in reader: \n",
    "        wsi2label[row['image_id']] = label2num[row['label']]"
   ]
  },
  {
   "attachments": {},
   "cell_type": "markdown",
   "metadata": {},
   "source": [
    "create label files"
   ]
  },
  {
   "cell_type": "code",
   "execution_count": 3,
   "metadata": {},
   "outputs": [],
   "source": [
    "import random\n",
    "import shutil\n",
    "wsi_names = os.listdir(root_path)\n",
    "index = list(range(len(wsi_names)))\n",
    "random.shuffle(index)\n",
    "\n",
    "index_train_end = int(len(index)*ratio_train)\n",
    "index_val_end = len(index) if ratio_test==0 else int(len(index)*(ratio_train+ratio_val))\n",
    "index_test_end = len(index)\n",
    "index_list = [0, index_train_end, index_val_end, index_test_end]\n",
    "path_list = [os.path.join(output_path, file_name) for file_name in file_names]\n",
    "\n",
    "for i in range(3):\n",
    "    with open(path_list[i], 'w') as csvfile:\n",
    "        writer = csv.writer(csvfile)\n",
    "        for j in range(index_list[i], index_list[i+1]):\n",
    "            writer.writerow((wsi_names[j], wsi2label[wsi_names[j]]))\n",
    "        csvfile.close()\n",
    "if index_val_end == index_test_end:\n",
    "    shutil.copy(path_list[1], path_list[2])"
   ]
  }
 ],
 "metadata": {
  "kernelspec": {
   "display_name": "biomed",
   "language": "python",
   "name": "python3"
  },
  "language_info": {
   "codemirror_mode": {
    "name": "ipython",
    "version": 3
   },
   "file_extension": ".py",
   "mimetype": "text/x-python",
   "name": "python",
   "nbconvert_exporter": "python",
   "pygments_lexer": "ipython3",
   "version": "3.8.18"
  },
  "orig_nbformat": 4
 },
 "nbformat": 4,
 "nbformat_minor": 2
}
