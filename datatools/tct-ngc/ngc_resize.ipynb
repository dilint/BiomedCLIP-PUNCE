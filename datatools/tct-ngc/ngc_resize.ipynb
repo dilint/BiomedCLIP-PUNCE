{
 "cells": [
  {
   "cell_type": "code",
   "execution_count": null,
   "metadata": {},
   "outputs": [],
   "source": []
  },
  {
   "cell_type": "code",
   "execution_count": 16,
   "metadata": {},
   "outputs": [],
   "source": [
    "import os, time, multiprocessing\n",
    "from PIL import Image\n",
    "\n",
    "root_dir = '/home1/wsi'\n",
    "input_dir = 'ngc-2023-1333'\n",
    "output_dir = 'ngc-2023-224'\n",
    "sub_dirs = [\n",
    "    'Unannotated_KSJ/Unannotated-KSJ-TCTNGC-NILM',\n",
    "    'Unannotated_KSJ/Unannotated-KSJ-TCTNGC-POS',\n",
    "    'Unannotated_XIMEA/Unannotated-XIMEA-TCTNGC-NILM',\n",
    "    'Unannotated_XIMEA/Unannotated-XIMEA-TCTNGC-POS'\n",
    "]\n",
    "input_dir, output_dir = os.path.join(root_dir, input_dir), os.path.join(root_dir, output_dir)\n",
    "\n",
    "\n",
    "def resize_fun(sub_dir):\n",
    "    input_dir_tmp = os.path.join(input_dir, sub_dir)\n",
    "    for root, dirs, files in os.walk(input_dir_tmp):\n",
    "        for filename in files:\n",
    "            if filename.endswith('.jpg') or filename.endswith('.png') or filename.endswith('.jpeg'):\n",
    "                image_path = os.path.join(root, filename)\n",
    "                image = Image.open(image_path)\n",
    "                resized_image = image.resize((224, 224))\n",
    "                output_par_path = os.path.join(output_dir, os.path.relpath(root, input_dir))\n",
    "                if not os.path.exists(output_par_path):\n",
    "                    os.makedirs(output_par_path)\n",
    "                output_path = os.path.join(output_par_path, filename)\n",
    "                resized_image.save(output_path)\n",
    "\n",
    "start_time = time.time()\n",
    "pool = multiprocessing.Pool()\n",
    "pool.map(resize_fun, sub_dirs)\n",
    "pool.close()\n",
    "pool.join()\n",
    "end_time = time.time()\n",
    "print(\"并行处理时间：\", end_time - start_time)     \n"
   ]
  }
 ],
 "metadata": {
  "kernelspec": {
   "display_name": "biomed",
   "language": "python",
   "name": "python3"
  },
  "language_info": {
   "codemirror_mode": {
    "name": "ipython",
    "version": 3
   },
   "file_extension": ".py",
   "mimetype": "text/x-python",
   "name": "python",
   "nbconvert_exporter": "python",
   "pygments_lexer": "ipython3",
   "version": "3.8.18"
  },
  "orig_nbformat": 4
 },
 "nbformat": 4,
 "nbformat_minor": 2
}
