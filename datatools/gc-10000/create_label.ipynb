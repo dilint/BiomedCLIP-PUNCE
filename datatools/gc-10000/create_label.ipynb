{
 "cells": [
  {
   "cell_type": "code",
   "execution_count": 4,
   "metadata": {},
   "outputs": [],
   "source": [
    "import os\n",
    "import pandas as pd\n",
    "\n",
    "output_path = 'onetask_9_labels/all_label.csv'\n",
    "ori_labels = 'ori_lable.csv'\n",
    "df = pd.read_csv(ori_labels)\n",
    "output_df = pd.DataFrame(columns=['wsi_id', 'label'])\n",
    "for i in range(0, 10000):\n",
    "    output_df.loc[i] = [df['wsi_id'][i].replace('.pt', ''), df['wsi_label'][i]]\n",
    "    \n",
    "output_df.to_csv(output_path, index=False, header=False)"
   ]
  }
 ],
 "metadata": {
  "kernelspec": {
   "display_name": "biomed",
   "language": "python",
   "name": "python3"
  },
  "language_info": {
   "codemirror_mode": {
    "name": "ipython",
    "version": 3
   },
   "file_extension": ".py",
   "mimetype": "text/x-python",
   "name": "python",
   "nbconvert_exporter": "python",
   "pygments_lexer": "ipython3",
   "version": "3.8.18"
  },
  "orig_nbformat": 4
 },
 "nbformat": 4,
 "nbformat_minor": 2
}
