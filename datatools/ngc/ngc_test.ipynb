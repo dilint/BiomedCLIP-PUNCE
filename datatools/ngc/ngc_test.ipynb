{
 "cells": [
  {
   "cell_type": "code",
   "execution_count": 11,
   "metadata": {},
   "outputs": [
    {
     "data": {
      "text/plain": [
       "554.1142959594727"
      ]
     },
     "execution_count": 11,
     "metadata": {},
     "output_type": "execute_result"
    },
    {
     "ename": "",
     "evalue": "",
     "output_type": "error",
     "traceback": [
      "\u001b[1;31mThe Kernel crashed while executing code in the the current cell or a previous cell. Please review the code in the cell(s) to identify a possible cause of the failure. Click <a href='https://aka.ms/vscodeJupyterKernelCrash'>here</a> for more info. View Jupyter <a href='command:jupyter.viewOutput'>log</a> for further details."
     ]
    }
   ],
   "source": [
    "import os\n",
    "import cv2\n",
    "import numpy as np\n",
    "\n",
    "def calculate_image_mean(image):\n",
    "    total_pixels = image.shape[0] * image.shape[1]\n",
    "    mean_values = np.sum(image, axis=(0, 1)) / total_pixels\n",
    "    return mean_values\n",
    "\n",
    "def calculate_folder_mean(image_folder):\n",
    "    image_files = os.listdir(image_folder)\n",
    "    total_pixels = 0\n",
    "    sum_values = np.zeros(3)  # 3通道RGB图像的像素值总和\n",
    "    image_pixels = {}\n",
    "\n",
    "    for image_file in image_files:\n",
    "        image_path = os.path.join(image_folder, image_file)\n",
    "        image = cv2.imread(image_path)\n",
    "        image_pixels[image_file] = image\n",
    "        sum_values += np.sum(image, axis=(0, 1))\n",
    "\n",
    "    total_pixels = len(image_files) * image.shape[0] * image.shape[1]\n",
    "    folder_mean_values = sum_values / total_pixels\n",
    "    return folder_mean_values, image_pixels\n",
    "\n",
    "def filter_images_with_large_diff(image_folder, threshold=50):\n",
    "    folder_mean_values, image_pixels = calculate_folder_mean(image_folder)\n",
    "\n",
    "    diff_images = []\n",
    "    for image_file, image in image_pixels.items():\n",
    "        image_mean_values = calculate_image_mean(image)\n",
    "        diff = np.linalg.norm(folder_mean_values - image_mean_values)\n",
    "        \n",
    "        if diff > threshold:\n",
    "            diff_images.append(image_file)\n",
    "\n",
    "    return diff_images\n",
    "\n",
    "# 示例：筛选差异较大的图片\n",
    "image_folder = '/path/to/your/image/folder'\n",
    "diff_images = filter_images_with_large_diff(image_folder)\n",
    "\n",
    "print(\"Images with large mean difference:\")\n",
    "for image_file in diff_images:\n",
    "    image_path = os.path.join(image_folder, image_file)\n",
    "    print(image_path)\n"
   ]
  },
  {
   "cell_type": "code",
   "execution_count": null,
   "metadata": {},
   "outputs": [],
   "source": [
    "calculate_image_mean(\"/root/userfolder/projects/biomed-clip-puNCE/test-imgs\")\n"
   ]
  }
 ],
 "metadata": {
  "kernelspec": {
   "display_name": "dist-pu",
   "language": "python",
   "name": "python3"
  },
  "language_info": {
   "codemirror_mode": {
    "name": "ipython",
    "version": 3
   },
   "file_extension": ".py",
   "mimetype": "text/x-python",
   "name": "python",
   "nbconvert_exporter": "python",
   "pygments_lexer": "ipython3",
   "version": "3.7.16"
  },
  "orig_nbformat": 4
 },
 "nbformat": 4,
 "nbformat_minor": 2
}
