{
 "cells": [
  {
   "cell_type": "code",
   "execution_count": null,
   "metadata": {},
   "outputs": [],
   "source": [
    "import os, time, multiprocessing, glob\n",
    "from PIL import Image\n",
    "\n",
    "root_dir = '/home1/wsi'\n",
    "input_dir = 'tct'\n",
    "output_dir = 'tct-224'\n",
    "sub_dirs = [\n",
    "    'NILM',\n",
    "    'POS'\n",
    "]\n",
    "\n",
    "def resize_fun(wsi_path):\n",
    "    image_paths = glob.glob(os.path.join(wsi_path, '*.jpg'))\n",
    "    for image_path in image_paths:\n",
    "        image = Image.open(image_path)\n",
    "        resized_image = image.resize((224, 224))\n",
    "        output_par_path = os.path.join(output_dir, os.path.relpath(wsi_path, input_dir))\n",
    "        if not os.path.exists(output_par_path):\n",
    "            os.makedirs(output_par_path)\n",
    "        output_path = os.path.join(output_par_path, os.path.basename(image_path))\n",
    "        resized_image.save(output_path)\n",
    "                \n",
    "wsi_paths = []\n",
    "input_dir, output_dir = os.path.join(root_dir, input_dir), os.path.join(root_dir, output_dir)\n",
    "for sub_dir in sub_dirs:\n",
    "    sub_path = os.path.join(input_dir, sub_dir)\n",
    "    for wsi_name in os.listdir(sub_path):\n",
    "        wsi_paths.append(os.path.join(sub_path, wsi_name))\n",
    "        \n",
    "start_time = time.time()\n",
    "pool = multiprocessing.Pool()\n",
    "pool.map(resize_fun, wsi_paths)\n",
    "pool.close()\n",
    "pool.join()\n",
    "end_time = time.time()\n",
    "print(\"并行处理时间：\", end_time - start_time)     \n"
   ]
  },
  {
   "cell_type": "code",
   "execution_count": 15,
   "metadata": {},
   "outputs": [
    {
     "ename": "TypeError",
     "evalue": "'str' object is not callable",
     "output_type": "error",
     "traceback": [
      "\u001b[0;31m---------------------------------------------------------------------------\u001b[0m",
      "\u001b[0;31mTypeError\u001b[0m                                 Traceback (most recent call last)",
      "Cell \u001b[0;32mIn[15], line 19\u001b[0m\n\u001b[1;32m     16\u001b[0m         wsi_paths\u001b[39m.\u001b[39mappend(os\u001b[39m.\u001b[39mpath\u001b[39m.\u001b[39mjoin(sub_path, wsi_name))\n\u001b[1;32m     18\u001b[0m img_paths \u001b[39m=\u001b[39m glob\u001b[39m.\u001b[39mglob(os\u001b[39m.\u001b[39mpath\u001b[39m.\u001b[39mjoin(wsi_paths[\u001b[39m0\u001b[39m], \u001b[39m'\u001b[39m\u001b[39m*.jpg\u001b[39m\u001b[39m'\u001b[39m))\n\u001b[0;32m---> 19\u001b[0m os\u001b[39m.\u001b[39mpath\u001b[39m.\u001b[39mrelpath(os\u001b[39m.\u001b[39;49mpardir(img_paths[\u001b[39m0\u001b[39;49m]), input_dir)\n",
      "\u001b[0;31mTypeError\u001b[0m: 'str' object is not callable"
     ]
    }
   ],
   "source": [
    "import os, time, multiprocessing, glob\n",
    "from PIL import Image\n",
    "\n",
    "root_dir = '/home1/wsi'\n",
    "input_dir = 'tct'\n",
    "output_dir = 'tct-224'\n",
    "sub_dirs = [\n",
    "    'NILM',\n",
    "    'POS'\n",
    "]\n",
    "wsi_paths = []\n",
    "input_dir, output_dir = os.path.join(root_dir, input_dir), os.path.join(root_dir, output_dir)\n",
    "for sub_dir in sub_dirs:\n",
    "    sub_path = os.path.join(input_dir, sub_dir)\n",
    "    for wsi_name in os.listdir(sub_path):\n",
    "        wsi_paths.append(os.path.join(sub_path, wsi_name))\n",
    "\n",
    "img_paths = glob.glob(os.path.join(wsi_paths[0], '*.jpg'))\n",
    "os.path.relpath(os.pardir(img_paths[0]), input_dir)"
   ]
  }
 ],
 "metadata": {
  "kernelspec": {
   "display_name": "biomed",
   "language": "python",
   "name": "python3"
  },
  "language_info": {
   "codemirror_mode": {
    "name": "ipython",
    "version": 3
   },
   "file_extension": ".py",
   "mimetype": "text/x-python",
   "name": "python",
   "nbconvert_exporter": "python",
   "pygments_lexer": "ipython3",
   "version": "3.8.18"
  },
  "orig_nbformat": 4
 },
 "nbformat": 4,
 "nbformat_minor": 2
}
