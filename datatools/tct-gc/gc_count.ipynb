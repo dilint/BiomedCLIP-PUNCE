{
 "cells": [
  {
   "cell_type": "code",
   "execution_count": 1,
   "metadata": {},
   "outputs": [
    {
     "name": "stdout",
     "output_type": "stream",
     "text": [
      "=============all labels\n",
      "NILM 1542\n",
      "ASC-US 741\n",
      "ASC-H 34\n",
      "LSIL 273\n",
      "HSIL+T 1\n",
      "HSIL 33\n",
      "AGC 1\n",
      "=============test labels\n",
      "NILM 462\n",
      "ASC-US 229\n",
      "ASC-H 13\n",
      "LSIL 72\n",
      "HSIL+T 0\n",
      "HSIL 10\n",
      "AGC 0\n"
     ]
    }
   ],
   "source": [
    "import os\n",
    "\n",
    "label2nums = {\n",
    "    'NILM': 0,\n",
    "    'ASC-US': 1,\n",
    "    'ASC-H': 2,\n",
    "    'LSIL': 3,\n",
    "    'HSIL+T': 4,\n",
    "    'HSIL': 5,\n",
    "    'AGC': 6\n",
    "}\n",
    "\n",
    "label_dir = 'labels'\n",
    "file_names = ['train_label.csv', 'val_label.csv', 'test_label.csv']\n",
    "labels = list(label2nums.keys())\n",
    "labels_num = len(labels)\n",
    "\n",
    "def count_files(file_name):\n",
    "    counts = [0] * labels_num\n",
    "    file_path = os.path.join(label_dir, file_name)\n",
    "    with open(file_path, 'r') as f:\n",
    "        for line in f.readlines():\n",
    "            wsi_name, wsi_label = line.strip().split(',')\n",
    "            for label in labels:\n",
    "                flag = 0\n",
    "                if label in wsi_name:\n",
    "                    flag = 1\n",
    "                    counts[label2nums[label]] += 1\n",
    "                    # counts[label2nums[label]].append(wsi_name)\n",
    "                    break\n",
    "            if flag == 0:\n",
    "                # print(wsi_name)\n",
    "                counts[0] += 1\n",
    "    f.close()\n",
    "    return counts\n",
    "\n",
    "counts = [0] * labels_num\n",
    "print(\"=============all labels\")\n",
    "for file_name in file_names:\n",
    "    counts_one = count_files(file_name)\n",
    "    counts = [x+y for x,y in zip(counts_one, counts)]\n",
    "                \n",
    "for i in range(len(counts)):\n",
    "    print(labels[i], counts[i])\n",
    "\n",
    "print(\"=============test labels\")\n",
    "counts_test = count_files('test_label.csv')\n",
    "for i in range(len(counts_test)):\n",
    "    print(labels[i], counts_test[i])"
   ]
  }
 ],
 "metadata": {
  "kernelspec": {
   "display_name": "biomed",
   "language": "python",
   "name": "python3"
  },
  "language_info": {
   "codemirror_mode": {
    "name": "ipython",
    "version": 3
   },
   "file_extension": ".py",
   "mimetype": "text/x-python",
   "name": "python",
   "nbconvert_exporter": "python",
   "pygments_lexer": "ipython3",
   "version": "3.8.18"
  },
  "orig_nbformat": 4
 },
 "nbformat": 4,
 "nbformat_minor": 2
}
