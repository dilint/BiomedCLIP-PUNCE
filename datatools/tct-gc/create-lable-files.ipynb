{
 "cells": [
  {
   "cell_type": "code",
   "execution_count": 1,
   "metadata": {},
   "outputs": [],
   "source": [
    "import os\n",
    "train_label_path = '/home1/wsi/tct/train_smear.txt'\n",
    "test_label_path = '/home1/wsi/tct/val_smear.txt'\n",
    "output_path = 'labels'\n",
    "file_names = ['train_label.csv', 'val_label.csv', 'test_label.csv', 'train_val.csv']\n"
   ]
  },
  {
   "cell_type": "code",
   "execution_count": 2,
   "metadata": {},
   "outputs": [
    {
     "name": "stdout",
     "output_type": "stream",
     "text": [
      "训练集: 1471, 验证集: 368, 测试集: 786\n",
      "总: 2625\n"
     ]
    }
   ],
   "source": [
    "import csv\n",
    "import shutil, os, random\n",
    "\n",
    "random.seed(2024)\n",
    "\n",
    "if not os.path.exists(output_path):\n",
    "    os.mkdir(output_path)\n",
    "\n",
    "output_paths = []\n",
    "for i in range(len(file_names)):\n",
    "    output_paths.append(os.path.join(output_path, file_names[i]))\n",
    "\n",
    "## 训练集\n",
    "with open(train_label_path, 'r') as f:\n",
    "    train_lines = f.readlines()\n",
    "    f.close()\n",
    "train_ori_list = []\n",
    "for line in train_lines:\n",
    "    class_num = 0 if 'neg' in line else 1\n",
    "    line = line.replace('neg/', '').replace('pos/', '').replace('\\n', '')\n",
    "    train_ori_list.append((line, class_num))\n",
    "random.shuffle(train_ori_list)\n",
    "train_list = train_ori_list[:int(len(train_ori_list)*0.8)]\n",
    "val_list = train_ori_list[int(len(train_ori_list)*0.8):]\n",
    "\n",
    "with open(output_paths[3], 'w') as f:\n",
    "    writer = csv.writer(f)\n",
    "    for line in train_ori_list:\n",
    "        writer.writerow(line)\n",
    "    f.close()\n",
    "with open(output_paths[0], 'w') as f:\n",
    "    writer = csv.writer(f)\n",
    "    for line in train_list:\n",
    "        writer.writerow(line)\n",
    "    f.close()\n",
    "with open(output_paths[1], 'w') as f:\n",
    "    writer = csv.writer(f)\n",
    "    for line in val_list:\n",
    "        writer.writerow(line)\n",
    "    f.close()\n",
    "\n",
    "\n",
    "## 测试集\n",
    "with open(test_label_path, 'r') as f:\n",
    "    test_lines = f.readlines()\n",
    "    f.close()\n",
    "with open(output_paths[2], 'w') as f:\n",
    "    writer = csv.writer(f)\n",
    "    for line in test_lines:\n",
    "        class_num = 0 if 'neg' in line else 1\n",
    "        line = line.replace('neg/', '').replace('pos/', '').replace('\\n', '')\n",
    "        writer.writerow((line, class_num))\n",
    "    f.close()\n",
    "    \n",
    "len_train, len_val, len_test = len(train_list), len(val_list), len(test_lines)\n",
    "print(f'训练集: {len_train}, 验证集: {len_val}, 测试集: {len_test}')\n",
    "print(f'总: {len_train + len_val + len_test}')"
   ]
  },
  {
   "attachments": {},
   "cell_type": "markdown",
   "metadata": {},
   "source": [
    "# sens.C"
   ]
  },
  {
   "cell_type": "code",
   "execution_count": 3,
   "metadata": {},
   "outputs": [],
   "source": [
    "import os\n",
    "\n",
    "label_dir = 'labels'\n",
    "test_file = 'test_label.csv'\n",
    "test_path = os.path.join(label_dir, test_file)\n",
    "output_file = 'test_c.csv'\n",
    "output_path = os.path.join(label_dir, output_file)\n",
    "\n",
    "include_c_labels = ['LSIL', 'HSIL']\n",
    "\n",
    "with open(test_path, 'r') as f:\n",
    "    with open(output_path, 'w') as f_out:\n",
    "        for line in f.readlines():\n",
    "            wsi_name, wsi_label = line.strip().split(',')\n",
    "            for label in include_c_labels:\n",
    "                if label in wsi_name:\n",
    "                    f_out.write(line)\n",
    "    f_out.close()\n",
    "f.close()\n"
   ]
  },
  {
   "attachments": {},
   "cell_type": "markdown",
   "metadata": {},
   "source": [
    "# Sens.H"
   ]
  },
  {
   "cell_type": "code",
   "execution_count": 4,
   "metadata": {},
   "outputs": [],
   "source": [
    "import os\n",
    "\n",
    "label_dir = 'labels'\n",
    "test_file = 'test_label.csv'\n",
    "test_path = os.path.join(label_dir, test_file)\n",
    "output_file = 'test_h.csv'\n",
    "output_path = os.path.join(label_dir, output_file)\n",
    "\n",
    "\n",
    "\n",
    "include_h_labels = ['ASC-H', 'HSIL']\n",
    "\n",
    "with open(test_path, 'r') as f:\n",
    "    with open(output_path, 'w') as f_out:\n",
    "        for line in f.readlines():\n",
    "            wsi_name, wsi_label = line.strip().split(',')\n",
    "            for label in include_h_labels:\n",
    "                if label in wsi_name:\n",
    "                    f_out.write(line)\n",
    "    f_out.close()\n",
    "f.close()\n"
   ]
  }
 ],
 "metadata": {
  "kernelspec": {
   "display_name": "dist-pu",
   "language": "python",
   "name": "python3"
  },
  "language_info": {
   "codemirror_mode": {
    "name": "ipython",
    "version": 3
   },
   "file_extension": ".py",
   "mimetype": "text/x-python",
   "name": "python",
   "nbconvert_exporter": "python",
   "pygments_lexer": "ipython3",
   "version": "3.8.18"
  },
  "orig_nbformat": 4
 },
 "nbformat": 4,
 "nbformat_minor": 2
}
