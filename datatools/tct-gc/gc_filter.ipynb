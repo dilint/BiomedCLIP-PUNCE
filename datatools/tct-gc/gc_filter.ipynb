{
 "cells": [
  {
   "cell_type": "code",
   "execution_count": 8,
   "metadata": {},
   "outputs": [],
   "source": [
    "import os, glob\n",
    "\n",
    "root_dir = '/home1/wsi/gc'\n",
    "sub_dirs = ['NILM', 'POS']\n",
    "sub_paths = [os.path.join(root_dir, sub_dir) for sub_dir in sub_dirs]\n",
    "wsi_paths = []\n",
    "for sub_path in sub_paths:\n",
    "    wsi_paths.extend(glob.glob(os.path.join(sub_path, '*')))\n",
    "for wsi_path in wsi_paths:\n",
    "    imgs = os.listdir(wsi_path)\n",
    "    for img in imgs:\n",
    "        if '副本' in img:\n",
    "            print(wsi_path)"
   ]
  },
  {
   "cell_type": "code",
   "execution_count": 7,
   "metadata": {},
   "outputs": [
    {
     "ename": "SyntaxError",
     "evalue": "invalid syntax (649818446.py, line 19)",
     "output_type": "error",
     "traceback": [
      "\u001b[0;36m  Cell \u001b[0;32mIn[7], line 19\u001b[0;36m\u001b[0m\n\u001b[0;31m    output_wsi_path = os.path.join(output_dir, os.path.relpath(wsi_path, r oot_dir))\u001b[0m\n\u001b[0m                                                                           ^\u001b[0m\n\u001b[0;31mSyntaxError\u001b[0m\u001b[0;31m:\u001b[0m invalid syntax\n"
     ]
    }
   ],
   "source": [
    "import os, glob, shutil\n",
    "\n",
    "seed = 2024\n",
    "select_num = 50\n",
    "root_dir = '/home1/wsi/gc-224'\n",
    "output_dir = '/home1/wsi/gc-output-filter/random'\n",
    "sub_dirs = ['NILM', 'POS']\n",
    "\n",
    "wsi_paths = []\n",
    "for sub_dir in sub_dirs:\n",
    "    sub_path = os.path.join(root_dir, sub_dir)\n",
    "    wsi_paths.extend(glob.glob(os.path.join(sub_path, '*')))\n",
    "for wsi_path in wsi_paths:\n",
    "    imgs = os.listdir(wsi_path)\n",
    "    if len(imgs) < select_num:\n",
    "        print(wsi_path)\n",
    "    else:\n",
    "        imgs = imgs[:select_num]\n",
    "        output_wsi_path = os.path.join(output_dir, os.path.relpath(wsi_path, root_dir))\n",
    "        if not os.path.exists(output_wsi_path):\n",
    "            os.makedirs(output_wsi_path, exist_ok=True)\n",
    "        for img in imgs:\n",
    "            img_path = os.path.join(wsi_path, img)\n",
    "            output_img_path = os.path.join(output_wsi_path, img)\n",
    "            shutil.copy(img_path, output_img_path)"
   ]
  }
 ],
 "metadata": {
  "kernelspec": {
   "display_name": "biomed",
   "language": "python",
   "name": "python3"
  },
  "language_info": {
   "codemirror_mode": {
    "name": "ipython",
    "version": 3
   },
   "file_extension": ".py",
   "mimetype": "text/x-python",
   "name": "python",
   "nbconvert_exporter": "python",
   "pygments_lexer": "ipython3",
   "version": "3.8.18"
  },
  "orig_nbformat": 4
 },
 "nbformat": 4,
 "nbformat_minor": 2
}
