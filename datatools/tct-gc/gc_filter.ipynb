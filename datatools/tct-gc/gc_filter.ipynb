{
 "cells": [
  {
   "cell_type": "code",
   "execution_count": 8,
   "metadata": {},
   "outputs": [],
   "source": [
    "import os, glob\n",
    "\n",
    "root_dir = '/home1/wsi/gc'\n",
    "sub_dirs = ['NILM', 'POS']\n",
    "sub_paths = [os.path.join(root_dir, sub_dir) for sub_dir in sub_dirs]\n",
    "wsi_paths = []\n",
    "for sub_path in sub_paths:\n",
    "    wsi_paths.extend(glob.glob(os.path.join(sub_path, '*')))\n",
    "for wsi_path in wsi_paths:\n",
    "    imgs = os.listdir(wsi_path)\n",
    "    for img in imgs:\n",
    "        if '副本' in img:\n",
    "            print(wsi_path)"
   ]
  }
 ],
 "metadata": {
  "kernelspec": {
   "display_name": "biomed",
   "language": "python",
   "name": "python3"
  },
  "language_info": {
   "codemirror_mode": {
    "name": "ipython",
    "version": 3
   },
   "file_extension": ".py",
   "mimetype": "text/x-python",
   "name": "python",
   "nbconvert_exporter": "python",
   "pygments_lexer": "ipython3",
   "version": "3.8.18"
  },
  "orig_nbformat": 4
 },
 "nbformat": 4,
 "nbformat_minor": 2
}
