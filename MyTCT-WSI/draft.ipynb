{
 "cells": [
  {
   "cell_type": "code",
   "execution_count": 2,
   "metadata": {},
   "outputs": [],
   "source": [
    "import torch\n",
    "import numpy as np\n",
    "import os\n",
    "import csv\n",
    "import pandas as pd"
   ]
  },
  {
   "cell_type": "code",
   "execution_count": null,
   "metadata": {},
   "outputs": [],
   "source": [
    "label_path = '/data/wsi/TCTGC50k-labels/TCTGC50k-volume1-labels-path.csv'\n",
    "data_path = '/data/wsi/TCTGC10k-features/rtdetr-v3-2025.1.7/000100042.pt'\n",
    "\n",
    "df = pd.read_csv(label_path)\n",
    "wsi = torch.load(data_path)"
   ]
  },
  {
   "cell_type": "code",
   "execution_count": null,
   "metadata": {},
   "outputs": [],
   "source": [
    "pt_file = './153070575-1-1.pt'\n",
    "\n",
    "pt = torch.load(pt_file)"
   ]
  },
  {
   "cell_type": "code",
   "execution_count": null,
   "metadata": {},
   "outputs": [],
   "source": [
    "print(pt)"
   ]
  },
  {
   "cell_type": "code",
   "execution_count": 6,
   "metadata": {},
   "outputs": [],
   "source": [
    "all_data = pt['patch_load']"
   ]
  },
  {
   "cell_type": "code",
   "execution_count": null,
   "metadata": {},
   "outputs": [],
   "source": [
    "print(type(all_data[0]))"
   ]
  },
  {
   "cell_type": "code",
   "execution_count": null,
   "metadata": {},
   "outputs": [],
   "source": [
    "x = torch.rand(5,2,225)\n",
    "print(x[:,0].shape)"
   ]
  },
  {
   "cell_type": "code",
   "execution_count": null,
   "metadata": {},
   "outputs": [],
   "source": [
    "x = torch.tensor([-1e9, -1e9, -1e9])\n",
    "\n",
    "x = x.softmax(dim=-1)\n",
    "\n",
    "print(x)"
   ]
  },
  {
   "cell_type": "code",
   "execution_count": 1,
   "metadata": {},
   "outputs": [
    {
     "name": "stderr",
     "output_type": "stream",
     "text": [
      "/home/ligaojie/anaconda3/envs/biomed/lib/python3.8/site-packages/tqdm/auto.py:21: TqdmWarning: IProgress not found. Please update jupyter and ipywidgets. See https://ipywidgets.readthedocs.io/en/stable/user_install.html\n",
      "  from .autonotebook import tqdm as notebook_tqdm\n"
     ]
    }
   ],
   "source": [
    "import torch\n",
    "import numpy as np\n",
    "from models.model_v1 import *\n",
    "from models.vision_transformer_wsi import *"
   ]
  },
  {
   "cell_type": "code",
   "execution_count": 33,
   "metadata": {},
   "outputs": [],
   "source": [
    "model = MaskedAttentionPoolLatent(\n",
    "    in_dims=256,\n",
    "    num_heads=8\n",
    ")"
   ]
  },
  {
   "cell_type": "code",
   "execution_count": 3,
   "metadata": {},
   "outputs": [],
   "source": [
    "model = CellAggregator(\n",
    "    in_dims=256,\n",
    "    num_heads=8\n",
    ")"
   ]
  },
  {
   "cell_type": "code",
   "execution_count": 2,
   "metadata": {},
   "outputs": [],
   "source": [
    "model = Model_V1(\n",
    "    in_dims=256,\n",
    "    num_classes=9,\n",
    "    depth=1,\n",
    "    num_heads=8,\n",
    "    proj_drop=0.02,\n",
    "    attn_drop=0.02,\n",
    "    drop_path=0.01\n",
    ")"
   ]
  },
  {
   "cell_type": "code",
   "execution_count": 3,
   "metadata": {},
   "outputs": [
    {
     "name": "stdout",
     "output_type": "stream",
     "text": [
      "tensor([[[0, 0, 0,  ..., 0, 1, 0],\n",
      "         [0, 1, 0,  ..., 0, 0, 1],\n",
      "         [1, 0, 0,  ..., 0, 1, 0],\n",
      "         ...,\n",
      "         [0, 1, 1,  ..., 1, 1, 0],\n",
      "         [1, 1, 0,  ..., 0, 0, 0],\n",
      "         [0, 0, 1,  ..., 1, 1, 1]],\n",
      "\n",
      "        [[1, 1, 0,  ..., 0, 1, 1],\n",
      "         [0, 0, 0,  ..., 0, 1, 0],\n",
      "         [0, 1, 1,  ..., 0, 1, 1],\n",
      "         ...,\n",
      "         [1, 1, 0,  ..., 0, 1, 0],\n",
      "         [1, 0, 0,  ..., 1, 0, 1],\n",
      "         [1, 0, 1,  ..., 0, 1, 1]]])\n"
     ]
    }
   ],
   "source": [
    "mask = torch.randint(low=0, high=2, size=(2, 800, 150))\n",
    "print(mask)\n",
    "\n",
    "x = torch.rand(2, 800, 150, 256)"
   ]
  },
  {
   "cell_type": "code",
   "execution_count": 5,
   "metadata": {},
   "outputs": [],
   "source": [
    "device = torch.device('cuda:0')"
   ]
  },
  {
   "cell_type": "code",
   "execution_count": 6,
   "metadata": {},
   "outputs": [
    {
     "name": "stdout",
     "output_type": "stream",
     "text": [
      "cuda:0\n"
     ]
    }
   ],
   "source": [
    "model.to(device)\n",
    "print(next(model.parameters()).device)\n",
    "x = x.to(device)\n",
    "mask = mask.to(device)\n",
    "\n",
    "# logit = model(x, mask)"
   ]
  },
  {
   "cell_type": "code",
   "execution_count": 7,
   "metadata": {},
   "outputs": [],
   "source": [
    "logit = model(x, mask)"
   ]
  },
  {
   "cell_type": "code",
   "execution_count": 8,
   "metadata": {},
   "outputs": [
    {
     "name": "stdout",
     "output_type": "stream",
     "text": [
      "torch.Size([2, 9])\n"
     ]
    }
   ],
   "source": [
    "print(logit.shape)"
   ]
  },
  {
   "cell_type": "code",
   "execution_count": null,
   "metadata": {},
   "outputs": [],
   "source": [
    "y = torch.randint(low=0, high=2, size=(2, 10)).to(device)\n",
    "\n",
    "cri = AsymmetricCriterion(num_classes=10)\n",
    "\n",
    "dic = cri(logit, y)\n",
    "\n",
    "print(dic)"
   ]
  },
  {
   "cell_type": "code",
   "execution_count": null,
   "metadata": {},
   "outputs": [],
   "source": [
    "0.3881+0.4623+0.3458+0.0329+0.3183+0.0271+0.3244+0.3876+0.3091+0.2882"
   ]
  },
  {
   "cell_type": "code",
   "execution_count": null,
   "metadata": {},
   "outputs": [],
   "source": [
    "print(sum(dic[k] for k in dic.keys()))"
   ]
  },
  {
   "cell_type": "code",
   "execution_count": null,
   "metadata": {},
   "outputs": [],
   "source": [
    "from torch.nn.utils.rnn import pad_sequence\n",
    "import torch.nn.functional as F\n",
    "a = [torch.rand(4,256), torch.rand(7,256), torch.rand(3,256), torch.rand(5,256)]\n",
    "padded_patches = pad_sequence(a, batch_first=True, padding_value=0)\n",
    "\n",
    "\n",
    "print(padded_patches.shape)"
   ]
  },
  {
   "cell_type": "code",
   "execution_count": null,
   "metadata": {},
   "outputs": [],
   "source": [
    "lb = torch.tensor(1)\n",
    "print(F.one_hot(lb, num_classes=9).shape)"
   ]
  },
  {
   "cell_type": "code",
   "execution_count": 9,
   "metadata": {},
   "outputs": [],
   "source": [
    "def count_parameters(model):\n",
    "    return sum(p.numel() for p in model.parameters())"
   ]
  },
  {
   "cell_type": "code",
   "execution_count": 10,
   "metadata": {},
   "outputs": [
    {
     "name": "stdout",
     "output_type": "stream",
     "text": [
      "Total number of parameters: 4.22M\n"
     ]
    }
   ],
   "source": [
    "total_params = count_parameters(model)\n",
    "\n",
    "# 将参数数量转换为以 \"M\" 为单位\n",
    "params_in_millions = total_params / 1_000_000\n",
    "formatted_params = f\"{params_in_millions:.2f}M\"  # 保留两位小数\n",
    "\n",
    "print(f\"Total number of parameters: {formatted_params}\")"
   ]
  }
 ],
 "metadata": {
  "kernelspec": {
   "display_name": "biomed",
   "language": "python",
   "name": "python3"
  },
  "language_info": {
   "codemirror_mode": {
    "name": "ipython",
    "version": 3
   },
   "file_extension": ".py",
   "mimetype": "text/x-python",
   "name": "python",
   "nbconvert_exporter": "python",
   "pygments_lexer": "ipython3",
   "version": "3.8.19"
  }
 },
 "nbformat": 4,
 "nbformat_minor": 2
}
