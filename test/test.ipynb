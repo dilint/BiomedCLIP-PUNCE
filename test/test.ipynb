{
 "cells": [
  {
   "cell_type": "code",
   "execution_count": 1,
   "metadata": {},
   "outputs": [
    {
     "name": "stderr",
     "output_type": "stream",
     "text": [
      "100%|██████████| 486/486 [01:48<00:00,  4.50it/s]\n",
      "100%|██████████| 522/522 [01:50<00:00,  4.71it/s]\n",
      "100%|██████████| 468/468 [01:47<00:00,  4.35it/s]\n",
      "100%|██████████| 486/486 [01:45<00:00,  4.61it/s]\n",
      "100%|██████████| 513/513 [01:53<00:00,  4.53it/s]\n",
      "100%|██████████| 442/442 [01:33<00:00,  4.73it/s]\n"
     ]
    }
   ],
   "source": [
    "import os\n",
    "from PIL import Image\n",
    "from tqdm import tqdm\n",
    "import pandas as pd \n",
    "\n",
    "data_root = '/data/wsi/TCTGC50k/TCTGC50k-volume1/'\n",
    "\n",
    "wsi_names = ['T202234673', 'T202234666', 'T202329508', 'test0001', 'T202232995', 'M202331996']\n",
    "error_df = 'tct_img_error2.xlsx'\n",
    "volume_num = 1\n",
    "if os.path.exists(error_df):\n",
    "    df = pd.read_excel(error_df)\n",
    "else:\n",
    "    df = pd.DataFrame(columns=['wsi_name', 'img_name', 'volume'])\n",
    "for wsi_name in wsi_names:\n",
    "    img_files = os.listdir(os.path.join(data_root, wsi_name))\n",
    "    for img_file in tqdm(img_files):\n",
    "        try:\n",
    "            img_path = os.path.join(data_root, wsi_name, img_file)\n",
    "            img = Image.open(img_path)\n",
    "            img.resize((224, 224))\n",
    "        except:\n",
    "            new_row = pd.DataFrame({'wsi_name': [wsi_name], 'img_name': [img_file], 'volume': [volume_num]})\n",
    "            df = pd.concat([df, new_row], ignore_index=True)\n",
    "df.to_excel(error_df, index=False)"
   ]
  }
 ],
 "metadata": {
  "kernelspec": {
   "display_name": "biomed-clip",
   "language": "python",
   "name": "python3"
  },
  "language_info": {
   "codemirror_mode": {
    "name": "ipython",
    "version": 3
   },
   "file_extension": ".py",
   "mimetype": "text/x-python",
   "name": "python",
   "nbconvert_exporter": "python",
   "pygments_lexer": "ipython3",
   "version": "3.8.18"
  },
  "orig_nbformat": 4
 },
 "nbformat": 4,
 "nbformat_minor": 2
}
