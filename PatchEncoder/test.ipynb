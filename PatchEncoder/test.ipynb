{
 "cells": [
  {
   "cell_type": "code",
   "execution_count": null,
   "metadata": {},
   "outputs": [],
   "source": [
    "from PIL import Image\n",
    "import os\n",
    "\n",
    "output_path = 'output_jpg'\n",
    "if not os.path.exists(output_path):\n",
    "    os.makedirs(output_path)\n",
    "# 打开大图像\n",
    "with Image.open('2_17.jpg') as img:\n",
    "    # 计算水平方向和垂直方向上可以切割出多少个256x256的图像\n",
    "    width, height = img.size\n",
    "    num_patches_x = width // 256\n",
    "    num_patches_y = height // 256\n",
    "\n",
    "    # 遍历所有可能的图像块\n",
    "    for i in range(num_patches_x):\n",
    "        for j in range(num_patches_y):\n",
    "            # 计算当前图像块的位置\n",
    "            left = i * 256\n",
    "            upper = j * 256\n",
    "            right = left + 256\n",
    "            lower = upper + 256\n",
    "\n",
    "            # 切割图像块\n",
    "            crop_patchs = img.crop((left, upper, right, lower))\n",
    "\n",
    "            # 保存切割后的图像块\n",
    "            patch.save(os.path.join(output_path,f'patch_{i}_{j}.jpg'))\n"
   ]
  },
  {
   "cell_type": "code",
   "execution_count": 8,
   "metadata": {},
   "outputs": [
    {
     "data": {
      "text/plain": [
       "torch.Size([3, 224, 224])"
      ]
     },
     "execution_count": 8,
     "metadata": {},
     "output_type": "execute_result"
    }
   ],
   "source": [
    "from extract_features_FM import Whole_Slide_Patchs\n",
    "\n",
    "wsi_path = '/home/huangjialong/projects/BiomedCLIP-PUNCE/datatools/xCY20010730-HSIL'\n",
    "target_patch_size = (224,224)\n",
    "preprocess = None\n",
    "dataset = Whole_Slide_Patchs(wsi_path=wsi_path, target_patch_size=target_patch_size, preprocess=preprocess)\n",
    "dataset[0].shape"
   ]
  },
  {
   "cell_type": "code",
   "execution_count": 9,
   "metadata": {},
   "outputs": [
    {
     "data": {
      "text/plain": [
       "torch.Size([176, 3, 224, 224])"
      ]
     },
     "execution_count": 9,
     "metadata": {},
     "output_type": "execute_result"
    },
    {
     "ename": "",
     "evalue": "",
     "output_type": "error",
     "traceback": [
      "\u001b[1;31mThe Kernel crashed while executing code in the the current cell or a previous cell. Please review the code in the cell(s) to identify a possible cause of the failure. Click <a href='https://aka.ms/vscodeJupyterKernelCrash'>here</a> for more info. View Jupyter <a href='command:jupyter.viewOutput'>log</a> for further details."
     ]
    }
   ],
   "source": [
    "fine_grained=True\n",
    "fine_grained_size=(256,256)\n",
    "dataset = Whole_Slide_Patchs(wsi_path=wsi_path, target_patch_size=target_patch_size, preprocess=preprocess, fine_grained=fine_grained, fine_grained_size=fine_grained_size)\n",
    "dataset[0].shape"
   ]
  },
  {
   "cell_type": "code",
   "execution_count": 1,
   "metadata": {},
   "outputs": [
    {
     "data": {
      "text/plain": [
       "torch.Size([805, 176, 512])"
      ]
     },
     "execution_count": 1,
     "metadata": {},
     "output_type": "execute_result"
    },
    {
     "ename": "",
     "evalue": "",
     "output_type": "error",
     "traceback": [
      "\u001b[1;31mThe Kernel crashed while executing code in the the current cell or a previous cell. Please review the code in the cell(s) to identify a possible cause of the failure. Click <a href='https://aka.ms/vscodeJupyterKernelCrash'>here</a> for more info. View Jupyter <a href='command:jupyter.viewOutput'>log</a> for further details."
     ]
    }
   ],
   "source": [
    "import torch\n",
    "fn = '/data/wsi/TCTGC2625-features/plip-fine/pt/xCR20018818-NILM.pt'\n",
    "f = torch.load(fn)\n",
    "f.shape"
   ]
  }
 ],
 "metadata": {
  "kernelspec": {
   "display_name": "biomed",
   "language": "python",
   "name": "python3"
  },
  "language_info": {
   "codemirror_mode": {
    "name": "ipython",
    "version": 3
   },
   "file_extension": ".py",
   "mimetype": "text/x-python",
   "name": "python",
   "nbconvert_exporter": "python",
   "pygments_lexer": "ipython3",
   "version": "3.8.18"
  },
  "orig_nbformat": 4
 },
 "nbformat": 4,
 "nbformat_minor": 2
}
