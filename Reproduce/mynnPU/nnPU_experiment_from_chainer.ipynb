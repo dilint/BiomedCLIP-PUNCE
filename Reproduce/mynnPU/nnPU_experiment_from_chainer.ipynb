{
  "cells": [
    {
      "cell_type": "markdown",
      "metadata": {
        "colab_type": "text",
        "id": "view-in-github"
      },
      "source": [
        "<a href=\"https://colab.research.google.com/github/CGPiguet/nnPU-MNIST-Experiment-Pytorch/blob/main/nnPU_experiment_from_chainer.ipynb\" target=\"_parent\"><img src=\"https://colab.research.google.com/assets/colab-badge.svg\" alt=\"Open In Colab\"/></a>"
      ]
    },
    {
      "cell_type": "markdown",
      "metadata": {
        "id": "sLYn5Znr8ESV"
      },
      "source": [
        "10.06.2021 : Most recent version, closest to chainer Implementation\n",
        "\n",
        "> Characteristics\n",
        "\n",
        "*   lr = 0.001\n",
        "*   Dataset function from chainer experiments/Kyrio (no transforms)\n",
        "*   3 Dataloader (train, valid(=train in chainer, validtrain here), test(=valid)\n",
        "*   Dataloader(train_dataset, ..., drop_last= True) to simulate chainer\n",
        "*   Unlabeled = 60000, labeled = 1000, train_dataset= 61000, test_dataset= 10000\n",
        "*   Same evaluation metrics as in chainer\n",
        "\n",
        "\n",
        "\n",
        "\n"
      ]
    },
    {
      "cell_type": "markdown",
      "metadata": {
        "id": "HdJqjGfXYnsV"
      },
      "source": [
        "# Initialisation"
      ]
    },
    {
      "cell_type": "code",
      "execution_count": null,
      "metadata": {
        "id": "hcWo_IWa_792"
      },
      "outputs": [],
      "source": [
        "# ##Google Collab\n",
        "# #Drive mountr \n",
        "# from google.colab import drive\n",
        "# from google.colab import output\n",
        "# drive.mount('/content/drive/', force_remount= False)"
      ]
    },
    {
      "cell_type": "code",
      "execution_count": null,
      "metadata": {
        "id": "U1iCeX1ZCRpR"
      },
      "outputs": [],
      "source": [
        "import sys\n",
        "sys.path.append('//content/drive/My Drive/Colab Notebooks/MasterThesis')"
      ]
    },
    {
      "cell_type": "code",
      "execution_count": null,
      "metadata": {
        "id": "MQdeB_-ECWDC"
      },
      "outputs": [],
      "source": [
        "import os \n",
        "import torch\n",
        "import torch.nn as nn\n",
        "from torch.utils.data import DataLoader\n",
        "import torchvision\n",
        "\n",
        "from tqdm.notebook import tqdm, trange\n",
        "from torchsummary import summary\n",
        "\n",
        "import numpy as np\n",
        "# For ROC metrics\n",
        "from sklearn import metrics\n",
        "\n",
        "from IPython.display import clear_output \n",
        "\n",
        "import matplotlib as mpl\n",
        "import matplotlib.pyplot as plt\n",
        "import matplotlib.animation as animation\n",
        "%matplotlib inline"
      ]
    },
    {
      "cell_type": "code",
      "execution_count": null,
      "metadata": {
        "colab": {
          "base_uri": "https://localhost:8080/"
        },
        "id": "lNiPuon3zvOe",
        "outputId": "a656511f-a90a-415e-dab8-70a6a2e615a6"
      },
      "outputs": [
        {
          "name": "stdout",
          "output_type": "stream",
          "text": [
            "cuda\n"
          ]
        }
      ],
      "source": [
        "SEED = 0\n",
        "torch.manual_seed(SEED)\n",
        "device = torch.device('cuda' if torch.cuda.is_available() else 'cpu')\n",
        "kwargs = {'num_workers': 1, 'pin_memory': True} if torch.cuda.is_available() else {}\n",
        "print(device)"
      ]
    },
    {
      "cell_type": "code",
      "execution_count": null,
      "metadata": {
        "id": "BK0kjT-K3vw6"
      },
      "outputs": [],
      "source": [
        "# To bypass CloudFlare Protection of the MNIST dataset\n",
        "from six.moves import urllib    \n",
        "opener = urllib.request.build_opener()\n",
        "opener.addheaders = [('User-agent', 'Mozilla/5.0')]\n",
        "urllib.request.install_opener(opener)"
      ]
    },
    {
      "cell_type": "markdown",
      "metadata": {
        "id": "H9vYIeS5Yw_k"
      },
      "source": [
        "# Dataset"
      ]
    },
    {
      "cell_type": "markdown",
      "metadata": {
        "id": "VlsBHjyb9Mo7"
      },
      "source": [
        "## Pytorch"
      ]
    },
    {
      "cell_type": "code",
      "execution_count": null,
      "metadata": {
        "id": "pjv-mFaTNRRb"
      },
      "outputs": [],
      "source": [
        "#From https://github.com/cimeister/pu-learning\n",
        "download =  True\n",
        "\n",
        "from torchvision.datasets import MNIST, CIFAR10\n",
        "class PU_MNIST(MNIST):\n",
        "  def __init__(self, root, train= True, transform= None, target_transform= None, download= False):\n",
        "    super(PU_MNIST, self).__init__(root, train=train, transform= transform, target_transform= target_transform, download= download)\n",
        "    self.pos_indices = []\n",
        "    i = 0\n",
        "\n",
        "    \n",
        "    # Save the first 1000 data as P (positive) class\n",
        "    while len(self.pos_indices) < 1000:\n",
        "      if self.targets[i] % 2 == 0:\n",
        "        self.pos_indices.append(i)\n",
        "      i += 1\n",
        "\n",
        "  def __getitem__(self, i):\n",
        "    input, target = super(PU_MNIST, self).__getitem__(i)\n",
        "    # Retrieve 1 if i belong to the P class or -1 if not\n",
        "    # input = np.array(input)/255\n",
        "    # input = torch.tensor(input, dtype= torch.float32)\n",
        "    if i in self.pos_indices:\n",
        "      target = torch.tensor(1)\n",
        "    else:\n",
        "      target = torch.tensor(-1)\n",
        "    return input, target \n",
        "\n",
        "  def get_prior(self):\n",
        "    # I assumed it is symbolise in the paper by pi_p = p(Y = +1)\n",
        "    pos_example = self.targets % 2 == 0\n",
        "    return torch.sum(pos_example, dtype=torch.float) / len(self.targets)\n",
        "\n",
        "\n",
        "\n",
        "class PN_MNIST(MNIST):\n",
        "  ## We add this \n",
        "  def __init__(self, root, train=True, transform=None, target_transform=None, download=False):\n",
        "    super(PN_MNIST, self).__init__(root, train=train, transform=transform, target_transform=target_transform, download=download)\n",
        "  ##\n",
        "  def __getitem__(self, i):\n",
        "    input, target = super(PN_MNIST, self).__getitem__(i)\n",
        "    # input = np.array(input)/255\n",
        "    # input = torch.tensor(input, dtype= torch.float32)\n",
        "    # Retrieve -1 for N class and 1 for P class \n",
        "    if target % 2 == 0:\n",
        "      target = torch.tensor(1)\n",
        "    else:\n",
        "      target = torch.tensor(-1)\n",
        "\n",
        "    return input, target "
      ]
    },
    {
      "cell_type": "code",
      "execution_count": null,
      "metadata": {
        "id": "JP1J0BPoj9Xd"
      },
      "outputs": [],
      "source": [
        "from torchvision.transforms import ToTensor, Normalize, Compose\n",
        "transforms = Compose([\n",
        "    ToTensor(),\n",
        "    Normalize(mean=(0.5,), std=(0.5,))\n",
        "])\n",
        "\n",
        "# It seems that in the original paper, they didnt' implent any normalization excepti a divive by 255 to make the value in the range of [0,1]"
      ]
    },
    {
      "cell_type": "code",
      "execution_count": null,
      "metadata": {
        "id": "6X__4ww_sY7U"
      },
      "outputs": [],
      "source": [
        "# dataset = {'train': PU_MNIST(root='/content/', train= True, download= download,transform= None),\n",
        "#            'valid': PN_MNIST(root='/content/', train= False, download= download,transform= None)}           \n",
        "# batch_size =   30000\n",
        "# dataloader = {'train': DataLoader(dataset['train'], batch_size= batch_size, shuffle= True, drop_last= True, **kwargs),\n",
        "#               'validtrain': DataLoader(dataset['train'], batch_size= batch_size, shuffle= False, **kwargs),\n",
        "#               'valid': DataLoader(dataset['valid'], batch_size= batch_size, shuffle= False, **kwargs)}\n",
        "# clear_output()"
      ]
    },
    {
      "cell_type": "code",
      "execution_count": null,
      "metadata": {
        "id": "fc22uJAU4wP0"
      },
      "outputs": [],
      "source": [
        "# input, target = dataset['train'][0]\n",
        "# plt.hist(input.squeeze().numpy())\n",
        "# prior = dataset['train'].get_prior()"
      ]
    },
    {
      "cell_type": "markdown",
      "metadata": {
        "id": "1HCQPVQCfqXz"
      },
      "source": [
        "## Chainer\n"
      ]
    },
    {
      "cell_type": "code",
      "execution_count": null,
      "metadata": {
        "id": "843drKNAgGZP"
      },
      "outputs": [],
      "source": [
        "import numpy as np\n",
        "import urllib.request\n",
        "import os\n",
        "import tarfile\n",
        "import pickle\n",
        "from sklearn.datasets import fetch_openml\n",
        "\n",
        "def get_mnist():\n",
        "    mnist = fetch_openml('mnist_784', data_home=\".\")\n",
        "\n",
        "    x = mnist.data\n",
        "    y = mnist.target\n",
        "    # reshape to (#data, #channel, width, height)\n",
        "    x = np.reshape(x, (x.shape[0], 1, 28, 28)) / 255.\n",
        "    x_tr = np.asarray(x[:60000], dtype=np.float32)\n",
        "    y_tr = np.asarray(y[:60000], dtype=np.int32)\n",
        "    x_te = np.asarray(x[60000:], dtype=np.float32)\n",
        "    y_te = np.asarray(y[60000:], dtype=np.int32)\n",
        "    return (x_tr, y_tr), (x_te, y_te)\n",
        "\n",
        "\n",
        "def binarize_mnist_class(y_train, y_test):\n",
        "    y_train_bin = np.ones(len(y_train), dtype=np.int32)\n",
        "    y_train_bin[y_train % 2 == 1] = -1\n",
        "    y_test_bin = np.ones(len(y_test), dtype=np.int32)\n",
        "    y_test_bin[y_test % 2 == 1] = -1\n",
        "    return y_train_bin, y_test_bin\n",
        "\n",
        "\n",
        "def unpickle(file):\n",
        "    fo = open(file, 'rb')\n",
        "    dictionary = pickle.load(fo, encoding='latin1')\n",
        "    fo.close()\n",
        "    return dictionary\n",
        "\n",
        "\n",
        "def conv_data2image(data):\n",
        "    return np.rollaxis(data.reshape((3, 32, 32)), 0, 3)\n",
        "\n",
        "\n",
        "def make_dataset(dataset, n_labeled, n_unlabeled):\n",
        "    def make_pu_dataset_from_binary_dataset(x, y, labeled=n_labeled, unlabeled=n_unlabeled):\n",
        "        labels = np.unique(y)\n",
        "        positive, negative = labels[1], labels[0]\n",
        "        x, y = np.asarray(x, dtype=np.float32), np.asarray(y, dtype=np.int32)\n",
        "        # print('x: {}\\ty: {}'.format(len(x),len(y)))\n",
        "        assert(len(x) == len(y))\n",
        "        perm = np.random.permutation(len(y))\n",
        "        x, y = x[perm], y[perm]\n",
        "        n_p = (y == positive).sum()\n",
        "        n_lp = labeled\n",
        "        n_n = (y == negative).sum()\n",
        "        n_u = unlabeled\n",
        "        # print('n_p: {}\\tn_lp:{}\\tn_n: {}\\tn_u:{}'.format(n_p,n_lp,n_n,n_u))\n",
        "        \n",
        "        if labeled + unlabeled == len(x):\n",
        "            # print('labeled + unlabeled = {}'.format(len(x)))\n",
        "            n_up = n_p - n_lp\n",
        "        elif unlabeled == len(x):\n",
        "            # print('unlabeled = {}'.format(len(x)))           \n",
        "            n_up = n_p\n",
        "            # print('n_up: {}'.format(n_up))\n",
        "        else:\n",
        "            raise ValueError(\"Only support |P|+|U|=|X| or |U|=|X|.\")\n",
        "        _prior = float(n_up) / float(n_u)\n",
        "        # print('len(x[y == positive]): {}'.format(len(x[y == positive])))\n",
        "        # xlp is just 1000 of positive samples \n",
        "        xlp = x[y == positive][:n_lp]\n",
        "        # print('len(x[y == positive][n_lp:])= {}'.format(len(x[y == positive][n_lp:])))\n",
        "        xup = np.concatenate((x[y == positive][n_lp:], xlp), axis=0)[:n_up]\n",
        "        xun = x[y == negative]\n",
        "        # print('xlp: {}\\txup: {}\\txun: {}'.format(len(xlp),len(xup),len(xun)))\n",
        "        x = np.asarray(np.concatenate((xlp, xup, xun), axis=0), dtype=np.float32)\n",
        "        # print('x: {}'.format(len(x)))\n",
        "        # print(x.shape)\n",
        "        y = np.asarray(np.concatenate((np.ones(n_lp), -np.ones(n_u))), dtype=np.int32)\n",
        "        perm = np.random.permutation(len(y))\n",
        "        x, y = x[perm], y[perm]\n",
        "        return x, y, _prior\n",
        "\n",
        "    def make_pn_dataset_from_binary_dataset(x, y):\n",
        "        labels = np.unique(y)\n",
        "        positive, negative = labels[1], labels[0]\n",
        "        X, Y = np.asarray(x, dtype=np.float32), np.asarray(y, dtype=np.int32)\n",
        "        n_p = (Y == positive).sum()\n",
        "        n_n = (Y == negative).sum()\n",
        "        Xp = X[Y == positive][:n_p]\n",
        "        Xn = X[Y == negative][:n_n]\n",
        "        X = np.asarray(np.concatenate((Xp, Xn)), dtype=np.float32)\n",
        "        Y = np.asarray(np.concatenate((np.ones(n_p), -np.ones(n_n))), dtype=np.int32)\n",
        "        perm = np.random.permutation(len(Y))\n",
        "        X, Y = X[perm], Y[perm]\n",
        "        return X, Y\n",
        "\n",
        "    (x_train, y_train), (x_test, y_test) = dataset\n",
        "    x_train, y_train, prior = make_pu_dataset_from_binary_dataset(x_train, y_train)\n",
        "    x_test, y_test = make_pn_dataset_from_binary_dataset(x_test, y_test)\n",
        "    # print(\"training:{}\".format(x_train.shape))\n",
        "    # print(\"test:{}\".format(x_test.shape))\n",
        "    return list(zip(x_train, y_train)), list(zip(x_test, y_test)), prior\n",
        "\n",
        "\n",
        "def load_dataset(dataset_name, n_labeled, n_unlabeled):\n",
        "    if dataset_name == \"mnist\":\n",
        "        (x_train, y_train), (x_test, y_test) = get_mnist()\n",
        "        y_train, y_test = binarize_mnist_class(y_train, y_test)\n",
        "    elif dataset_name == \"cifar10\":\n",
        "        (x_train, y_train), (x_test, y_test) = get_cifar10()\n",
        "        y_train, y_test = binarize_cifar10_class(y_train, y_test)\n",
        "    else:\n",
        "        raise ValueError(\"dataset name {} is unknown.\".format(dataset_name))\n",
        "    xy_train, xy_test, prior = make_dataset(((x_train, y_train), (x_test, y_test)), n_labeled, n_unlabeled)\n",
        "    return xy_train, xy_test, prior\n"
      ]
    },
    {
      "cell_type": "code",
      "execution_count": null,
      "metadata": {
        "id": "SJFTu7NhgHY0"
      },
      "outputs": [],
      "source": [
        "# XYtrain, XYtest, prior = load_dataset(\"mnist\", 1000, 60000)\n",
        "# # prior = torch.tensor(prior)"
      ]
    },
    {
      "cell_type": "code",
      "execution_count": null,
      "metadata": {
        "id": "Cv1igPGrn74u"
      },
      "outputs": [],
      "source": [
        "# plt.hist(XYtrain[0])"
      ]
    },
    {
      "cell_type": "code",
      "execution_count": null,
      "metadata": {
        "id": "4kp0G_hVklcM"
      },
      "outputs": [],
      "source": [
        "class MNIST_Chainer(torch.utils.data.Dataset):\n",
        "  def __init__(self, XY: list, transform=None):\n",
        "    self.XY = XY\n",
        "    self.transform = transform\n",
        "\n",
        "  def __len__(self):\n",
        "    return len(self.XY)\n",
        "\n",
        "  def __getitem__(self, idx):\n",
        "    input, target = self.XY[idx]\n",
        "    input, target = torch.tensor(input), torch.tensor(target)\n",
        "\n",
        "    return input, target"
      ]
    },
    {
      "cell_type": "code",
      "execution_count": null,
      "metadata": {
        "id": "VSG51QSmhY2q"
      },
      "outputs": [],
      "source": [
        "# dataset = {'train': MNIST_Chainer(XYtrain,transform= None),\n",
        "#            'valid': MNIST_Chainer(XYtest, transform= None)}           \n",
        "# batch_size =   30000\n",
        "# dataloader = {'train': DataLoader(dataset['train'], batch_size= batch_size, shuffle= True, drop_last= True, **kwargs),\n",
        "#               'validtrain': DataLoader(dataset['train'], batch_size= batch_size, shuffle= False, **kwargs),\n",
        "#               'valid': DataLoader(dataset['valid'], batch_size= batch_size, shuffle= False, **kwargs)}"
      ]
    },
    {
      "cell_type": "markdown",
      "metadata": {
        "id": "eZThntGDY6mX"
      },
      "source": [
        "# MLP Model"
      ]
    },
    {
      "cell_type": "code",
      "execution_count": null,
      "metadata": {
        "colab": {
          "base_uri": "https://localhost:8080/"
        },
        "id": "Vf6CPC7Yv5VZ",
        "outputId": "5b5fbc4d-3659-4c40-8022-7bc03f1f8c45"
      },
      "outputs": [
        {
          "name": "stdout",
          "output_type": "stream",
          "text": [
            "----------------------------------------------------------------\n",
            "        Layer (type)               Output Shape         Param #\n",
            "================================================================\n",
            "            Linear-1                  [-1, 300]         235,200\n",
            "       BatchNorm1d-2                  [-1, 300]             600\n",
            "              ReLU-3                  [-1, 300]               0\n",
            "            Linear-4                  [-1, 300]          90,000\n",
            "       BatchNorm1d-5                  [-1, 300]             600\n",
            "              ReLU-6                  [-1, 300]               0\n",
            "            Linear-7                  [-1, 300]          90,000\n",
            "       BatchNorm1d-8                  [-1, 300]             600\n",
            "              ReLU-9                  [-1, 300]               0\n",
            "           Linear-10                  [-1, 300]          90,000\n",
            "      BatchNorm1d-11                  [-1, 300]             600\n",
            "             ReLU-12                  [-1, 300]               0\n",
            "           Linear-13                    [-1, 1]             301\n",
            "================================================================\n",
            "Total params: 507,901\n",
            "Trainable params: 507,901\n",
            "Non-trainable params: 0\n",
            "----------------------------------------------------------------\n",
            "Input size (MB): 0.00\n",
            "Forward/backward pass size (MB): 0.03\n",
            "Params size (MB): 1.94\n",
            "Estimated Total Size (MB): 1.97\n",
            "----------------------------------------------------------------\n"
          ]
        }
      ],
      "source": [
        "# Create the model\n",
        "class MLP(nn.Module):\n",
        "  def __init__(self, input_dim= 28*28*1):\n",
        "    super(MLP, self).__init__()\n",
        "    self.features = nn.Sequential(\n",
        "        nn.Linear(input_dim, 300, bias= False),\n",
        "        nn.BatchNorm1d(300),\n",
        "        nn.ReLU(),\n",
        "        nn.Linear(300, 300, bias= False),\n",
        "        nn.BatchNorm1d(300),\n",
        "        nn.ReLU(),\n",
        "        nn.Linear(300, 300, bias= False),\n",
        "        nn.BatchNorm1d(300),\n",
        "        nn.ReLU(),\n",
        "        nn.Linear(300, 300, bias= False),\n",
        "        nn.BatchNorm1d(300),\n",
        "        nn.ReLU(),\n",
        "        nn.Linear(300, 1)   \n",
        "    )\n",
        "\n",
        "  def forward(self, input):\n",
        "    output = input.view(input.size(0),-1) # OK with pytorch original\n",
        "    output = self.features(output)\n",
        "    return output\n",
        "summary(MLP().cuda(),(1,28,28),)"
      ]
    },
    {
      "cell_type": "markdown",
      "metadata": {
        "id": "0BtEecpwZDrT"
      },
      "source": [
        "# 4. non-negative risk estimator (nnPULoss)"
      ]
    },
    {
      "cell_type": "markdown",
      "metadata": {
        "id": "GgNXTYDSnlX5"
      },
      "source": [
        "This is the *non-negative risk estimator*:\n",
        "\n",
        "The last part (max{}) is equal to negative risk estimator\n",
        ">![picture](https://drive.google.com/uc?export=view&id=1lo4l7zjn6b1lOOoDgYeqfYu0p1VAewCB)\n",
        "\n",
        "This is the class-prior probability:\n",
        "\n",
        ">![picture](https://drive.google.com/uc?export=view&id=1j8es9RH3oNCjN69rcVTcTdFysPNHOeUW)\n",
        "\n",
        "The risk for positive labels to be negative:\n",
        "\n",
        ">![picture](https://drive.google.com/uc?export=view&id=1XOP651_5uYoQ-OR87Fv9hRUlfSOnwHMO)\n",
        "\n",
        "The risk for positive labels to be positives\n",
        "\n",
        ">![picture](https://drive.google.com/uc?export=view&id=1mzFpUUUHIO3XC5lMYJVhKUty9CBa5tmB)\n",
        "\n",
        "The risk for unlabeled to be negative\n",
        "\n",
        ">![picture](https://drive.google.com/uc?export=view&id=1CY2EaHWsHt709WfFinEQipNKyjdbpJfC)\n",
        "\n",
        "\n",
        "**nnPU works by explicitly constraining the training risk of uPU to be non-negative**\n",
        "\n"
      ]
    },
    {
      "cell_type": "code",
      "execution_count": 1,
      "metadata": {
        "id": "EGBCuwnnGrS-"
      },
      "outputs": [],
      "source": [
        "import torch \n",
        "import torch.nn as nn \n",
        "\n",
        "\n",
        "class PULoss(nn.Module): \n",
        "  def __init__(self, prior, loss=(lambda x: torch.sigmoid(-x)), beta= 0,gamma= 1, nnPU= True):\n",
        "    super(PULoss,self).__init__()\n",
        "    if not 0 < prior < 1:\n",
        "      raise NotImplementedError(\"The class prior should be in (0,1)\")\n",
        "    self.prior = prior\n",
        "    self.beta  = beta\n",
        "    self.gamma = gamma\n",
        "    self.loss  = loss\n",
        "    self.nnPU  = nnPU\n",
        "    self.positive = 1\n",
        "    self.negative = -1\n",
        "    self.min_count = torch.tensor(1.)\n",
        "    self.number_of_negative_loss = 0\n",
        "\n",
        "  def forward(self, input, target, test= False):\n",
        "    input, target = input.view(-1), target.view(-1)\n",
        "    assert(input.shape == target.shape)\n",
        "    positive = target == self.positive\n",
        "    unlabeled = target == self.negative\n",
        "    positive, unlabeled = positive.type(torch.float), unlabeled.type(torch.float) \n",
        "   \n",
        "    if input.is_cuda:\n",
        "      self.min_count = self.min_count.cuda()\n",
        "      self.prior = self.prior.cuda()\n",
        "\n",
        "    n_positive, n_unlabeled = torch.max(self.min_count, torch.sum(positive)), torch.max(self.min_count, torch.sum(unlabeled))\n",
        "\n",
        "    # Loss function for positive and unlabeled\n",
        "    ## All loss functions are unary, such that l(t,y) = l(z) with z = ty\n",
        "    y_positive  = self.loss(input).view(-1)  # l(t, 1) = l(input, 1)  = l(input * 1)\n",
        "    y_unlabeled = self.loss(-input).view(-1) # l(t,-1) = l(input, -1) = l(input * -1)\n",
        "    \n",
        "    # # # Risk computation\n",
        "    positive_risk     = torch.sum(y_positive  * positive  / n_positive)\n",
        "    positive_risk_neg = torch.sum(y_unlabeled * positive  / n_positive)\n",
        "    unlabeled_risk    = torch.sum(y_unlabeled * unlabeled / n_unlabeled)\n",
        "    negative_risk     = unlabeled_risk - self.prior * positive_risk_neg\n",
        "\n",
        "    # Update Gradient \n",
        "    if negative_risk < -self.beta and self.nnPU:\n",
        "      # Can't understand why they put minus self.beta\n",
        "      output = self.prior * positive_risk - self.beta\n",
        "      x_out  =  - self.gamma * negative_risk  \n",
        "      self.number_of_negative_loss += 1\n",
        "    else:\n",
        "      # Rpu = pi_p * Rp + max{0, Rn} = pi_p * Rp + Rn\n",
        "      output = self.prior * positive_risk + negative_risk\n",
        "      x_out  = self.prior * positive_risk + negative_risk\n",
        "\n",
        "\n",
        "    return output, x_out "
      ]
    },
    {
      "cell_type": "code",
      "execution_count": 21,
      "metadata": {},
      "outputs": [
        {
          "name": "stdout",
          "output_type": "stream",
          "text": [
            "tensor([0.2115, 0.4484, 0.5661, 0.0485, 0.3359, 0.2990, 0.1495, 0.7133, 0.7992,\n",
            "        0.6063]) tensor([ 1,  1,  1,  1, -1,  1, -1, -1, -1, -1])\n"
          ]
        }
      ],
      "source": [
        "shape = (10,)\n",
        "input = torch.rand(shape)\n",
        "target = torch.randint(0, 2, shape)\n",
        "target[target==0] = -1\n",
        "print(input, target)"
      ]
    },
    {
      "cell_type": "code",
      "execution_count": 18,
      "metadata": {},
      "outputs": [
        {
          "name": "stdout",
          "output_type": "stream",
          "text": [
            "tensor(0.1640)\n",
            "tensor(0.2360)\n"
          ]
        }
      ],
      "source": [
        "loss = PULoss(0.4)\n",
        "output, x_out = loss(input, target)\n",
        "print(output)\n",
        "print(x_out)"
      ]
    },
    {
      "cell_type": "markdown",
      "metadata": {
        "id": "m1wLVmVnZLmA"
      },
      "source": [
        "# Trainer\n",
        "\n"
      ]
    },
    {
      "cell_type": "code",
      "execution_count": null,
      "metadata": {
        "id": "HMq8pUOpiP9g"
      },
      "outputs": [],
      "source": [
        "# Heavily inspired by the Trainer class of the link below\n",
        "# https://towardsdatascience.com/creating-and-training-a-u-net-model-with-pytorch-for-2d-3d-semantic-segmentation-training-3-4-8242d31de234\n",
        "class Trainer:\n",
        "  def __init__(self,\n",
        "               name                   : str,\n",
        "               model                  : torch.nn.Module,\n",
        "               device                 : torch.device,\n",
        "               criterion              : torch.nn.Module,\n",
        "               prior                  : float,\n",
        "               \n",
        "               optimizer              : torch.optim.Optimizer,\n",
        "               train_Dataloader       : torch.utils.data.Dataset,                                           \n",
        "               valid_Dataloader       : torch.utils.data.Dataset = None,\n",
        "\n",
        "               validtrain_Dataloader  : torch.utils.data.Dataset = None,\n",
        "\n",
        "               lr_scheduler           : torch.optim.lr_scheduler = None,\n",
        "               epochs                 : int = 100, # 100\n",
        "               epoch                  : int = 0,\n",
        "               notebook               : bool = True):\n",
        "  \n",
        "    self.name             = name \n",
        "    self.model            = model\n",
        "    self.device           = device\n",
        "    self.criterion        = criterion\n",
        "    self.prior            = prior\n",
        "    self.optimizer        = optimizer\n",
        "    self.lr_scheduler     = lr_scheduler\n",
        "    self.train_Dataloader = train_Dataloader\n",
        "    self.valid_Dataloader = valid_Dataloader\n",
        "    \n",
        "    self.validtrain_Dataloader = validtrain_Dataloader\n",
        "\n",
        "    self.epochs           = epochs\n",
        "    self.epoch            = epoch\n",
        "    self.notebook         = notebook \n",
        "\n",
        "    self.train_loss       = []\n",
        "    self.valid_loss       = []\n",
        "\n",
        "    self.train_error      = []\n",
        "    self.valid_error      = []\n",
        "\n",
        "    self.train_ROC_AUC    = []\n",
        "    self.valid_ROC_AUC    = []\n",
        "\n",
        "    self.learning_rate    = []\n",
        "\n",
        "\n",
        "    self.test1            = []\n",
        "    self.test2            = []\n",
        "    \n",
        "    \n",
        "\n",
        "  def run_trainer(self):\n",
        "\n",
        "    if self.notebook:\n",
        "      from tqdm.notebook import tqdm, trange\n",
        "    else:\n",
        "      from tqdm import tqdm, trange\n",
        "    \n",
        "    progressbar = trange(self.epochs, desc='Progress', leave= False)\n",
        "    \n",
        "    for i in progressbar:\n",
        "      \"\"\"Epoch Counter\"\"\"\n",
        "      self.epoch += 1\n",
        "\n",
        "      \"\"\"Training block\"\"\"\n",
        "      self._train()\n",
        "\n",
        "      \"\"\"Validation/Train block (From Chainer) /\"\"\"\n",
        "      if self.validtrain_Dataloader is not None:\n",
        "        self._validateTrain()\n",
        "\n",
        "      \"\"\"Validation block\"\"\"\n",
        "      if self.valid_Dataloader is not None:\n",
        "        self._validate()\n",
        "\n",
        "      \n",
        "\n",
        "      \"\"\"Learning rate scheduler block\"\"\"\n",
        "      if self.lr_scheduler is not None:\n",
        "        if self.valid_DataLoader is not None and self.lr_scheduler.__class__.__name__ == 'ReduceLROnPlateau':\n",
        "            self.lr_scheduler.batch(self.validation_loss[i])  # learning rate scheduler step with validation loss\n",
        "        else:\n",
        "            self.lr_scheduler.batch()  # learning rate scheduler step\n",
        "\n",
        "    progressbar.close()\n",
        "\n",
        "    # return self.train_loss, self.valid_loss, self.train_dice_coef, self.valid_dice_coef,  self.learning_rate\n",
        "\n",
        "  def _train(self):\n",
        "\n",
        "    if self.notebook:\n",
        "      from tqdm.notebook import tqdm, trange\n",
        "    else:\n",
        "      from tqdm import tqdm, trange\n",
        "    \n",
        "    self.model.train() # train mode\n",
        "    train_losses      = []  # accumulate the losses here\n",
        "    train_batch_ROC   = []\n",
        "    batch_train_error = (np.zeros(4))\n",
        "\n",
        "\n",
        "    batch_iter = tqdm(enumerate(self.train_Dataloader), 'Training', total=len(self.train_Dataloader),\n",
        "                      leave= False)\n",
        "    \n",
        "    for i, data in batch_iter:\n",
        "      input, target = data\n",
        "\n",
        "      input, target = input.to(self.device), target.to(self.device) # Send to device (GPU or CPU)\n",
        "\n",
        "      self.optimizer.zero_grad() # Set grad to zero\n",
        "      \n",
        "      output  = self.model(input) # One forward pass \n",
        "      output  = output.squeeze()\n",
        "\n",
        "      loss, x_out   = self.criterion(output, target) # Calculate loss\n",
        "      loss_value    = loss.item()\n",
        "      train_losses.append(loss_value)\n",
        "      x_out.backward() # one backward pass\n",
        "      self.optimizer.step() # update the parameters\n",
        "      batch_iter.set_description(f'Training: (loss {loss_value:.4f})')  # update progressbar\n",
        "\n",
        "      # Normalization for ROC (for binary data evaluation/accuracy)\n",
        "      roc_target = target.cpu().numpy()\n",
        "      roc_output = torch.tanh(output)\n",
        "      roc_output = roc_output.detach().cpu().numpy()\n",
        "      fpr, tpr, thresholds = metrics.roc_curve(roc_target, roc_output)\n",
        "      ROC = metrics.auc(fpr, tpr)\n",
        "      train_batch_ROC.append(ROC)\n",
        "\n",
        "      # Error Chainer\n",
        "      batch_train_error += self._batch_train_error(output, target)\n",
        "\n",
        "    if self.validtrain_Dataloader is None: \n",
        "\n",
        "      self.train_loss.append(np.mean(np.array(train_losses)))\n",
        "\n",
        "      self.train_ROC_AUC.append(np.mean(train_batch_ROC))\n",
        "\n",
        "      self.learning_rate.append(self.optimizer.param_groups[0]['lr'])\n",
        "\n",
        "      # Error Chainer\n",
        "      self.train_error.append(self._train_error(batch_train_error))\n",
        "\n",
        "\n",
        "\n",
        "    batch_iter.close()\n",
        "\n",
        "  def _validateTrain(self):\n",
        "\n",
        "    if self.notebook:\n",
        "      from tqdm.notebook import tqdm, trange\n",
        "    else:\n",
        "      from tqdm import tqdm, trange\n",
        "    \n",
        "    self.model.train() # train mode\n",
        "    train_losses      = []  # accumulate the losses here\n",
        "    train_batch_ROC   = []\n",
        "    batch_train_error = (np.zeros(4))\n",
        "\n",
        "\n",
        "    batch_iter = tqdm(enumerate(self.validtrain_Dataloader), 'ValidTrain', total=len(self.validtrain_Dataloader),\n",
        "                      leave= False)\n",
        "    \n",
        "    for i, data in batch_iter:\n",
        "      with torch.no_grad():\n",
        "        input, target = data\n",
        "\n",
        "        input, target = input.to(self.device), target.to(self.device) # Send to device (GPU or CPU)\n",
        "        \n",
        "        output  = self.model(input) # One forward pass \n",
        "        output  = output.squeeze()\n",
        "\n",
        "        loss, x_out   = self.criterion(output, target) # Calculate loss\n",
        "        loss_value    = loss.item()\n",
        "        train_losses.append(loss_value)\n",
        "        batch_iter.set_description(f'ValidTrain: (loss {loss_value:.4f})')  # update progressbar\n",
        "\n",
        "        # Normalization for ROC (for binary data evaluation/accuracy)\n",
        "        roc_target = target.cpu().numpy()\n",
        "        roc_output = torch.tanh(output)\n",
        "        roc_output = roc_output.detach().cpu().numpy()\n",
        "        fpr, tpr, thresholds = metrics.roc_curve(roc_target, roc_output)\n",
        "        ROC = metrics.auc(fpr, tpr)\n",
        "        train_batch_ROC.append(ROC)\n",
        "\n",
        "        # Error Chainer\n",
        "        batch_train_error += self._batch_train_error(output, target)\n",
        "\n",
        "\n",
        "    self.train_loss.append(np.mean(np.array(train_losses)))\n",
        "\n",
        "    self.train_ROC_AUC.append(np.mean(train_batch_ROC))\n",
        "\n",
        "    self.learning_rate.append(self.optimizer.param_groups[0]['lr'])\n",
        "\n",
        "    ##Error Chainer\n",
        "    self.train_error.append(self._train_error(batch_train_error))\n",
        "\n",
        "\n",
        "\n",
        "    batch_iter.close()\n",
        "    \n",
        "  def _validate(self):\n",
        "    if self.notebook:\n",
        "      from tqdm.notebook import tqdm, trange\n",
        "    else:\n",
        "      from tqdm import tqdm, trange\n",
        "\n",
        "    self.model.eval() # evaluation mode\n",
        "    valid_losses      = [] # accumulate the losses here        \n",
        "    valid_batch_ROC   = []\n",
        "    batch_valid_error = 0\n",
        "\n",
        "\n",
        "    batch_iter = tqdm(enumerate(self.valid_Dataloader), 'Validation', total=len(self.valid_Dataloader),\n",
        "                      leave=False)\n",
        "\n",
        "    for i, data in batch_iter:\n",
        "      input, target = data\n",
        "      input, target = input.to(self.device), target.to(self.device) # Send to device (GPU or CPU)\n",
        "\n",
        "      with torch.no_grad():\n",
        "        output      = self.model(input)\n",
        "        output      = output.squeeze()\n",
        "        loss,x_out  = self.criterion(output, target)\n",
        "        loss_value  = loss.item()\n",
        "        valid_losses.append(loss_value)\n",
        "        batch_iter.set_description(f'Validation: (loss {loss_value:.4f})')\n",
        "\n",
        "        # Normalization for ROC (for binary data evaluation/accuracy)\n",
        "        roc_target = target.cpu().numpy()\n",
        "        roc_output = torch.tanh(output)\n",
        "        roc_output = roc_output.detach().cpu().numpy()\n",
        "        fpr, tpr, thresholds = metrics.roc_curve(roc_target, roc_output)\n",
        "        ROC = metrics.auc(fpr, tpr)\n",
        "        valid_batch_ROC.append(ROC)\n",
        "\n",
        "\n",
        "        # Error chainer\n",
        "        batch_valid_error += self._valid_error(output,target)\n",
        "\n",
        "\n",
        "    self.valid_loss.append(np.mean(np.array(valid_losses)))\n",
        "\n",
        "    self.valid_ROC_AUC.append(np.mean(ROC))\n",
        "\n",
        "    # Error Chainer \n",
        "    self.valid_error.append(batch_valid_error)\n",
        "\n",
        "    batch_iter.close()\n",
        "\n",
        "  def plot_loss(self, to_save= False):\n",
        "    plt.figure(figsize=(8, 6), dpi=100)\n",
        "    plt.plot(np.arange(self.epochs), self.train_loss)\n",
        "    plt.plot(np.arange(self.epochs), self.valid_loss)\n",
        "    plt.legend(['train_loss','valid_loss'])\n",
        "    plt.xlabel('epoch')\n",
        "    plt.ylabel('loss ')\n",
        "    \n",
        "    plt.title(self.name +' Train/valid loss')\n",
        "\n",
        "    if to_save:\n",
        "      name = '_TrainValid_Loss'\n",
        "      name = self.name + name + '.png'\n",
        "      path = '/content/drive/MyDrive/Colab Notebooks/MasterThesis/MLP/img'\n",
        "      path = os.path.join(path, name)\n",
        "      print(path)\n",
        "      plt.savefig(path)\n",
        "\n",
        "  def plot_ROC_AUC(self, to_save= False):\n",
        "    plt.figure(figsize=(8, 6), dpi=100)\n",
        "    plt.plot(np.arange(self.epochs), self.train_ROC_AUC)\n",
        "    plt.plot(np.arange(self.epochs), self.valid_ROC_AUC)\n",
        "    plt.legend(['train','valid'])\n",
        "    plt.xlabel('epoch')\n",
        "    plt.ylabel('ROC AUC')\n",
        "\n",
        "    plt.title(self.name + ' Train/valid ROC AUC')\n",
        "\n",
        "    if to_save:\n",
        "      name = '_TrainValid_ROCAUC'\n",
        "      name = self.name + name + '.png'\n",
        "      path = '/content/drive/MyDrive/Colab Notebooks/MasterThesis/MLP/img'\n",
        "      path = os.path.join(path, name)\n",
        "      print(path)\n",
        "      plt.savefig(path)\n",
        "\n",
        "  def plot_error_from_chainer(self, to_save= False):\n",
        "    plt.figure(figsize=(8, 6), dpi=100)\n",
        "    plt.plot(np.arange(self.epochs), self.train_error)\n",
        "    plt.plot(np.arange(self.epochs), self.valid_error)\n",
        "    plt.legend(['train','valid'])\n",
        "    plt.xlabel('epoch')\n",
        "    plt.ylabel('Errors')\n",
        "\n",
        "    plt.title(self.name + ' Train/valid Errors from Chainer')\n",
        "\n",
        "    if to_save:\n",
        "      name = '_TrainValid_Errors'\n",
        "      name = self.name + name + '.png'\n",
        "      path = '/content/drive/MyDrive/Colab Notebooks/MasterThesis/MLP/img'\n",
        "      path = os.path.join(path, name)\n",
        "      print(path)\n",
        "      plt.savefig(path)\n",
        "\n",
        "  def _batch_train_error(self, output, target):\n",
        "    # Prediction\n",
        "    h   = torch.flatten(torch.sign(output))\n",
        "    t   = torch.flatten(target)\n",
        "    \n",
        "    h   = h.detach().cpu().numpy()\n",
        "    t   = t.cpu().numpy()\n",
        "\n",
        "    # Number of positive/negative\n",
        "    n_p = (t == 1).sum()\n",
        "    n_n = (t == -1).sum()\n",
        "\n",
        "\n",
        "\n",
        "    # True/False Positive/Negative\n",
        "    t_p = ((h == 1) * (t == 1)).sum()\n",
        "    t_n = ((h == -1) * (t == -1)).sum()\n",
        "    f_p = n_n - t_n\n",
        "    f_n = n_p - t_p\n",
        "\n",
        "    return int(t_p), int(t_n), int(f_p), int(f_n)\n",
        "\n",
        "  def _train_error(self, summary):\n",
        "    prior = self.prior\n",
        "    t_p, t_u, f_p, f_u = summary\n",
        "    n_p = t_p + f_u\n",
        "    n_u = t_u + f_p\n",
        "    error_p = 1 - t_p / n_p\n",
        "    error_u = 1 - t_u / n_u\n",
        "    train_error= 2 * prior * error_p + error_u - prior\n",
        "    \n",
        "    return train_error\n",
        "\n",
        "  def _valid_error(self, output, target):\n",
        "    # Prediction\n",
        "    h = torch.flatten(torch.sign(output))\n",
        "    t = torch.flatten(target)\n",
        "\n",
        "    h   = h.detach().cpu().numpy()\n",
        "    t   = t.cpu().numpy()\n",
        "\n",
        "    \n",
        "    result = (h != t).sum() / len(t)\n",
        "\n",
        "    return result"
      ]
    },
    {
      "cell_type": "markdown",
      "metadata": {
        "id": "z9HYqev3MtzY"
      },
      "source": [
        "# Experiment"
      ]
    },
    {
      "cell_type": "markdown",
      "metadata": {
        "id": "Ky07PkSG4D-j"
      },
      "source": [
        ">## uPU/nnPU Experiments\n",
        "\n",
        "\n",
        "\n",
        "\n",
        "\n",
        "\n",
        "\n",
        "\n",
        "\n"
      ]
    },
    {
      "cell_type": "markdown",
      "metadata": {
        "id": "2LSzh9yRM8GJ"
      },
      "source": [
        ">>### Setup"
      ]
    },
    {
      "cell_type": "code",
      "execution_count": null,
      "metadata": {
        "id": "Ooo4udu7M-gf"
      },
      "outputs": [],
      "source": [
        "XYtrain, XYtest, prior = load_dataset(\"mnist\", 1000, 60000)\n",
        "prior = torch.tensor(prior)\n",
        "\n",
        "dataset = {'train': MNIST_Chainer(XYtrain,transform= None),\n",
        "           'valid': MNIST_Chainer(XYtest, transform= None)}           \n",
        "batch_size =   30000\n",
        "dataloader = {'train': DataLoader(dataset['train'], batch_size= batch_size, shuffle= True, drop_last= True, **kwargs),       # drop_last= True\n",
        "              'validtrain': DataLoader(dataset['train'], batch_size= batch_size, shuffle= False, **kwargs),\n",
        "              'valid': DataLoader(dataset['valid'], batch_size= batch_size, shuffle= False, **kwargs)}"
      ]
    },
    {
      "cell_type": "code",
      "execution_count": null,
      "metadata": {
        "colab": {
          "base_uri": "https://localhost:8080/"
        },
        "id": "ab0djFy8MYAI",
        "outputId": "c4d8309e-3b7f-47a6-9794-7588601fd65e"
      },
      "outputs": [
        {
          "name": "stdout",
          "output_type": "stream",
          "text": [
            "tensor(0.4915)\n",
            "{'train_Dataloader': <torch.utils.data.dataloader.DataLoader object at 0x7fe9dd4fbf50>, 'valid_Dataloader': <torch.utils.data.dataloader.DataLoader object at 0x7fe9535e3050>, 'validtrain_Dataloader': <torch.utils.data.dataloader.DataLoader object at 0x7fe9880c6850>, 'epochs': 100}\n"
          ]
        }
      ],
      "source": [
        "print(prior)\n",
        "lr = 0.001 #0.0001\n",
        "n_epochs   = 100\n",
        "kwargs2 = {\n",
        "          'train_Dataloader': dataloader['train'],\n",
        "          'valid_Dataloader': dataloader['valid'],\n",
        "          'validtrain_Dataloader': dataloader['validtrain'],\n",
        "          'epochs': n_epochs,           \n",
        "          }\n",
        "print(kwargs2)"
      ]
    },
    {
      "cell_type": "markdown",
      "metadata": {
        "id": "quP8nTu_jIqh"
      },
      "source": [
        ">>### uPU\n"
      ]
    },
    {
      "cell_type": "code",
      "execution_count": null,
      "metadata": {
        "id": "cwot477nNjTS"
      },
      "outputs": [],
      "source": [
        "model = MLP().to(device)\n",
        "optimizer = torch.optim.Adam(model.parameters(), lr= lr, weight_decay=0.005)"
      ]
    },
    {
      "cell_type": "code",
      "execution_count": null,
      "metadata": {
        "id": "FniRrt1IjIYW"
      },
      "outputs": [],
      "source": [
        "trainer_uPU  = Trainer('uPU', \n",
        "                    model,\n",
        "                    device, \n",
        "                    PULoss(prior= prior, nnPU= False),\n",
        "                    prior,\n",
        "                    optimizer,\n",
        "                    lr_scheduler = None,\n",
        "                    **kwargs2)"
      ]
    },
    {
      "cell_type": "code",
      "execution_count": null,
      "metadata": {
        "id": "HA4BCswEOs-R"
      },
      "outputs": [],
      "source": [
        "trainer_uPU.run_trainer()\n",
        "clear_output()"
      ]
    },
    {
      "cell_type": "code",
      "execution_count": null,
      "metadata": {
        "id": "eTP57fShOw33"
      },
      "outputs": [],
      "source": [
        "# trainer_uPU.plot_error_from_chainer()"
      ]
    },
    {
      "cell_type": "markdown",
      "metadata": {
        "id": "-WfemT0mjLpX"
      },
      "source": [
        ">>### nnPU"
      ]
    },
    {
      "cell_type": "code",
      "execution_count": null,
      "metadata": {
        "id": "WqbkInpfOozp"
      },
      "outputs": [],
      "source": [
        "model = MLP().to(device)\n",
        "optimizer = torch.optim.Adam(model.parameters(), lr= lr, weight_decay=0.005)"
      ]
    },
    {
      "cell_type": "code",
      "execution_count": null,
      "metadata": {
        "id": "ONO_hGhhOozq"
      },
      "outputs": [],
      "source": [
        "trainer_nnPU  = Trainer('nnPU', \n",
        "                    model,\n",
        "                    device, \n",
        "                    PULoss(prior= prior, nnPU= True),\n",
        "                    prior,\n",
        "                    optimizer,\n",
        "                    lr_scheduler = None,\n",
        "                    **kwargs2)"
      ]
    },
    {
      "cell_type": "code",
      "execution_count": null,
      "metadata": {
        "id": "8H2uyPtwO2ju"
      },
      "outputs": [],
      "source": [
        "trainer_nnPU.run_trainer()\n",
        "print(trainer_nnPU.criterion.number_of_negative_loss)\n",
        "clear_output()"
      ]
    },
    {
      "cell_type": "code",
      "execution_count": null,
      "metadata": {
        "id": "tdqtXtLeO2jv"
      },
      "outputs": [],
      "source": [
        "# trainer_nnPU.plot_error_from_chainer()"
      ]
    },
    {
      "cell_type": "markdown",
      "metadata": {
        "id": "tvRLVNvwvXnj"
      },
      "source": [
        ">>### Results  "
      ]
    },
    {
      "cell_type": "code",
      "execution_count": null,
      "metadata": {
        "id": "B5pUPFy8ttXo"
      },
      "outputs": [],
      "source": [
        "nnpu_upu_dict = {\n",
        "    'nnpu': trainer_nnPU,\n",
        "    'upu': trainer_uPU\n",
        "}"
      ]
    },
    {
      "cell_type": "code",
      "execution_count": null,
      "metadata": {
        "id": "1n0UOWm7tlIP"
      },
      "outputs": [],
      "source": [
        "def plot_error_chainer(trainer_dict, to_save= False):\n",
        "  plt.figure(figsize=(8, 6), dpi=100)\n",
        "  # plt.legend(['nnPU','uPU'])\n",
        "  plt.xlabel('epoch')\n",
        "  plt.ylabel('Errors')\n",
        "  plt.title('Train Error')\n",
        "  plt.grid()\n",
        "\n",
        "  for key, trainer in trainer_dict.items():\n",
        "    plt.plot(np.arange(n_epochs)[1:], trainer.train_error[1:], marker= \"x\")\n",
        "  plt.legend(['nnPU','uPU'])\n",
        "\n",
        "\n",
        "  if to_save:\n",
        "      name = 'train_Errors_nnpu_upu'\n",
        "      name = name + '.png'\n",
        "      path = '/content/drive/MyDrive/Colab Notebooks/MasterThesis/MLP/img'\n",
        "      path = os.path.join(path, name)\n",
        "      print(path)\n",
        "      plt.savefig(path)\n",
        "\n",
        "\n",
        "  plt.figure(figsize=(8, 6), dpi=100)\n",
        "  plt.legend(['nnPU','uPU'])\n",
        "  plt.xlabel('epoch')\n",
        "  plt.ylabel('Errors')\n",
        "  plt.title('Valid Error')\n",
        "  plt.grid()\n",
        "\n",
        "  for key, trainer in trainer_dict.items():\n",
        "    plt.plot(np.arange(n_epochs)[1:], trainer.valid_error[1:], marker= \"x\")\n",
        "  plt.legend(['nnPU','uPU'])\n",
        "\n",
        "  if to_save:\n",
        "    name = 'valid_Errors_nnpu_upu'\n",
        "    name = name + '.png'\n",
        "    path = '/content/drive/MyDrive/Colab Notebooks/MasterThesis/MLP/img'\n",
        "    path = os.path.join(path, name)\n",
        "    print(path)\n",
        "    plt.savefig(path)"
      ]
    },
    {
      "cell_type": "code",
      "execution_count": null,
      "metadata": {
        "colab": {
          "base_uri": "https://localhost:8080/",
          "height": 1000
        },
        "id": "Jq0zpe39v2jW",
        "outputId": "1b5e64a6-759d-4895-bf6c-cc8c5667af71"
      },
      "outputs": [
        {
          "data": {
            "image/png": "[encoded data removed]",
            "text/plain": [
              "<Figure size 800x600 with 1 Axes>"
            ]
          },
          "metadata": {
            "needs_background": "light",
            "tags": []
          },
          "output_type": "display_data"
        },
        {
          "data": {
            "image/png": "[encoded data removed]",
            "text/plain": [
              "<Figure size 800x600 with 1 Axes>"
            ]
          },
          "metadata": {
            "needs_background": "light",
            "tags": []
          },
          "output_type": "display_data"
        }
      ],
      "source": [
        "plot_error_chainer(nnpu_upu_dict)\n",
        "# del trainer_nnPU, trainer_uPU"
      ]
    },
    {
      "cell_type": "markdown",
      "metadata": {
        "id": "u9sLA5jX7EpG"
      },
      "source": [
        ">## 10 samplings Prior experiment"
      ]
    },
    {
      "cell_type": "code",
      "execution_count": null,
      "metadata": {
        "id": "4ZQQIYh22g2m"
      },
      "outputs": [],
      "source": [
        "#prior =  dataset['train'].get_prior()\n",
        "\n",
        "# n_epochs   = 100\n",
        "# kwargs2 = {\n",
        "#           'train_Dataloader': dataloader['train'],\n",
        "#           'valid_Dataloader': dataloader['valid'],\n",
        "#           'validtrain_Dataloader': dataloader['validtrain'],\n",
        "#           'epochs': n_epochs,           \n",
        "#           }\n",
        "# print(kwargs2)"
      ]
    },
    {
      "cell_type": "code",
      "execution_count": null,
      "metadata": {
        "id": "p1rGXJDLSoDX"
      },
      "outputs": [],
      "source": [
        "nb_seeds = 10\n",
        "\n",
        "results_prior_samplings = {\n",
        "    '0.8': None,\n",
        "    '0.9': None,\n",
        "    '1.0': None,\n",
        "    '1.1': None,\n",
        "    '1.2': None,\n",
        "}\n",
        "\n",
        "\n",
        "def Sampling_Training(results_prior_samplings: dict, nb_seeds=10):\n",
        "  batch_iter = tqdm(results_prior_samplings.items(), 'Prior ', total=len(results_prior_samplings.items()),\n",
        "                          leave= False)\n",
        "\n",
        "  for key, array_save in batch_iter:\n",
        "    mean_prior = []\n",
        "    batch_iter.set_description('Prior {}'.format(key))  \n",
        "    \n",
        "    progressbar = trange(nb_seeds, desc='Seed', leave= False)\n",
        "    \n",
        "    for SEED in progressbar:\n",
        "      # Intialisation\n",
        "      np.random.seed(SEED)\n",
        "      torch.manual_seed(SEED)\n",
        "      device = torch.device('cuda' if torch.cuda.is_available() else 'cpu')\n",
        "      kwargs = {'num_workers': 1, 'pin_memory': True} if torch.cuda.is_available() else {}\n",
        "      \n",
        "      # Dataset\n",
        "      XYtrain, XYtest, prior = load_dataset(\"mnist\", 1000, 60000)\n",
        "      prior = torch.tensor(prior)\n",
        "      ##Chainer\n",
        "      dataset = {'train': MNIST_Chainer(XYtrain, transform= None),\n",
        "                'valid': MNIST_Chainer(XYtest, transform= None)}       \n",
        "\n",
        "      ##PyTorch \n",
        "      # dataset = {'train': PU_MNIST(root='/content/', train= True, download= download,transform= transforms),\n",
        "      #            'valid' : PN_MNIST(root='/content/', train= False, download= download,transform= transforms)}        \n",
        "      batch_size =   30000\n",
        "      dataloader = {'train': DataLoader(dataset['train'], batch_size= batch_size, shuffle= True, drop_last=True, **kwargs),   # drop_last= True,\n",
        "                    'validtrain': DataLoader(dataset['train'], batch_size= batch_size, shuffle= False, **kwargs),\n",
        "                    'valid': DataLoader(dataset['valid'], batch_size= batch_size, shuffle= False, **kwargs)}\n",
        "\n",
        "      n_epochs   = 100\n",
        "      kwargs2 = {\n",
        "          'train_Dataloader': dataloader['train'],\n",
        "          'valid_Dataloader': dataloader['valid'],\n",
        "          'validtrain_Dataloader': dataloader['validtrain'],\n",
        "          'epochs': n_epochs,   \n",
        "            }\n",
        "\n",
        "      \n",
        "      # Model\n",
        "      model = MLP().to(device)\n",
        "      lr = 0.001 #0.001 is the original\n",
        "      optimizer = torch.optim.Adam(model.parameters(), lr= lr, weight_decay=0.005)\n",
        "\n",
        "      # Trainer setup\n",
        "      modifier = float(key)\n",
        "      trainer = Trainer('nnPU',\n",
        "                        model,\n",
        "                        device, \n",
        "                        PULoss(prior= prior*modifier),\n",
        "                        prior,\n",
        "                        optimizer,\n",
        "                        lr_scheduler = None,\n",
        "                        **kwargs2)  \n",
        "      \n",
        "      # Run training\n",
        "      trainer.run_trainer()\n",
        "\n",
        "      # Retrieve results\n",
        "\n",
        "      mean_prior.append(trainer.valid_error)\n",
        "      # print(mean_prior)\n",
        "\n",
        "      # Since it is saved, clear everything \n",
        "      trainer.train_loss.clear()\n",
        "      trainer.valid_loss.clear()\n",
        "\n",
        "      trainer.train_error.clear()\n",
        "      # trainer.valid_error.clear()\n",
        "\n",
        "      trainer.train_ROC_AUC.clear()\n",
        "      trainer.valid_ROC_AUC.clear()\n",
        "\n",
        "      trainer.learning_rate.clear()\n",
        "\n",
        "\n",
        "      trainer.test1.clear() \n",
        "      trainer.test2.clear()\n",
        "      # print(mean_prior)\n",
        "\n",
        "      # Delete to save RAM (maybe overkill)\n",
        "      del XYtrain, XYtest, dataset, dataloader\n",
        "    \n",
        "    # Save Mean Results for each SEED\n",
        "    results_prior_samplings[key]= [np.mean(k, dtype= np.float32) for k in zip(*mean_prior)]\n",
        "    # print(results_prior_samplings[key])\n",
        "    #del mean_prior\n",
        "    progressbar.close()\n",
        "\n",
        "    # # Delete to save RAM \n",
        "    # del trainer, modifier, optimizer, kwargs2, n_epochs, dataloader, dataset, kwargs\n",
        "    "
      ]
    },
    {
      "cell_type": "code",
      "execution_count": null,
      "metadata": {
        "id": "hN-2-r9kB1lc"
      },
      "outputs": [],
      "source": [
        "Sampling_Training(results_prior_samplings)\n",
        "clear_output()"
      ]
    },
    {
      "cell_type": "markdown",
      "metadata": {
        "id": "YoWk-Ga-akdZ"
      },
      "source": [
        ">>### Results"
      ]
    },
    {
      "cell_type": "code",
      "execution_count": null,
      "metadata": {
        "id": "tzzoLYNAHoI5"
      },
      "outputs": [],
      "source": [
        "def plot_prior_experiment(trainer_dict,to_save= False):\n",
        "  plt.figure(figsize=(8, 6), dpi=100)\n",
        "  plt.xlabel('epoch')\n",
        "  plt.ylabel('Errors')\n",
        "  plt.title('Modified Prior Valid on 10 samplings')\n",
        "  plt.grid()\n",
        "\n",
        "  for key, trainer in trainer_dict.items():\n",
        "    if key == '1.0':\n",
        "      plt.plot(np.arange(len(trainer))[1:], trainer[1:], '--', marker= \"x\")\n",
        "    else:\n",
        "      plt.plot(np.arange(len(trainer))[1:], trainer[1:], marker= \"x\")\n",
        "  plt.legend(trainer_dict.keys())\n",
        "\n",
        "  if to_save:\n",
        "      name = 'modified_prior_train_10_sampling'\n",
        "      name = name + '.png'\n",
        "      path = '/content/drive/MyDrive/Colab Notebooks/MasterThesis/MLP/img'\n",
        "      path = os.path.join(path, name)\n",
        "      print(path)\n",
        "      plt.savefig(path)"
      ]
    },
    {
      "cell_type": "code",
      "execution_count": null,
      "metadata": {
        "colab": {
          "base_uri": "https://localhost:8080/"
        },
        "id": "TszazG6ma6Uq",
        "outputId": "e046222c-67e3-4eea-c39e-21f3881ce909"
      },
      "outputs": [
        {
          "data": {
            "image/png": "[encoded data removed]",
            "text/plain": [
              "<Figure size 800x600 with 1 Axes>"
            ]
          },
          "metadata": {
            "needs_background": "light",
            "tags": []
          },
          "output_type": "display_data"
        }
      ],
      "source": [
        "plot_prior_experiment(results_prior_samplings)"
      ]
    },
    {
      "cell_type": "code",
      "execution_count": null,
      "metadata": {
        "id": "v44dSEcIMjIv"
      },
      "outputs": [],
      "source": [
        " "
      ]
    }
  ],
  "metadata": {
    "accelerator": "GPU",
    "colab": {
      "authorship_tag": "ABX9TyMTu+f+aDcAQVYgeNeT0pzt",
      "collapsed_sections": [
        "HdJqjGfXYnsV",
        "VlsBHjyb9Mo7",
        "1HCQPVQCfqXz"
      ],
      "include_colab_link": true,
      "machine_shape": "hm",
      "mount_file_id": "1cvqfcp4Ow7QFGdKzBBgLMgJzyPNCL9os",
      "name": "nnPU_experiment_from_chainer.ipynb",
      "provenance": [],
      "toc_visible": true
    },
    "kernelspec": {
      "display_name": "Python 3",
      "name": "python3"
    },
    "language_info": {
      "codemirror_mode": {
        "name": "ipython",
        "version": 3
      },
      "file_extension": ".py",
      "mimetype": "text/x-python",
      "name": "python",
      "nbconvert_exporter": "python",
      "pygments_lexer": "ipython3",
      "version": "3.10.9"
    }
  },
  "nbformat": 4,
  "nbformat_minor": 0
}
