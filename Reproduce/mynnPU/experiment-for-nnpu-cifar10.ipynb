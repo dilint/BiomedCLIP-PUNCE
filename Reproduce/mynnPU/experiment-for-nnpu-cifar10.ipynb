{
 "cells": [
  {
   "cell_type": "code",
   "execution_count": 1,
   "metadata": {},
   "outputs": [],
   "source": [
    "import os\n",
    "from torch.utils.data import DataLoader\n",
    "import torch\n",
    "import matplotlib.pyplot as plt\n",
    "import numpy as np\n",
    "from IPython.display import clear_output \n",
    "from torchvision import transforms\n",
    "import torch.optim.lr_scheduler as lr_scheduler\n",
    "\n",
    "from models.allConv import AllConv  \n",
    "from models.mlpContrastive import MLPContrastive\n",
    "from trainer.train import Trainer\n",
    "from losses.puLoss import PULoss\n",
    "from dataTools.mnist import MNIST_Chainer, load_dataset, CIFAR10_Chainer"
   ]
  },
  {
   "cell_type": "code",
   "execution_count": 2,
   "metadata": {},
   "outputs": [],
   "source": [
    "os.environ[\"CUDA_VISIBLE_DEVICES\"] = \"4, 5, 6, 7\""
   ]
  },
  {
   "attachments": {},
   "cell_type": "markdown",
   "metadata": {},
   "source": [
    "# 加载数据集"
   ]
  },
  {
   "cell_type": "code",
   "execution_count": 3,
   "metadata": {},
   "outputs": [
    {
     "name": "stdout",
     "output_type": "stream",
     "text": [
      "(50000, 3, 32, 32)\n",
      "training:(50000, 3, 32, 32) consist of 10000 labeled positive samples and 40000 unlabeled samples\n",
      "test:(10000, 3, 32, 32)\n"
     ]
    }
   ],
   "source": [
    "SEED = 0\n",
    "torch.manual_seed(SEED)\n",
    "device = torch.device('cuda' if torch.cuda.is_available() else 'cpu')\n",
    "kwargs = {'num_workers': 1, 'pin_memory': True} if torch.cuda.is_available() else {}\n",
    "XYtrain, XYtest, prior = load_dataset(\"cifar10\", 10000, 40000)\n",
    "prior = torch.tensor(prior)"
   ]
  },
  {
   "cell_type": "code",
   "execution_count": 4,
   "metadata": {},
   "outputs": [],
   "source": [
    "batch_size = 1024\n",
    "n_gpu = 2\n",
    "total_batch_size = n_gpu * batch_size\n",
    "\n",
    "dataset = {'train': CIFAR10_Chainer(XYtrain),\n",
    "           'valid': CIFAR10_Chainer(XYtest)}           \n",
    "dataloader = {'train': DataLoader(dataset['train'], batch_size= total_batch_size, shuffle= True, drop_last= True, **kwargs),       # drop_last= True\n",
    "              'validtrain': DataLoader(dataset['train'], batch_size= total_batch_size, shuffle= False, **kwargs),\n",
    "              'valid': DataLoader(dataset['valid'], batch_size= total_batch_size, shuffle= False, **kwargs)}\n",
    "\n",
    "# print(prior)\n",
    "lr = 0.01 #0.0001\n",
    "n_epochs   = 300\n",
    "kwargs2 = {\n",
    "          'train_Dataloader': dataloader['train'],\n",
    "          'valid_Dataloader': dataloader['valid'],\n",
    "          'validtrain_Dataloader': dataloader['validtrain'],\n",
    "          'epochs': n_epochs,   \n",
    "          'n_gpu': n_gpu,\n",
    "          'notebook': True,        \n",
    "          }\n",
    "# print(kwargs2)\n"
   ]
  },
  {
   "attachments": {},
   "cell_type": "markdown",
   "metadata": {},
   "source": [
    "# nnPU"
   ]
  },
  {
   "cell_type": "code",
   "execution_count": 5,
   "metadata": {},
   "outputs": [],
   "source": [
    "model = AllConv().to(device)\n",
    "optimizer = torch.optim.Adam(model.parameters(), lr= lr, weight_decay=0.005)\n",
    "scheduler = lr_scheduler.CosineAnnealingLR(optimizer, T_max=kwargs2[\"epochs\"])\n",
    "\n",
    "trainer_nnPU  = Trainer('nnPU', \n",
    "                    model,\n",
    "                    device, \n",
    "                    PULoss(prior= prior, nnPU= True),\n",
    "                    prior,\n",
    "                    optimizer,\n",
    "                    lr_scheduler = scheduler,\n",
    "                    **kwargs2)"
   ]
  },
  {
   "cell_type": "code",
   "execution_count": null,
   "metadata": {},
   "outputs": [],
   "source": [
    "trainer_nnPU.run_trainer()\n",
    "print(trainer_nnPU.criterion.number_of_negative_loss)\n",
    "clear_output()"
   ]
  },
  {
   "cell_type": "code",
   "execution_count": 6,
   "metadata": {},
   "outputs": [
    {
     "data": {
      "application/vnd.jupyter.widget-view+json": {
       "model_id": "8d232d1436ec4be987a4ada095d3fdff",
       "version_major": 2,
       "version_minor": 0
      },
      "text/plain": [
       "Validation:   0%|          | 0/5 [00:00<?, ?it/s]"
      ]
     },
     "metadata": {},
     "output_type": "display_data"
    },
    {
     "name": "stdout",
     "output_type": "stream",
     "text": [
      "The accuracy of this checkpooint is 0.8968\n"
     ]
    },
    {
     "name": "stderr",
     "output_type": "stream",
     "text": [
      "/root/anaconda3/envs/dist-pu/lib/python3.7/site-packages/numpy/core/fromnumeric.py:3441: RuntimeWarning: Mean of empty slice.\n",
      "  out=out, **kwargs)\n",
      "/root/anaconda3/envs/dist-pu/lib/python3.7/site-packages/numpy/core/_methods.py:189: RuntimeWarning: invalid value encountered in double_scalars\n",
      "  ret = ret.dtype.type(ret / rcount)\n"
     ]
    }
   ],
   "source": [
    "# trainer_nnPU.run_validate('/root/userfolder/projects/biomed-clip-puNCE/Reproduce/mynnPU/checkpoints/checkpoint_20230713152616.pth')\n"
   ]
  }
 ],
 "metadata": {
  "kernelspec": {
   "display_name": "pytorch",
   "language": "python",
   "name": "python3"
  },
  "language_info": {
   "codemirror_mode": {
    "name": "ipython",
    "version": 3
   },
   "file_extension": ".py",
   "mimetype": "text/x-python",
   "name": "python",
   "nbconvert_exporter": "python",
   "pygments_lexer": "ipython3",
   "version": "3.7.16"
  },
  "orig_nbformat": 4
 },
 "nbformat": 4,
 "nbformat_minor": 2
}
